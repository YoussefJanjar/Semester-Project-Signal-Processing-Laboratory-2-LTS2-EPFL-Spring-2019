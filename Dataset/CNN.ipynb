{
 "cells": [
  {
   "cell_type": "markdown",
   "metadata": {},
   "source": [
    "# Creation of the CNN"
   ]
  },
  {
   "cell_type": "markdown",
   "metadata": {},
   "source": [
    "### Importations "
   ]
  },
  {
   "cell_type": "code",
   "execution_count": 3,
   "metadata": {},
   "outputs": [
    {
     "name": "stdout",
     "output_type": "stream",
     "text": [
      "1.0.1.post2\n"
     ]
    }
   ],
   "source": [
    "import torch\n",
    "import matplotlib.pyplot as plt\n",
    "import numpy as np\n",
    "import pickle as pkl\n",
    "import pandas as pd\n",
    "import time\n",
    "import h5py\n",
    "\n",
    "\n",
    "from torch.autograd import Variable\n",
    "from torch import nn, optim\n",
    "from torch.nn import functional as F\n",
    "from matplotlib import gridspec\n",
    "import matplotlib.pyplot as plt\n",
    "import seaborn as sns\n",
    "from sklearn import metrics\n",
    "\n",
    "\n",
    "\n",
    "\n",
    "print(torch.__version__)"
   ]
  },
  {
   "cell_type": "markdown",
   "metadata": {},
   "source": [
    "### The Aim "
   ]
  },
  {
   "cell_type": "markdown",
   "metadata": {},
   "source": [
    "Some explation about the purpose of this project."
   ]
  },
  {
   "cell_type": "markdown",
   "metadata": {},
   "source": [
    "### The Data"
   ]
  },
  {
   "cell_type": "markdown",
   "metadata": {},
   "source": [
    "Some insight about the data."
   ]
  },
  {
   "cell_type": "code",
   "execution_count": 4,
   "metadata": {},
   "outputs": [
    {
     "data": {
      "text/html": [
       "<div>\n",
       "<style scoped>\n",
       "    .dataframe tbody tr th:only-of-type {\n",
       "        vertical-align: middle;\n",
       "    }\n",
       "\n",
       "    .dataframe tbody tr th {\n",
       "        vertical-align: top;\n",
       "    }\n",
       "\n",
       "    .dataframe thead th {\n",
       "        text-align: right;\n",
       "    }\n",
       "</style>\n",
       "<table border=\"1\" class=\"dataframe\">\n",
       "  <thead>\n",
       "    <tr style=\"text-align: right;\">\n",
       "      <th></th>\n",
       "      <th>Room</th>\n",
       "      <th>Array_position</th>\n",
       "      <th>Distance</th>\n",
       "      <th>Absorption</th>\n",
       "      <th>SNR</th>\n",
       "      <th>Audio_file</th>\n",
       "      <th>Phase_Matrix</th>\n",
       "      <th>Label</th>\n",
       "      <th>Angle</th>\n",
       "    </tr>\n",
       "  </thead>\n",
       "  <tbody>\n",
       "    <tr>\n",
       "      <th>1029</th>\n",
       "      <td>1</td>\n",
       "      <td>[4.39850161295675, 1.5702471407416707, 1.5]</td>\n",
       "      <td>2.0</td>\n",
       "      <td>0.537</td>\n",
       "      <td>[15]</td>\n",
       "      <td>/home/janjar/Dataset/Trainingset/audio_signals...</td>\n",
       "      <td>/home/janjar/Dataset/Trainingset/phase_matrix/...</td>\n",
       "      <td>30</td>\n",
       "      <td>150.0</td>\n",
       "    </tr>\n",
       "    <tr>\n",
       "      <th>1030</th>\n",
       "      <td>1</td>\n",
       "      <td>[2.0256773003933173, 1.2533760344507048, 1.5]</td>\n",
       "      <td>2.0</td>\n",
       "      <td>0.537</td>\n",
       "      <td>[5]</td>\n",
       "      <td>/home/janjar/Dataset/Trainingset/audio_signals...</td>\n",
       "      <td>/home/janjar/Dataset/Trainingset/phase_matrix/...</td>\n",
       "      <td>31</td>\n",
       "      <td>155.0</td>\n",
       "    </tr>\n",
       "    <tr>\n",
       "      <th>1031</th>\n",
       "      <td>1</td>\n",
       "      <td>[1.0487413744095253, 3.4388505167580092, 1.5]</td>\n",
       "      <td>2.0</td>\n",
       "      <td>0.537</td>\n",
       "      <td>[15]</td>\n",
       "      <td>/home/janjar/Dataset/Trainingset/audio_signals...</td>\n",
       "      <td>/home/janjar/Dataset/Trainingset/phase_matrix/...</td>\n",
       "      <td>32</td>\n",
       "      <td>160.0</td>\n",
       "    </tr>\n",
       "    <tr>\n",
       "      <th>1032</th>\n",
       "      <td>1</td>\n",
       "      <td>[2.8673261273287527, 4.995594558899781, 1.5]</td>\n",
       "      <td>2.0</td>\n",
       "      <td>0.537</td>\n",
       "      <td>[10]</td>\n",
       "      <td>/home/janjar/Dataset/Trainingset/audio_signals...</td>\n",
       "      <td>/home/janjar/Dataset/Trainingset/phase_matrix/...</td>\n",
       "      <td>33</td>\n",
       "      <td>165.0</td>\n",
       "    </tr>\n",
       "    <tr>\n",
       "      <th>1033</th>\n",
       "      <td>1</td>\n",
       "      <td>[4.875989504238883, 3.6932989109940606, 1.5]</td>\n",
       "      <td>2.0</td>\n",
       "      <td>0.537</td>\n",
       "      <td>[20]</td>\n",
       "      <td>/home/janjar/Dataset/Trainingset/audio_signals...</td>\n",
       "      <td>/home/janjar/Dataset/Trainingset/phase_matrix/...</td>\n",
       "      <td>34</td>\n",
       "      <td>170.0</td>\n",
       "    </tr>\n",
       "    <tr>\n",
       "      <th>1034</th>\n",
       "      <td>1</td>\n",
       "      <td>[4.1969684380281995, 1.3977308096439185, 1.5]</td>\n",
       "      <td>2.0</td>\n",
       "      <td>0.537</td>\n",
       "      <td>[5]</td>\n",
       "      <td>/home/janjar/Dataset/Trainingset/audio_signals...</td>\n",
       "      <td>/home/janjar/Dataset/Trainingset/phase_matrix/...</td>\n",
       "      <td>35</td>\n",
       "      <td>175.0</td>\n",
       "    </tr>\n",
       "    <tr>\n",
       "      <th>1035</th>\n",
       "      <td>1</td>\n",
       "      <td>[1.8030798618842838, 1.3976947285323391, 1.5]</td>\n",
       "      <td>2.0</td>\n",
       "      <td>0.537</td>\n",
       "      <td>[20]</td>\n",
       "      <td>/home/janjar/Dataset/Trainingset/audio_signals...</td>\n",
       "      <td>/home/janjar/Dataset/Trainingset/phase_matrix/...</td>\n",
       "      <td>36</td>\n",
       "      <td>180.0</td>\n",
       "    </tr>\n",
       "  </tbody>\n",
       "</table>\n",
       "</div>"
      ],
      "text/plain": [
       "     Room                                 Array_position  Distance  \\\n",
       "1029    1    [4.39850161295675, 1.5702471407416707, 1.5]       2.0   \n",
       "1030    1  [2.0256773003933173, 1.2533760344507048, 1.5]       2.0   \n",
       "1031    1  [1.0487413744095253, 3.4388505167580092, 1.5]       2.0   \n",
       "1032    1   [2.8673261273287527, 4.995594558899781, 1.5]       2.0   \n",
       "1033    1   [4.875989504238883, 3.6932989109940606, 1.5]       2.0   \n",
       "1034    1  [4.1969684380281995, 1.3977308096439185, 1.5]       2.0   \n",
       "1035    1  [1.8030798618842838, 1.3976947285323391, 1.5]       2.0   \n",
       "\n",
       "      Absorption   SNR                                         Audio_file  \\\n",
       "1029       0.537  [15]  /home/janjar/Dataset/Trainingset/audio_signals...   \n",
       "1030       0.537   [5]  /home/janjar/Dataset/Trainingset/audio_signals...   \n",
       "1031       0.537  [15]  /home/janjar/Dataset/Trainingset/audio_signals...   \n",
       "1032       0.537  [10]  /home/janjar/Dataset/Trainingset/audio_signals...   \n",
       "1033       0.537  [20]  /home/janjar/Dataset/Trainingset/audio_signals...   \n",
       "1034       0.537   [5]  /home/janjar/Dataset/Trainingset/audio_signals...   \n",
       "1035       0.537  [20]  /home/janjar/Dataset/Trainingset/audio_signals...   \n",
       "\n",
       "                                           Phase_Matrix Label  Angle  \n",
       "1029  /home/janjar/Dataset/Trainingset/phase_matrix/...    30  150.0  \n",
       "1030  /home/janjar/Dataset/Trainingset/phase_matrix/...    31  155.0  \n",
       "1031  /home/janjar/Dataset/Trainingset/phase_matrix/...    32  160.0  \n",
       "1032  /home/janjar/Dataset/Trainingset/phase_matrix/...    33  165.0  \n",
       "1033  /home/janjar/Dataset/Trainingset/phase_matrix/...    34  170.0  \n",
       "1034  /home/janjar/Dataset/Trainingset/phase_matrix/...    35  175.0  \n",
       "1035  /home/janjar/Dataset/Trainingset/phase_matrix/...    36  180.0  "
      ]
     },
     "execution_count": 4,
     "metadata": {},
     "output_type": "execute_result"
    }
   ],
   "source": [
    "Dataset = pd.read_pickle(\"/home/janjar/Dataset/Trainingset/Training_dataframe.pkl\")\n",
    "Dataset[1029:]"
   ]
  },
  {
   "cell_type": "markdown",
   "metadata": {},
   "source": [
    "### Usefull variables"
   ]
  },
  {
   "cell_type": "markdown",
   "metadata": {},
   "source": [
    "#### Defining our number of samples."
   ]
  },
  {
   "cell_type": "code",
   "execution_count": 5,
   "metadata": {},
   "outputs": [
    {
     "name": "stdout",
     "output_type": "stream",
     "text": [
      "1036\n"
     ]
    }
   ],
   "source": [
    "nb_freq = 256\n",
    "nb_time = 360\n",
    "nb_mics = 4\n",
    "number_of_rooms = Dataset.shape[0]\n",
    "print(number_of_rooms)"
   ]
  },
  {
   "cell_type": "markdown",
   "metadata": {},
   "source": [
    "## Treating the Training Data."
   ]
  },
  {
   "cell_type": "markdown",
   "metadata": {},
   "source": [
    "### Loading the phase matrices in tensors with respect to the indexing shown in the dataframe."
   ]
  },
  {
   "cell_type": "code",
   "execution_count": 6,
   "metadata": {},
   "outputs": [
    {
     "data": {
      "text/plain": [
       "(1036, 4, 256, 360)"
      ]
     },
     "execution_count": 6,
     "metadata": {},
     "output_type": "execute_result"
    }
   ],
   "source": [
    "#path containing the Training data on the machine you are working on.\n",
    "#path = \"/home/janjar/Dataset/Trainingset/\"\n",
    "\n",
    "data_matrix = np.zeros([number_of_rooms,nb_mics,nb_freq,nb_time])\n",
    "for i in range(number_of_rooms):\n",
    "    fileName_matrix = Dataset.iloc[i]['Phase_Matrix']\n",
    "    #print(fileName_matrix)\n",
    "    fileObject2 = open(fileName_matrix, 'rb')\n",
    "    matrix_loaded = pkl.load(fileObject2)\n",
    "    fileObject2.close()\n",
    "    data_matrix[i] = matrix_loaded\n",
    "data_matrix.shape    "
   ]
  },
  {
   "cell_type": "code",
   "execution_count": 7,
   "metadata": {},
   "outputs": [
    {
     "data": {
      "text/plain": [
       "torch.Size([1036, 4, 256, 360])"
      ]
     },
     "execution_count": 7,
     "metadata": {},
     "output_type": "execute_result"
    }
   ],
   "source": [
    "data_matrix = torch.from_numpy(data_matrix)\n",
    "data_matrix = data_matrix.view(-1,nb_mics,nb_freq,nb_time)\n",
    "data_matrix = data_matrix.type('torch.FloatTensor')\n",
    "data_matrix.shape"
   ]
  },
  {
   "cell_type": "code",
   "execution_count": 8,
   "metadata": {},
   "outputs": [],
   "source": [
    "final_data = torch.ones([number_of_rooms*nb_time,nb_mics,nb_freq], dtype=torch.float64)"
   ]
  },
  {
   "cell_type": "code",
   "execution_count": 10,
   "metadata": {},
   "outputs": [],
   "source": [
    "i = 0\n",
    "for setup in range(number_of_rooms):\n",
    "     for nb_tf in range(nb_time):\n",
    "        final_data[i] = data_matrix[setup,:,:,nb_tf]\n",
    "        i = i+1   "
   ]
  },
  {
   "cell_type": "code",
   "execution_count": 11,
   "metadata": {},
   "outputs": [
    {
     "data": {
      "text/plain": [
       "torch.Size([372960, 4, 256])"
      ]
     },
     "execution_count": 11,
     "metadata": {},
     "output_type": "execute_result"
    }
   ],
   "source": [
    "final_data.shape"
   ]
  },
  {
   "cell_type": "markdown",
   "metadata": {},
   "source": [
    "## Treating the Training Labels."
   ]
  },
  {
   "cell_type": "markdown",
   "metadata": {},
   "source": [
    "### Function that reshape a label into the right format for the data_targets."
   ]
  },
  {
   "cell_type": "code",
   "execution_count": 12,
   "metadata": {},
   "outputs": [],
   "source": [
    "def prep_targets(index,label):\n",
    "    target = torch.tensor(label)\n",
    "    target = target.expand(nb_time,1)\n",
    "    return target"
   ]
  },
  {
   "cell_type": "code",
   "execution_count": 13,
   "metadata": {},
   "outputs": [
    {
     "data": {
      "text/plain": [
       "torch.Size([1036])"
      ]
     },
     "execution_count": 13,
     "metadata": {},
     "output_type": "execute_result"
    }
   ],
   "source": [
    "data_targets = torch.zeros([number_of_rooms], dtype=torch.float64)\n",
    "for i in range(number_of_rooms):\n",
    "    data_targets[i] = Dataset.iloc[i]['Label']\n",
    "data_targets.shape   "
   ]
  },
  {
   "cell_type": "code",
   "execution_count": 14,
   "metadata": {},
   "outputs": [
    {
     "data": {
      "text/plain": [
       "1036"
      ]
     },
     "execution_count": 14,
     "metadata": {},
     "output_type": "execute_result"
    }
   ],
   "source": [
    "len(data_targets)"
   ]
  },
  {
   "cell_type": "code",
   "execution_count": 15,
   "metadata": {},
   "outputs": [],
   "source": [
    "final_targets = torch.ones([number_of_rooms*nb_time], dtype=torch.float64)\n",
    "test = []\n",
    "for i in range(number_of_rooms):\n",
    "    curr = [data_targets[i].item()]*nb_time\n",
    "    test.append(curr)\n",
    "    "
   ]
  },
  {
   "cell_type": "code",
   "execution_count": 16,
   "metadata": {},
   "outputs": [
    {
     "data": {
      "text/plain": [
       "torch.Size([372960])"
      ]
     },
     "execution_count": 16,
     "metadata": {},
     "output_type": "execute_result"
    }
   ],
   "source": [
    "final_targets = torch.FloatTensor(test)\n",
    "final_targets = final_targets.flatten()\n",
    "final_targets.shape"
   ]
  },
  {
   "cell_type": "code",
   "execution_count": 17,
   "metadata": {},
   "outputs": [],
   "source": [
    "def unison_shuffled_copies(a, b):\n",
    "    assert len(a) == len(b)\n",
    "    p = np.random.permutation(len(a))\n",
    "    return a[p], b[p]"
   ]
  },
  {
   "cell_type": "code",
   "execution_count": 18,
   "metadata": {},
   "outputs": [],
   "source": [
    "final_data,final_targets = unison_shuffled_copies(final_data,final_targets)"
   ]
  },
  {
   "cell_type": "markdown",
   "metadata": {},
   "source": [
    "## Treating the Test Data."
   ]
  },
  {
   "cell_type": "code",
   "execution_count": 27,
   "metadata": {},
   "outputs": [
    {
     "data": {
      "text/plain": [
       "((7281, 1, 256, 4),\n",
       " (7281, 37),\n",
       " torch.Size([7281, 1, 256, 4]),\n",
       " torch.Size([7281, 37]))"
      ]
     },
     "execution_count": 27,
     "metadata": {},
     "output_type": "execute_result"
    }
   ],
   "source": [
    "Test_data = h5py.File('DOA_test.hdf5')\n",
    "X_test = Test_data['features']                   # These are the phase maps for each time frame\n",
    "Y_test = Test_data['targets']\n",
    "X_test = np.array(X_test)                        # size = (Number of time frames,1,256,4)\n",
    "Y_test = np.array(Y_test)\n",
    "X_test,Y_test = unison_shuffled_copies(X_test,Y_test)\n",
    "Xtest = torch.from_numpy(X_test)\n",
    "Ytest = torch.from_numpy(Y_test)\n",
    "\n",
    "X_test.shape, Y_test.shape,Xtest.shape,Ytest.shape"
   ]
  },
  {
   "cell_type": "markdown",
   "metadata": {},
   "source": [
    "# Architecture 1.0 : vanilla CNN for DOA "
   ]
  },
  {
   "cell_type": "markdown",
   "metadata": {},
   "source": [
    " In this section, we will focus on building a vanilla CNN in order to recognize the directions of arrival of the   sound in a specific room. Once done, we will then compare \"by hand\" the labelel dataset to the predicted values. This is the most basic setup and will try to improve latter."
   ]
  },
  {
   "cell_type": "markdown",
   "metadata": {},
   "source": [
    "## 1.1 Creating Models"
   ]
  },
  {
   "cell_type": "code",
   "execution_count": 28,
   "metadata": {},
   "outputs": [],
   "source": [
    "class Net(nn.Module):\n",
    "    def __init__(self,nb_hidden = 50, n = 4):\n",
    "        super(Net, self).__init__()\n",
    "        self.conv1 = nn.Conv2d(1, 8, kernel_size=2)\n",
    "        self.conv2 = nn.Conv2d(8, 8, kernel_size=2)\n",
    "        self.conv3 = nn.Conv2d(8 ,8, kernel_size=2)\n",
    "        self.fc1 = nn.Linear(390096, nb_hidden)# (1x8064) being the dim of the censor obtained by flattening the output of the 3rd CL.\n",
    "        self.dropout = nn.Dropout(0.2)\n",
    "        self.fc2 = nn.Linear(nb_hidden*4,nb_hidden)\n",
    "        self.fc3 = nn.Linear(nb_hidden,2)\n",
    "        \n",
    "    \n",
    "    def forward(self, x, n):\n",
    "        #print(\"What actually enters the model:\",x.shape)\n",
    "        test =  x[:,:,0,:,:].view(-1,1,129,390)\n",
    "        #print(\"Shape of test:\",test.shape)\n",
    "        output = torch.zeros([390096,1])\n",
    "        for i in range(n):\n",
    "            \n",
    "            y = x[:,:,i,:,:].view(-1,1,129,390)\n",
    "            y = F.relu(self.conv1(y)) \n",
    "            y = F.relu(self.conv2(y))\n",
    "            y = F.relu(self.conv3(y))\n",
    "            y = F.relu(self.fc1(y.view(-1, 390096)))\n",
    "            \n",
    "            if (i==0):\n",
    "                output = y\n",
    "            else:\n",
    "                output = torch.cat((output,y),1)\n",
    "                \n",
    "        output = F.relu(self.fc2(output))\n",
    "        output = self.dropout(output)\n",
    "        output = F.softmax(self.fc3(output))        \n",
    "\n",
    "        return output            "
   ]
  },
  {
   "cell_type": "code",
   "execution_count": 29,
   "metadata": {},
   "outputs": [],
   "source": [
    "class ws_Net(nn.Module):\n",
    "    def __init__(self,nb_hidden = 50, n = 390 ):\n",
    "        super(ws_Net, self).__init__()\n",
    "        self.conv1 = nn.Conv2d(1, 8, kernel_size=2)\n",
    "        self.conv2 = nn.Conv2d(8, 8, kernel_size=2)\n",
    "        self.conv3 = nn.Conv2d(8 ,8, kernel_size=2)\n",
    "        self.fc1 = nn.Linear(1008, nb_hidden)# (1x1008) being the dim of the censor obtained by flattening the output of the 3rd CL.\n",
    "        self.fc2 = nn.Linear(nb_hidden*n,512)\n",
    "        self.fc3 = nn.Linear(512,2)\n",
    "        \n",
    "    \n",
    "    def forward(self, x, n):\n",
    "        \n",
    "        #print(\"What actually enters the model:\",x.shape)\n",
    "        test =  x[:,:,:,:,0].view(-1,1,4,129)\n",
    "        #print(\"Shape of test:\",test.shape)\n",
    "        output = torch.zeros([1008,1])\n",
    "        \n",
    "        for i in range(n):\n",
    "            y = x[:,:,:,:,i].view(-1,1,4,129)\n",
    "            y = F.relu(self.conv1(y)) \n",
    "            y = F.relu(self.conv2(y))\n",
    "            y = F.relu(self.conv3(y))\n",
    "            y = F.relu(self.fc1(y.view(-1, 1008)))\n",
    "            \n",
    "            if (i==0):\n",
    "                output = y\n",
    "            else:\n",
    "                output = torch.cat((output,y),1)\n",
    "                \n",
    "        #print(\"Shape of the out of fc1:\",output.shape)        \n",
    "                \n",
    "        output = F.relu(self.fc2(output))\n",
    "        \n",
    "        #print(\"Shape of the out of fc2:\",output.shape) \n",
    "\n",
    "        output = F.softmax(self.fc3(output))   \n",
    "        \n",
    "        return output  "
   ]
  },
  {
   "cell_type": "code",
   "execution_count": 228,
   "metadata": {},
   "outputs": [],
   "source": [
    "class SimpleModel(nn.Module):\n",
    "    \n",
    "    def __init__(self, nb_hidden=512,phase_map=64):\n",
    "        super(SimpleModel, self).__init__()\n",
    "        self.cl1 = nn.Conv2d(1, phase_map, kernel_size=2)\n",
    "        self.cl2 = nn.Conv2d(phase_map, phase_map, kernel_size=2)\n",
    "        self.cl3 = nn.Conv2d(phase_map, phase_map, kernel_size=2)\n",
    "        self.dropout = nn.Dropout(0.5)\n",
    "        self.fc1 = nn.Linear((nb_freq-3)*phase_map,nb_hidden)\n",
    "        self.dropout = nn.Dropout(0.5)\n",
    "        self.fc2 = nn.Linear(nb_hidden,nb_hidden)\n",
    "        self.fc3 = nn.Linear(nb_hidden,37)\n",
    " \n",
    " \n",
    "    def forward(self, x):\n",
    "       \n",
    "        x = F.relu(self.cl1(x))\n",
    "        x = F.relu(self.cl2(x))\n",
    "        x = F.relu(self.cl3(x))\n",
    "        x = self.dropout(x)\n",
    "        x = F.relu(self.fc1(x.view(-1, (nb_freq-3)*64)))\n",
    "        x = self.dropout(x)\n",
    "        x = F.relu(self.fc2(x))\n",
    "        x = self.fc3(x)\n",
    "        return x\n",
    "\n",
    "    def compute_nb_errors(self,model, data_input, data_target, mini_batch_size):\n",
    "\n",
    "        nb_data_errors = 0\n",
    "        for b in range(0, data_input.size(0), mini_batch_size):\n",
    "            a = model(data_input.narrow(0, b, mini_batch_size))\n",
    "            val = torch.max(a,1)[1]\n",
    "            for k in range(mini_batch_size):\n",
    "                if data_target.data[b + k] != val[k]:\n",
    "                    nb_data_errors = nb_data_errors + 1\n",
    "\n",
    "        return nb_data_errors"
   ]
  },
  {
   "cell_type": "markdown",
   "metadata": {},
   "source": [
    "### Preparing the Data"
   ]
  },
  {
   "cell_type": "code",
   "execution_count": 229,
   "metadata": {},
   "outputs": [],
   "source": [
    "def prep_input_vanilla(train_input):\n",
    "    new_train_input = train_input.view(-1,1,nb_mics,nb_freq)\n",
    "    return new_train_input"
   ]
  },
  {
   "cell_type": "code",
   "execution_count": 230,
   "metadata": {},
   "outputs": [],
   "source": [
    "def prep_test_input(train_input):\n",
    "    new_train_input = train_input.view(-1,1,nb_freq,nb_mics)\n",
    "    return new_train_input"
   ]
  },
  {
   "cell_type": "code",
   "execution_count": 231,
   "metadata": {},
   "outputs": [],
   "source": [
    "def prep_input_model2(train_input):\n",
    "    new_train_input = train_input.view(-1,1,nb_mics,nb_freq,nb_time)\n",
    "    return new_train_input"
   ]
  },
  {
   "cell_type": "code",
   "execution_count": 232,
   "metadata": {},
   "outputs": [
    {
     "data": {
      "text/plain": [
       "torch.Size([372960, 1, 4, 256])"
      ]
     },
     "execution_count": 232,
     "metadata": {},
     "output_type": "execute_result"
    }
   ],
   "source": [
    "train_data = prep_input_vanilla(final_data)\n",
    "train_data = train_data.float()\n",
    "train_data.shape"
   ]
  },
  {
   "cell_type": "code",
   "execution_count": 233,
   "metadata": {},
   "outputs": [
    {
     "data": {
      "text/plain": [
       "torch.Size([1036, 1, 4, 256, 360])"
      ]
     },
     "execution_count": 233,
     "metadata": {},
     "output_type": "execute_result"
    }
   ],
   "source": [
    "train_data2 = prep_input_model2(data_matrix)\n",
    "train_data2.shape"
   ]
  },
  {
   "cell_type": "code",
   "execution_count": 234,
   "metadata": {},
   "outputs": [
    {
     "data": {
      "text/plain": [
       "tensor([[[ 0.0000,  0.0000,  0.0000,  ...,  0.1349, -2.2863,  1.5819],\n",
       "         [-1.5529,  3.1098,  0.5469,  ..., -1.3438,  2.7477,  0.3691],\n",
       "         [-0.2782,  2.7755, -0.5819,  ...,  0.3343, -0.2837,  1.0001],\n",
       "         [ 3.1078, -2.6808, -2.7763,  ..., -1.1026,  0.6450, -0.1436]]])"
      ]
     },
     "execution_count": 234,
     "metadata": {},
     "output_type": "execute_result"
    }
   ],
   "source": [
    "test_data = prep_input_vanilla(Xtest[0:7280])\n",
    "test_data = test_data.float()\n",
    "test_data[0]"
   ]
  },
  {
   "cell_type": "markdown",
   "metadata": {},
   "source": [
    "### Turning test labels from Hot-One to Index"
   ]
  },
  {
   "cell_type": "code",
   "execution_count": 235,
   "metadata": {},
   "outputs": [
    {
     "data": {
      "text/plain": [
       "tensor(24)"
      ]
     },
     "execution_count": 235,
     "metadata": {},
     "output_type": "execute_result"
    }
   ],
   "source": [
    "_,test_targets = Ytest[0:7280].max(dim=1)\n",
    "test_targets[3004]"
   ]
  },
  {
   "cell_type": "markdown",
   "metadata": {},
   "source": [
    "train_data = prep_input_model2(data_matrix)\n",
    "train_data.shape"
   ]
  },
  {
   "cell_type": "code",
   "execution_count": 236,
   "metadata": {},
   "outputs": [],
   "source": [
    "def prep_labels_vanilla(train_input):\n",
    "    new_train_input = train_input.view(-1)\n",
    "    return new_train_input"
   ]
  },
  {
   "cell_type": "code",
   "execution_count": 40,
   "metadata": {},
   "outputs": [
    {
     "data": {
      "text/plain": [
       "(torch.Size([372960, 1, 4, 256]),\n",
       " torch.Size([1036, 1, 4, 256, 360]),\n",
       " torch.Size([372960]),\n",
       " torch.Size([1036]))"
      ]
     },
     "execution_count": 40,
     "metadata": {},
     "output_type": "execute_result"
    }
   ],
   "source": [
    "train_targets = prep_labels_vanilla(final_targets)\n",
    "train_targets = train_targets.to(dtype=torch.int64)\n",
    "train_targets2 =  prep_labels_vanilla(data_targets)\n",
    "train_data, train_targets, train_data2, train_targets2 = Variable(train_data), Variable(train_targets), Variable(train_data2),Variable(train_targets2)\n",
    "train_data.shape,train_data2.shape,train_targets.shape,train_targets2.shape"
   ]
  },
  {
   "cell_type": "markdown",
   "metadata": {},
   "source": [
    "### Spliting the Training Data into Training/Validation."
   ]
  },
  {
   "cell_type": "code",
   "execution_count": 253,
   "metadata": {},
   "outputs": [
    {
     "data": {
      "text/plain": [
       "(torch.Size([1000, 1, 4, 256]),\n",
       " torch.Size([7960, 1, 4, 256]),\n",
       " torch.Size([1000]),\n",
       " torch.Size([7960]),\n",
       " 1000,\n",
       " 7960)"
      ]
     },
     "execution_count": 253,
     "metadata": {},
     "output_type": "execute_result"
    }
   ],
   "source": [
    "training_data = train_data[0:1000]\n",
    "training_targets = train_targets[0:1000]\n",
    "validation_data = train_data[365000:]\n",
    "validation_targets = train_targets[365000:]\n",
    "training_data.shape, validation_data.shape, training_targets.shape, validation_targets.shape,len(training_targets),len(validation_targets)"
   ]
  },
  {
   "cell_type": "markdown",
   "metadata": {},
   "source": [
    "### End of Sanity check."
   ]
  },
  {
   "cell_type": "markdown",
   "metadata": {},
   "source": [
    "## 1.2 Training the model"
   ]
  },
  {
   "cell_type": "code",
   "execution_count": 266,
   "metadata": {},
   "outputs": [],
   "source": [
    "model = Net()"
   ]
  },
  {
   "cell_type": "code",
   "execution_count": 267,
   "metadata": {},
   "outputs": [],
   "source": [
    "model1 = ws_Net()"
   ]
  },
  {
   "cell_type": "code",
   "execution_count": 268,
   "metadata": {},
   "outputs": [],
   "source": [
    "model2 = (SimpleModel()).float()"
   ]
  },
  {
   "cell_type": "code",
   "execution_count": 269,
   "metadata": {},
   "outputs": [
    {
     "data": {
      "text/plain": [
       "8605669"
      ]
     },
     "execution_count": 269,
     "metadata": {},
     "output_type": "execute_result"
    }
   ],
   "source": [
    "pytorch_total_params = sum(p.numel() for p in model2.parameters() if p.requires_grad)\n",
    "pytorch_total_params"
   ]
  },
  {
   "cell_type": "code",
   "execution_count": 270,
   "metadata": {},
   "outputs": [],
   "source": [
    "mini_batch_size = 30\n",
    "nb_epochs = 100\n",
    "eta = 0.001 #learning rate\n",
    "criterion = torch.nn.CrossEntropyLoss() #Cross Entropy\n",
    "optimizer = torch.optim.Adam(model2.parameters(), lr = eta, weight_decay=0.001) #ADAM\n",
    "optim_no_wd = torch.optim.Adam(model2.parameters(), lr = eta)\n",
    "net_ch = 4\n",
    "ws_ch = 390"
   ]
  },
  {
   "cell_type": "markdown",
   "metadata": {},
   "source": [
    "### Need to figure out how to use mini-batches to gain time in this configuration.\n",
    "#### train_model is the method used to update the weights."
   ]
  },
  {
   "cell_type": "code",
   "execution_count": 263,
   "metadata": {},
   "outputs": [],
   "source": [
    "def train_model_3(model, optimizer1, nb_epochs, train_input, train_target ,mini_batch_size,n):\n",
    "\n",
    "    start = time.time()\n",
    "    for e in range(0,nb_epochs):\n",
    "        start_ep = time.time()\n",
    "        for b in range(0, train_input.size(0), mini_batch_size):\n",
    "            start = time.time()\n",
    "            #print(\"Shape of the input of the model:\",train_input.narrow(0, b, mini_batch_size).shape)\n",
    "            output = model(train_input.narrow(0, b, mini_batch_size),n)\n",
    "            target = train_target.narrow(0, b, mini_batch_size)\n",
    "            _,indices = output.max(1)\n",
    "            #print(\"batch :\",b,\" Output :\",output,\"Targets:\", target)\n",
    "            loss = criterion(output,target.long())\n",
    "            optimizer.zero_grad()\n",
    "            loss.backward()\n",
    "            optimizer.step()   \n",
    "        if (e == 0):\n",
    "            end_ep = time.time()\n",
    "            print(\"Time for 1 epochs is :{:5}\".format(-(start_ep-end_ep)))\n",
    "            \n",
    "        print(\"Loss for epoch{:3} is {:5} \".format(e,loss.data.item()))\n",
    "            \n",
    "    end = time.time()\n",
    "    print(\"Time the hole training is :{:5}\".format(-(start-end)))\n",
    "\n",
    "       \n",
    "\n",
    "    "
   ]
  },
  {
   "cell_type": "code",
   "execution_count": 272,
   "metadata": {},
   "outputs": [],
   "source": [
    "def train_simple_model(model, optimizer, nb_epochs, train_input, train_target ,mini_batch_size):\n",
    "\n",
    "    start = time.time()\n",
    "    losses = []\n",
    "    for e in range(0,nb_epochs):\n",
    "        start_ep = time.time()\n",
    "        train_input,train_target = unison_shuffled_copies(train_input,train_target)\n",
    "        for b in range(0, train_input.size(0), mini_batch_size):\n",
    "            start = time.time()\n",
    "            #print(\"Shape of the input of the model:\",train_input.narrow(0, b, mini_batch_size).shape)\n",
    "            output = model((train_input.narrow(0, b, mini_batch_size)).float())\n",
    "            target = train_target.narrow(0, b, mini_batch_size)\n",
    "            _,indices = output.max(1)\n",
    "            #print(\"batch :\",b,\" Output :\",indices,\"Targets:\", target)\n",
    "            #print(output.shape,target.shape)\n",
    "            loss = criterion(output,target)\n",
    "            optimizer.zero_grad()\n",
    "            loss.backward()\n",
    "            optimizer.step()\n",
    "        if (e == 0):\n",
    "            end_ep = time.time()\n",
    "            print(\"Time for 1 epochs is :{:5}\".format(-(start_ep-end_ep)))\n",
    "            \n",
    "        print(\"Loss for epoch{:3} is {:5} \".format(e,loss.data.item()))\n",
    "        losses.append(loss.data.item())   \n",
    "    end = time.time()\n",
    "    print(\"Time the hole training is :{:5}\".format(-(start-end)))\n",
    "    return losses\n",
    "\n",
    "       "
   ]
  },
  {
   "cell_type": "code",
   "execution_count": 273,
   "metadata": {},
   "outputs": [
    {
     "name": "stdout",
     "output_type": "stream",
     "text": [
      "Time for 1 epochs is :8.697235345840454\n",
      "Loss for epoch  0 is 2.2114689350128174 \n",
      "Loss for epoch  1 is 1.8287593126296997 \n",
      "Loss for epoch  2 is 0.5783843994140625 \n",
      "Loss for epoch  3 is 0.24865855276584625 \n",
      "Loss for epoch  4 is 0.05395997315645218 \n",
      "Loss for epoch  5 is 0.06532834470272064 \n",
      "Loss for epoch  6 is 0.26228854060173035 \n",
      "Loss for epoch  7 is 0.12573477625846863 \n",
      "Loss for epoch  8 is 0.026700815185904503 \n",
      "Loss for epoch  9 is 0.015720795840024948 \n",
      "Loss for epoch 10 is 0.07035230100154877 \n",
      "Loss for epoch 11 is 0.11976532638072968 \n",
      "Loss for epoch 12 is 0.07391288876533508 \n",
      "Loss for epoch 13 is 0.06362795829772949 \n",
      "Loss for epoch 14 is 0.16824688017368317 \n",
      "Loss for epoch 15 is 0.02579859085381031 \n",
      "Loss for epoch 16 is 0.2639557719230652 \n",
      "Loss for epoch 17 is 0.032956503331661224 \n",
      "Loss for epoch 18 is 0.23973461985588074 \n",
      "Loss for epoch 19 is 0.01770791970193386 \n",
      "Loss for epoch 20 is 0.046083562076091766 \n",
      "Loss for epoch 21 is 0.017593447118997574 \n",
      "Loss for epoch 22 is 0.10119041055440903 \n",
      "Loss for epoch 23 is 0.0035986900329589844 \n",
      "Loss for epoch 24 is 0.01812412030994892 \n",
      "Loss for epoch 25 is 0.04453611373901367 \n",
      "Loss for epoch 26 is 0.01395716704428196 \n",
      "Loss for epoch 27 is 0.07606738060712814 \n",
      "Loss for epoch 28 is 0.053021542727947235 \n",
      "Loss for epoch 29 is 0.03459472581744194 \n",
      "Loss for epoch 30 is 0.008755715563893318 \n",
      "Loss for epoch 31 is 0.02836562879383564 \n",
      "Loss for epoch 32 is 0.07015228271484375 \n",
      "Loss for epoch 33 is 0.022759469226002693 \n",
      "Loss for epoch 34 is 0.030023939907550812 \n",
      "Loss for epoch 35 is 0.07842609286308289 \n",
      "Loss for epoch 36 is 0.0904393196105957 \n",
      "Loss for epoch 37 is 0.19186566770076752 \n",
      "Loss for epoch 38 is 0.16937999427318573 \n",
      "Loss for epoch 39 is 0.2578335404396057 \n",
      "Loss for epoch 40 is 0.15312083065509796 \n",
      "Loss for epoch 41 is 0.049218080937862396 \n",
      "Loss for epoch 42 is 0.03406599536538124 \n",
      "Loss for epoch 43 is 0.009531243704259396 \n",
      "Loss for epoch 44 is 0.05958271771669388 \n",
      "Loss for epoch 45 is 0.040551409125328064 \n",
      "Loss for epoch 46 is 0.029934357851743698 \n",
      "Loss for epoch 47 is 0.0017589092021808028 \n",
      "Loss for epoch 48 is 0.004411109257489443 \n",
      "Loss for epoch 49 is 0.03683670237660408 \n",
      "Loss for epoch 50 is 0.2510177195072174 \n",
      "Loss for epoch 51 is 0.17348267138004303 \n",
      "Loss for epoch 52 is 0.028106117621064186 \n",
      "Loss for epoch 53 is 0.013074827380478382 \n",
      "Loss for epoch 54 is 0.16805431246757507 \n",
      "Loss for epoch 55 is 0.05866362154483795 \n",
      "Loss for epoch 56 is 0.0069563863798975945 \n",
      "Loss for epoch 57 is 0.09755304455757141 \n",
      "Loss for epoch 58 is 0.10625934600830078 \n",
      "Loss for epoch 59 is 0.31765738129615784 \n",
      "Loss for epoch 60 is 0.023686934262514114 \n",
      "Loss for epoch 61 is 0.10805190354585648 \n",
      "Loss for epoch 62 is 0.026425616815686226 \n",
      "Loss for epoch 63 is 0.006210629362612963 \n",
      "Loss for epoch 64 is 0.0011617024429142475 \n",
      "Loss for epoch 65 is 0.004187996964901686 \n",
      "Loss for epoch 66 is 0.026757685467600822 \n",
      "Loss for epoch 67 is 0.10015023499727249 \n",
      "Loss for epoch 68 is 0.006381034851074219 \n",
      "Loss for epoch 69 is 0.15188197791576385 \n",
      "Loss for epoch 70 is 0.004028351977467537 \n",
      "Loss for epoch 71 is 0.022716792300343513 \n",
      "Loss for epoch 72 is 0.006153519731014967 \n",
      "Loss for epoch 73 is 0.02812883071601391 \n",
      "Loss for epoch 74 is 0.06659914553165436 \n",
      "Loss for epoch 75 is 0.0004063606320414692 \n",
      "Loss for epoch 76 is 0.0059299468994140625 \n",
      "Loss for epoch 77 is 0.0012238502968102694 \n",
      "Loss for epoch 78 is 0.23323988914489746 \n",
      "Loss for epoch 79 is 0.0020866075064986944 \n",
      "Loss for epoch 80 is 0.025575382634997368 \n",
      "Loss for epoch 81 is 0.012490876950323582 \n",
      "Loss for epoch 82 is 0.07981990277767181 \n",
      "Loss for epoch 83 is 0.4185229539871216 \n",
      "Loss for epoch 84 is 0.01643986627459526 \n",
      "Loss for epoch 85 is 0.0233762264251709 \n",
      "Loss for epoch 86 is 0.01180720329284668 \n",
      "Loss for epoch 87 is 0.01002477016299963 \n",
      "Loss for epoch 88 is 0.07581960409879684 \n",
      "Loss for epoch 89 is 0.00042721431236714125 \n",
      "Loss for epoch 90 is 0.003443209221586585 \n",
      "Loss for epoch 91 is 0.0036874772049486637 \n",
      "Loss for epoch 92 is 0.04546952247619629 \n",
      "Loss for epoch 93 is 0.0029894670005887747 \n",
      "Loss for epoch 94 is 0.0696554034948349 \n",
      "Loss for epoch 95 is 0.00032520294189453125 \n",
      "Loss for epoch 96 is 0.004661782644689083 \n",
      "Loss for epoch 97 is 0.0035817145835608244 \n",
      "Loss for epoch 98 is 0.013705206103622913 \n",
      "Loss for epoch 99 is 0.08195430785417557 \n",
      "Time the hole training is :0.3037993907928467\n"
     ]
    }
   ],
   "source": [
    "losses = train_simple_model(model2,optimizer,nb_epochs,test_data[0:3000],test_targets[0:3000],mini_batch_size)"
   ]
  },
  {
   "cell_type": "code",
   "execution_count": 286,
   "metadata": {},
   "outputs": [
    {
     "data": {
      "text/plain": [
       "tensor([12, 21,  6, 15,  6, 24, 18,  9, 21,  9])"
      ]
     },
     "execution_count": 286,
     "metadata": {},
     "output_type": "execute_result"
    }
   ],
   "source": [
    "test = model2(test_data[2010:2020])\n",
    "_,pred = test.max(1)\n",
    "pred"
   ]
  },
  {
   "cell_type": "markdown",
   "metadata": {},
   "source": [
    "## Doing the prediction with the trained model provided by the paper."
   ]
  },
  {
   "cell_type": "code",
   "execution_count": 122,
   "metadata": {},
   "outputs": [],
   "source": [
    "from __future__ import print_function\n",
    "import numpy as np\n",
    "import h5py\n",
    "import tensorflow as tf\n",
    "from keras.models import model_from_json, load_model\n",
    "from keras.optimizers import SGD, Adam, RMSprop,Adagrad\n",
    "import scipy.io\n",
    "from sklearn.metrics import classification_report\n",
    "from sklearn.metrics import accuracy_score"
   ]
  },
  {
   "cell_type": "code",
   "execution_count": 53,
   "metadata": {},
   "outputs": [
    {
     "name": "stdout",
     "output_type": "stream",
     "text": [
      "<class 'keras.engine.training.Model'>\n"
     ]
    },
    {
     "name": "stderr",
     "output_type": "stream",
     "text": [
      "/home/janjar/test/lib/python3.5/site-packages/keras/utils/conv_utils.py:82: FutureWarning: Using a non-tuple sequence for multidimensional indexing is deprecated; use `arr[tuple(seq)]` instead of `arr[seq]`. In the future this will be interpreted as an array index, `arr[np.array(seq)]`, which will result either in an error or a different result.\n",
      "  return np.copy(kernel[slices])\n"
     ]
    },
    {
     "name": "stdout",
     "output_type": "stream",
     "text": [
      "Loaded model from disk\n"
     ]
    }
   ],
   "source": [
    "# Load trained model from the json file\n",
    "\n",
    "json_file = open('Model_sin_CNN.json', 'r')\n",
    "loaded_model_json = json_file.read()\n",
    "json_file.close()\n",
    "loaded_model = model_from_json(loaded_model_json)\n",
    "print(type(loaded_model))\n",
    "# Load weights \n",
    "\n",
    "loaded_model.load_weights('Weights_sin_CNN.h5')\n",
    "print(\"Loaded model from disk\")\n",
    "\n",
    "# Define the optimizer and compile the model\n",
    "\n",
    "lrate = 0.001\n",
    "adam = Adam(lr =lrate,beta_1=0.9,beta_2=0.999,epsilon=1e-08)\n",
    "loaded_model.compile(loss='categorical_crossentropy', optimizer= adam)"
   ]
  },
  {
   "cell_type": "code",
   "execution_count": 54,
   "metadata": {},
   "outputs": [
    {
     "name": "stdout",
     "output_type": "stream",
     "text": [
      "_________________________________________________________________\n",
      "Layer (type)                 Output Shape              Param #   \n",
      "=================================================================\n",
      "input_1 (InputLayer)         (None, 1, 256, 4)         0         \n",
      "_________________________________________________________________\n",
      "conv2d_1 (Conv2D)            (None, 64, 255, 3)        320       \n",
      "_________________________________________________________________\n",
      "conv2d_2 (Conv2D)            (None, 64, 254, 2)        16448     \n",
      "_________________________________________________________________\n",
      "conv2d_3 (Conv2D)            (None, 64, 253, 1)        16448     \n",
      "_________________________________________________________________\n",
      "flatten_1 (Flatten)          (None, 16192)             0         \n",
      "_________________________________________________________________\n",
      "dropout_1 (Dropout)          (None, 16192)             0         \n",
      "_________________________________________________________________\n",
      "dense_1 (Dense)              (None, 512)               8290816   \n",
      "_________________________________________________________________\n",
      "dropout_2 (Dropout)          (None, 512)               0         \n",
      "_________________________________________________________________\n",
      "dense_2 (Dense)              (None, 512)               262656    \n",
      "_________________________________________________________________\n",
      "dense_3 (Dense)              (None, 37)                18981     \n",
      "=================================================================\n",
      "Total params: 8,605,669\n",
      "Trainable params: 8,605,669\n",
      "Non-trainable params: 0\n",
      "_________________________________________________________________\n"
     ]
    }
   ],
   "source": [
    "loaded_model.summary()"
   ]
  },
  {
   "cell_type": "code",
   "execution_count": 55,
   "metadata": {},
   "outputs": [
    {
     "name": "stdout",
     "output_type": "stream",
     "text": [
      "Types of data: <class 'numpy.ndarray'> <class 'numpy.ndarray'>\n"
     ]
    }
   ],
   "source": [
    "print(\"Types of data:\",type(X_test),type(Y_test))"
   ]
  },
  {
   "cell_type": "code",
   "execution_count": 56,
   "metadata": {},
   "outputs": [
    {
     "data": {
      "text/plain": [
       "((7281, 1, 256, 4), (7281, 37))"
      ]
     },
     "execution_count": 56,
     "metadata": {},
     "output_type": "execute_result"
    }
   ],
   "source": [
    "X_test.shape,Y_test.shape"
   ]
  },
  {
   "cell_type": "markdown",
   "metadata": {},
   "source": [
    "## Doing the predictions on the test set."
   ]
  },
  {
   "cell_type": "code",
   "execution_count": 154,
   "metadata": {},
   "outputs": [],
   "source": [
    "def predict(data):\n",
    "    pred = loaded_model.predict(data)   \n",
    "    pred = np.argmax(pred, axis=1)\n",
    "    return pred"
   ]
  },
  {
   "cell_type": "code",
   "execution_count": 155,
   "metadata": {},
   "outputs": [],
   "source": [
    "def get_labels(labels):\n",
    "    labels = np.argmax(labels, axis=1)\n",
    "    return labels"
   ]
  },
  {
   "cell_type": "code",
   "execution_count": 156,
   "metadata": {},
   "outputs": [],
   "source": [
    "pred = predict(X_test)"
   ]
  },
  {
   "cell_type": "code",
   "execution_count": 169,
   "metadata": {},
   "outputs": [
    {
     "data": {
      "text/plain": [
       "(37,)"
      ]
     },
     "execution_count": 169,
     "metadata": {},
     "output_type": "execute_result"
    }
   ],
   "source": [
    "count = np.bincount(pred)\n",
    "count.shape"
   ]
  },
  {
   "cell_type": "code",
   "execution_count": 158,
   "metadata": {},
   "outputs": [
    {
     "data": {
      "text/plain": [
       "array([ 9, 17, 27, 30, 28, 18,  2,  9, 18, 30, 30,  8, 12,  2, 18, 17, 21,\n",
       "        8, 31,  6,  6, 16, 31, 27, 24, 13,  2, 21,  9, 18, 17,  9,  9, 19,\n",
       "       30, 25,  2, 30, 19, 29])"
      ]
     },
     "execution_count": 158,
     "metadata": {},
     "output_type": "execute_result"
    }
   ],
   "source": [
    "pred[0:40]"
   ]
  },
  {
   "cell_type": "code",
   "execution_count": 159,
   "metadata": {},
   "outputs": [
    {
     "data": {
      "text/plain": [
       "array([ 9, 18, 27, 30, 30, 18, 24,  9, 18, 30, 30,  6, 12, 30, 18, 18, 21,\n",
       "        9, 30,  6,  6, 15, 30, 27, 24, 12, 30, 21,  9, 18, 18,  9,  9, 18,\n",
       "       30, 30, 24, 30, 18, 24, 24,  9, 30, 24, 15, 21,  6, 21,  9, 18])"
      ]
     },
     "execution_count": 159,
     "metadata": {},
     "output_type": "execute_result"
    }
   ],
   "source": [
    "labels = get_labels(Y_test)\n",
    "labels[0:50]"
   ]
  },
  {
   "cell_type": "code",
   "execution_count": 170,
   "metadata": {},
   "outputs": [
    {
     "data": {
      "text/plain": [
       "(31,)"
      ]
     },
     "execution_count": 170,
     "metadata": {},
     "output_type": "execute_result"
    }
   ],
   "source": [
    "count = np.bincount(labels)\n",
    "count.shape"
   ]
  },
  {
   "cell_type": "code",
   "execution_count": 171,
   "metadata": {},
   "outputs": [],
   "source": [
    "present_labels = np.array([5,8,11,14,17,20,23,26,29])"
   ]
  },
  {
   "cell_type": "markdown",
   "metadata": {},
   "source": [
    "## Doing the predictions of the Validation test "
   ]
  },
  {
   "cell_type": "markdown",
   "metadata": {},
   "source": [
    "### Treating the validation data generated to test the pretrained model on it."
   ]
  },
  {
   "cell_type": "code",
   "execution_count": 172,
   "metadata": {},
   "outputs": [
    {
     "data": {
      "text/plain": [
       "((7960, 1, 256, 4), (7960,))"
      ]
     },
     "execution_count": 172,
     "metadata": {},
     "output_type": "execute_result"
    }
   ],
   "source": [
    "self_test_data = prep_test_input(validation_data)\n",
    "self_test_data = self_test_data.numpy()\n",
    "self_test_targets = validation_targets.numpy()\n",
    "self_test_data.shape,self_test_targets.shape"
   ]
  },
  {
   "cell_type": "code",
   "execution_count": 173,
   "metadata": {},
   "outputs": [],
   "source": [
    "self_pred = predict(self_test_data)"
   ]
  },
  {
   "cell_type": "code",
   "execution_count": 174,
   "metadata": {},
   "outputs": [
    {
     "data": {
      "text/plain": [
       "array([ 2,  4, 14, 13,  2,  5, 10,  5, 34, 34])"
      ]
     },
     "execution_count": 174,
     "metadata": {},
     "output_type": "execute_result"
    }
   ],
   "source": [
    "self_pred[10:20]"
   ]
  },
  {
   "cell_type": "code",
   "execution_count": 175,
   "metadata": {},
   "outputs": [
    {
     "data": {
      "text/plain": [
       "array([ 6, 22, 18,  1, 10,  9, 36, 30,  1,  9])"
      ]
     },
     "execution_count": 175,
     "metadata": {},
     "output_type": "execute_result"
    }
   ],
   "source": [
    "self_test_targets[0:10]"
   ]
  },
  {
   "cell_type": "code",
   "execution_count": 178,
   "metadata": {},
   "outputs": [
    {
     "name": "stdout",
     "output_type": "stream",
     "text": [
      "              precision    recall  f1-score   support\n",
      "\n",
      "           1     0.0000    0.0000    0.0000         0\n",
      "           2     0.0000    0.0000    0.0000         0\n",
      "           3     0.0000    0.0000    0.0000         0\n",
      "           4     0.0000    0.0000    0.0000         0\n",
      "           5     0.0000    0.0000    0.0000         0\n",
      "           6     0.9398    0.6180    0.7457       809\n",
      "           7     0.0000    0.0000    0.0000         0\n",
      "           8     0.0000    0.0000    0.0000         0\n",
      "           9     0.9325    0.6316    0.7531       809\n",
      "          10     0.0000    0.0000    0.0000         0\n",
      "          11     0.0000    0.0000    0.0000         0\n",
      "          12     0.9678    0.6687    0.7909       809\n",
      "          13     0.0000    0.0000    0.0000         0\n",
      "          14     0.0000    0.0000    0.0000         0\n",
      "          15     0.9954    0.5315    0.6930       809\n",
      "          16     0.0000    0.0000    0.0000         0\n",
      "          17     0.0000    0.0000    0.0000         0\n",
      "          18     0.7494    0.8059    0.7767       809\n",
      "          19     0.0000    0.0000    0.0000         0\n",
      "          20     0.0000    0.0000    0.0000         0\n",
      "          21     0.9807    0.6910    0.8107       809\n",
      "          22     0.0000    0.0000    0.0000         0\n",
      "          23     0.0000    0.0000    0.0000         0\n",
      "          24     0.9841    0.6119    0.7546       809\n",
      "          25     0.0000    0.0000    0.0000         0\n",
      "          26     0.0000    0.0000    0.0000         0\n",
      "          27     0.9526    0.6205    0.7515       809\n",
      "          28     0.0000    0.0000    0.0000         0\n",
      "          29     0.0000    0.0000    0.0000         0\n",
      "          30     0.9666    0.5723    0.7189       809\n",
      "          31     0.0000    0.0000    0.0000         0\n",
      "          32     0.0000    0.0000    0.0000         0\n",
      "          33     0.0000    0.0000    0.0000         0\n",
      "          34     0.0000    0.0000    0.0000         0\n",
      "          35     0.0000    0.0000    0.0000         0\n",
      "          36     0.0000    0.0000    0.0000         0\n",
      "\n",
      "    accuracy                         0.6391      7281\n",
      "   macro avg     0.2352    0.1598    0.1888      7281\n",
      "weighted avg     0.9410    0.6391    0.7550      7281\n",
      "\n",
      "The accuracy score the model on the test set is: 0.6390605686032138\n"
     ]
    }
   ],
   "source": [
    "#Calculation some metrics on the testing set.\n",
    "report = classification_report(labels, pred, digits=4)\n",
    "accuracy = accuracy_score(labels, pred)\n",
    "print(report)\n",
    "print(\"The accuracy score the model on the test set is:\",accuracy)"
   ]
  },
  {
   "cell_type": "markdown",
   "metadata": {},
   "source": [
    "### Showing the confusion matrix of the classification."
   ]
  },
  {
   "cell_type": "code",
   "execution_count": 176,
   "metadata": {},
   "outputs": [],
   "source": [
    "cm = metrics.confusion_matrix(labels, pred)"
   ]
  },
  {
   "cell_type": "code",
   "execution_count": 181,
   "metadata": {},
   "outputs": [
    {
     "data": {
      "image/png": "[encoded data removed]",
      "text/plain": [
       "<Figure size 1008x1008 with 2 Axes>"
      ]
     },
     "metadata": {
      "needs_background": "light"
     },
     "output_type": "display_data"
    }
   ],
   "source": [
    "plt.figure(figsize=(14,14))\n",
    "sns.heatmap(cm, annot=True, fmt=\"d\", linewidths=1.5, square = True, cmap = 'Blues_r');\n",
    "plt.ylabel('Actual label');\n",
    "plt.xlabel('Predicted label');\n",
    "all_sample_title = 'Accuracy Score: {0}'.format(accuracy)\n",
    "plt.title(all_sample_title, size = 15);"
   ]
  },
  {
   "cell_type": "markdown",
   "metadata": {},
   "source": [
    "### Defining a new test loss less punitive for this classification problem."
   ]
  },
  {
   "cell_type": "code",
   "execution_count": 210,
   "metadata": {},
   "outputs": [
    {
     "name": "stdout",
     "output_type": "stream",
     "text": [
      "torch.Size([7280, 1, 4, 256]) torch.Size([7280])\n"
     ]
    }
   ],
   "source": [
    "print(test_data.shape,test_targets.shape)\n",
    "out_pred = loaded_model.predict(X_test[0:7280])"
   ]
  },
  {
   "cell_type": "code",
   "execution_count": 211,
   "metadata": {},
   "outputs": [
    {
     "name": "stdout",
     "output_type": "stream",
     "text": [
      "(7280, 37)\n"
     ]
    }
   ],
   "source": [
    "print(out_pred.shape)\n",
    "out_pred = torch.from_numpy(out_pred)\n",
    "cross_loss = criterion(out_pred,test_targets)"
   ]
  },
  {
   "cell_type": "code",
   "execution_count": 212,
   "metadata": {},
   "outputs": [
    {
     "name": "stdout",
     "output_type": "stream",
     "text": [
      "tensor(3.0405)\n"
     ]
    }
   ],
   "source": [
    "print(cross_loss)"
   ]
  },
  {
   "cell_type": "code",
   "execution_count": 213,
   "metadata": {},
   "outputs": [],
   "source": [
    "mse = torch.nn.MSELoss()"
   ]
  },
  {
   "cell_type": "code",
   "execution_count": 214,
   "metadata": {},
   "outputs": [
    {
     "name": "stdout",
     "output_type": "stream",
     "text": [
      "torch.Size([7280, 37]) torch.Size([7280])\n"
     ]
    }
   ],
   "source": [
    "#Turning the output into classes and calculating the MSEloss.\n",
    "#_,out_pred = out_pred.max(1)\n",
    "print(out_pred.shape,test_targets.shape)"
   ]
  },
  {
   "cell_type": "code",
   "execution_count": null,
   "metadata": {},
   "outputs": [],
   "source": []
  }
 ],
 "metadata": {
  "kernelspec": {
   "display_name": "semesterproject",
   "language": "python",
   "name": "semesterproject"
  },
  "language_info": {
   "codemirror_mode": {
    "name": "ipython",
    "version": 3
   },
   "file_extension": ".py",
   "mimetype": "text/x-python",
   "name": "python",
   "nbconvert_exporter": "python",
   "pygments_lexer": "ipython3",
   "version": "3.5.2"
  }
 },
 "nbformat": 4,
 "nbformat_minor": 1
}
