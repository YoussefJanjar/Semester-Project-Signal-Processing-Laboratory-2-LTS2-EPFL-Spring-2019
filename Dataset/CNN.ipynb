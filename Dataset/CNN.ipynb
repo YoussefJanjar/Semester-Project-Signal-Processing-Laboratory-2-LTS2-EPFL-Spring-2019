{
 "cells": [
  {
   "cell_type": "markdown",
   "metadata": {},
   "source": [
    "# Creation of the CNN"
   ]
  },
  {
   "cell_type": "markdown",
   "metadata": {},
   "source": [
    "### Importations "
   ]
  },
  {
   "cell_type": "code",
   "execution_count": 2,
   "metadata": {},
   "outputs": [
    {
     "name": "stdout",
     "output_type": "stream",
     "text": [
      "1.0.1.post2\n"
     ]
    }
   ],
   "source": [
    "import torch\n",
    "import matplotlib.pyplot as plt\n",
    "import numpy as np\n",
    "import pickle as pkl\n",
    "import pandas as pd\n",
    "import time\n",
    "\n",
    "\n",
    "from torch.autograd import Variable\n",
    "from torch import nn, optim\n",
    "from torch.nn import functional as F\n",
    "from matplotlib import gridspec\n",
    "\n",
    "\n",
    "\n",
    "\n",
    "print(torch.__version__)"
   ]
  },
  {
   "cell_type": "code",
   "execution_count": 3,
   "metadata": {},
   "outputs": [
    {
     "name": "stdout",
     "output_type": "stream",
     "text": [
      "Tmux a vraiment run cette schisse.\n"
     ]
    }
   ],
   "source": [
    "print(\"Tmux a vraiment run cette schisse.\")"
   ]
  },
  {
   "cell_type": "markdown",
   "metadata": {},
   "source": [
    "### The Aim "
   ]
  },
  {
   "cell_type": "markdown",
   "metadata": {},
   "source": [
    "Some explation about the purpose of this project."
   ]
  },
  {
   "cell_type": "markdown",
   "metadata": {},
   "source": [
    "### The Data"
   ]
  },
  {
   "cell_type": "markdown",
   "metadata": {},
   "source": [
    "Some insight about the data."
   ]
  },
  {
   "cell_type": "code",
   "execution_count": 4,
   "metadata": {},
   "outputs": [
    {
     "data": {
      "text/html": [
       "<div>\n",
       "<style scoped>\n",
       "    .dataframe tbody tr th:only-of-type {\n",
       "        vertical-align: middle;\n",
       "    }\n",
       "\n",
       "    .dataframe tbody tr th {\n",
       "        vertical-align: top;\n",
       "    }\n",
       "\n",
       "    .dataframe thead th {\n",
       "        text-align: right;\n",
       "    }\n",
       "</style>\n",
       "<table border=\"1\" class=\"dataframe\">\n",
       "  <thead>\n",
       "    <tr style=\"text-align: right;\">\n",
       "      <th></th>\n",
       "      <th>Room</th>\n",
       "      <th>Array_position</th>\n",
       "      <th>Distance</th>\n",
       "      <th>Absorption</th>\n",
       "      <th>SNR</th>\n",
       "      <th>Audio_file</th>\n",
       "      <th>Phase_Matrix</th>\n",
       "      <th>Label</th>\n",
       "    </tr>\n",
       "  </thead>\n",
       "  <tbody>\n",
       "    <tr>\n",
       "      <th>0</th>\n",
       "      <td>0</td>\n",
       "      <td>[1.924007832111607, 3.3174552113304, 1.5]</td>\n",
       "      <td>1.0</td>\n",
       "      <td>0.702471</td>\n",
       "      <td>0</td>\n",
       "      <td>/home/janjar/Dataset/Trainingset/audio_signals...</td>\n",
       "      <td>/home/janjar/Dataset/Trainingset/phase_matrix/...</td>\n",
       "      <td>1</td>\n",
       "    </tr>\n",
       "    <tr>\n",
       "      <th>1</th>\n",
       "      <td>0</td>\n",
       "      <td>[3.395902870077362, 2.0557500170094034, 1.5]</td>\n",
       "      <td>1.0</td>\n",
       "      <td>0.702471</td>\n",
       "      <td>0</td>\n",
       "      <td>/home/janjar/Dataset/Trainingset/audio_signals...</td>\n",
       "      <td>/home/janjar/Dataset/Trainingset/phase_matrix/...</td>\n",
       "      <td>1</td>\n",
       "    </tr>\n",
       "    <tr>\n",
       "      <th>2</th>\n",
       "      <td>0</td>\n",
       "      <td>[1.526185199528145, 2.2726572315160185, 1.5]</td>\n",
       "      <td>1.0</td>\n",
       "      <td>0.702471</td>\n",
       "      <td>0</td>\n",
       "      <td>/home/janjar/Dataset/Trainingset/audio_signals...</td>\n",
       "      <td>/home/janjar/Dataset/Trainingset/phase_matrix/...</td>\n",
       "      <td>1</td>\n",
       "    </tr>\n",
       "    <tr>\n",
       "      <th>3</th>\n",
       "      <td>0</td>\n",
       "      <td>[2.6692549127850898, 3.4855723081023084, 1.5]</td>\n",
       "      <td>1.0</td>\n",
       "      <td>0.702471</td>\n",
       "      <td>0</td>\n",
       "      <td>/home/janjar/Dataset/Trainingset/audio_signals...</td>\n",
       "      <td>/home/janjar/Dataset/Trainingset/phase_matrix/...</td>\n",
       "      <td>1</td>\n",
       "    </tr>\n",
       "    <tr>\n",
       "      <th>4</th>\n",
       "      <td>0</td>\n",
       "      <td>[3.015681218831948, 1.643219467690823, 1.5]</td>\n",
       "      <td>1.0</td>\n",
       "      <td>0.702471</td>\n",
       "      <td>0</td>\n",
       "      <td>/home/janjar/Dataset/Trainingset/audio_signals...</td>\n",
       "      <td>/home/janjar/Dataset/Trainingset/phase_matrix/...</td>\n",
       "      <td>0</td>\n",
       "    </tr>\n",
       "    <tr>\n",
       "      <th>5</th>\n",
       "      <td>0</td>\n",
       "      <td>[1.556422618908361, 2.8311521189608246, 1.5]</td>\n",
       "      <td>1.0</td>\n",
       "      <td>0.702471</td>\n",
       "      <td>0</td>\n",
       "      <td>/home/janjar/Dataset/Trainingset/audio_signals...</td>\n",
       "      <td>/home/janjar/Dataset/Trainingset/phase_matrix/...</td>\n",
       "      <td>1</td>\n",
       "    </tr>\n",
       "    <tr>\n",
       "      <th>6</th>\n",
       "      <td>0</td>\n",
       "      <td>[1.616051796995994, 2.967584831240267, 1.5]</td>\n",
       "      <td>1.0</td>\n",
       "      <td>0.702471</td>\n",
       "      <td>0</td>\n",
       "      <td>/home/janjar/Dataset/Trainingset/audio_signals...</td>\n",
       "      <td>/home/janjar/Dataset/Trainingset/phase_matrix/...</td>\n",
       "      <td>1</td>\n",
       "    </tr>\n",
       "    <tr>\n",
       "      <th>7</th>\n",
       "      <td>0</td>\n",
       "      <td>[1.5000025446100484, 2.4977440714501156, 1.5]</td>\n",
       "      <td>1.0</td>\n",
       "      <td>0.702471</td>\n",
       "      <td>5</td>\n",
       "      <td>/home/janjar/Dataset/Trainingset/audio_signals...</td>\n",
       "      <td>/home/janjar/Dataset/Trainingset/phase_matrix/...</td>\n",
       "      <td>0</td>\n",
       "    </tr>\n",
       "    <tr>\n",
       "      <th>8</th>\n",
       "      <td>0</td>\n",
       "      <td>[3.4733630593992753, 2.729269174981904, 1.5]</td>\n",
       "      <td>1.0</td>\n",
       "      <td>0.702471</td>\n",
       "      <td>5</td>\n",
       "      <td>/home/janjar/Dataset/Trainingset/audio_signals...</td>\n",
       "      <td>/home/janjar/Dataset/Trainingset/phase_matrix/...</td>\n",
       "      <td>0</td>\n",
       "    </tr>\n",
       "    <tr>\n",
       "      <th>9</th>\n",
       "      <td>0</td>\n",
       "      <td>[1.7578897843542212, 1.829722126402657, 1.5]</td>\n",
       "      <td>1.0</td>\n",
       "      <td>0.702471</td>\n",
       "      <td>5</td>\n",
       "      <td>/home/janjar/Dataset/Trainingset/audio_signals...</td>\n",
       "      <td>/home/janjar/Dataset/Trainingset/phase_matrix/...</td>\n",
       "      <td>0</td>\n",
       "    </tr>\n",
       "    <tr>\n",
       "      <th>10</th>\n",
       "      <td>0</td>\n",
       "      <td>[2.467118847207401, 1.5005407312996544, 1.5]</td>\n",
       "      <td>1.0</td>\n",
       "      <td>0.702471</td>\n",
       "      <td>5</td>\n",
       "      <td>/home/janjar/Dataset/Trainingset/audio_signals...</td>\n",
       "      <td>/home/janjar/Dataset/Trainingset/phase_matrix/...</td>\n",
       "      <td>0</td>\n",
       "    </tr>\n",
       "  </tbody>\n",
       "</table>\n",
       "</div>"
      ],
      "text/plain": [
       "   Room                                 Array_position  Distance  Absorption  \\\n",
       "0     0      [1.924007832111607, 3.3174552113304, 1.5]       1.0    0.702471   \n",
       "1     0   [3.395902870077362, 2.0557500170094034, 1.5]       1.0    0.702471   \n",
       "2     0   [1.526185199528145, 2.2726572315160185, 1.5]       1.0    0.702471   \n",
       "3     0  [2.6692549127850898, 3.4855723081023084, 1.5]       1.0    0.702471   \n",
       "4     0    [3.015681218831948, 1.643219467690823, 1.5]       1.0    0.702471   \n",
       "5     0   [1.556422618908361, 2.8311521189608246, 1.5]       1.0    0.702471   \n",
       "6     0    [1.616051796995994, 2.967584831240267, 1.5]       1.0    0.702471   \n",
       "7     0  [1.5000025446100484, 2.4977440714501156, 1.5]       1.0    0.702471   \n",
       "8     0   [3.4733630593992753, 2.729269174981904, 1.5]       1.0    0.702471   \n",
       "9     0   [1.7578897843542212, 1.829722126402657, 1.5]       1.0    0.702471   \n",
       "10    0   [2.467118847207401, 1.5005407312996544, 1.5]       1.0    0.702471   \n",
       "\n",
       "   SNR                                         Audio_file  \\\n",
       "0    0  /home/janjar/Dataset/Trainingset/audio_signals...   \n",
       "1    0  /home/janjar/Dataset/Trainingset/audio_signals...   \n",
       "2    0  /home/janjar/Dataset/Trainingset/audio_signals...   \n",
       "3    0  /home/janjar/Dataset/Trainingset/audio_signals...   \n",
       "4    0  /home/janjar/Dataset/Trainingset/audio_signals...   \n",
       "5    0  /home/janjar/Dataset/Trainingset/audio_signals...   \n",
       "6    0  /home/janjar/Dataset/Trainingset/audio_signals...   \n",
       "7    5  /home/janjar/Dataset/Trainingset/audio_signals...   \n",
       "8    5  /home/janjar/Dataset/Trainingset/audio_signals...   \n",
       "9    5  /home/janjar/Dataset/Trainingset/audio_signals...   \n",
       "10   5  /home/janjar/Dataset/Trainingset/audio_signals...   \n",
       "\n",
       "                                         Phase_Matrix Label  \n",
       "0   /home/janjar/Dataset/Trainingset/phase_matrix/...     1  \n",
       "1   /home/janjar/Dataset/Trainingset/phase_matrix/...     1  \n",
       "2   /home/janjar/Dataset/Trainingset/phase_matrix/...     1  \n",
       "3   /home/janjar/Dataset/Trainingset/phase_matrix/...     1  \n",
       "4   /home/janjar/Dataset/Trainingset/phase_matrix/...     0  \n",
       "5   /home/janjar/Dataset/Trainingset/phase_matrix/...     1  \n",
       "6   /home/janjar/Dataset/Trainingset/phase_matrix/...     1  \n",
       "7   /home/janjar/Dataset/Trainingset/phase_matrix/...     0  \n",
       "8   /home/janjar/Dataset/Trainingset/phase_matrix/...     0  \n",
       "9   /home/janjar/Dataset/Trainingset/phase_matrix/...     0  \n",
       "10  /home/janjar/Dataset/Trainingset/phase_matrix/...     0  "
      ]
     },
     "execution_count": 4,
     "metadata": {},
     "output_type": "execute_result"
    }
   ],
   "source": [
    "Dataset = pd.read_pickle(\"/home/janjar/Dataset/Trainingset/Training_dataframe.pkl\")\n",
    "Dataset.loc[0:10]"
   ]
  },
  {
   "cell_type": "code",
   "execution_count": 5,
   "metadata": {},
   "outputs": [
    {
     "data": {
      "text/plain": [
       "Room                                                              0\n",
       "Array_position         [3.395902870077362, 2.0557500170094034, 1.5]\n",
       "Distance                                                          1\n",
       "Absorption                                                 0.702471\n",
       "SNR                                                               0\n",
       "Audio_file        /home/janjar/Dataset/Trainingset/audio_signals...\n",
       "Phase_Matrix      /home/janjar/Dataset/Trainingset/phase_matrix/...\n",
       "Label                                                             1\n",
       "Name: 1, dtype: object"
      ]
     },
     "execution_count": 5,
     "metadata": {},
     "output_type": "execute_result"
    }
   ],
   "source": [
    "Dataset.iloc[1]"
   ]
  },
  {
   "cell_type": "code",
   "execution_count": 6,
   "metadata": {},
   "outputs": [
    {
     "data": {
      "text/html": [
       "<div>\n",
       "<style scoped>\n",
       "    .dataframe tbody tr th:only-of-type {\n",
       "        vertical-align: middle;\n",
       "    }\n",
       "\n",
       "    .dataframe tbody tr th {\n",
       "        vertical-align: top;\n",
       "    }\n",
       "\n",
       "    .dataframe thead th {\n",
       "        text-align: right;\n",
       "    }\n",
       "</style>\n",
       "<table border=\"1\" class=\"dataframe\">\n",
       "  <thead>\n",
       "    <tr style=\"text-align: right;\">\n",
       "      <th></th>\n",
       "      <th>Room</th>\n",
       "      <th>Array_position</th>\n",
       "      <th>Distance</th>\n",
       "      <th>Absorption</th>\n",
       "      <th>SNR</th>\n",
       "      <th>Audio_file</th>\n",
       "      <th>Phase_Matrix</th>\n",
       "      <th>Label</th>\n",
       "    </tr>\n",
       "  </thead>\n",
       "  <tbody>\n",
       "    <tr>\n",
       "      <th>0</th>\n",
       "      <td>0</td>\n",
       "      <td>[1.924007832111607, 3.3174552113304, 1.5]</td>\n",
       "      <td>1.0</td>\n",
       "      <td>0.702471</td>\n",
       "      <td>0</td>\n",
       "      <td>/home/janjar/Dataset/Trainingset/audio_signals...</td>\n",
       "      <td>/home/janjar/Dataset/Trainingset/phase_matrix/...</td>\n",
       "      <td>1</td>\n",
       "    </tr>\n",
       "    <tr>\n",
       "      <th>1</th>\n",
       "      <td>0</td>\n",
       "      <td>[3.395902870077362, 2.0557500170094034, 1.5]</td>\n",
       "      <td>1.0</td>\n",
       "      <td>0.702471</td>\n",
       "      <td>0</td>\n",
       "      <td>/home/janjar/Dataset/Trainingset/audio_signals...</td>\n",
       "      <td>/home/janjar/Dataset/Trainingset/phase_matrix/...</td>\n",
       "      <td>1</td>\n",
       "    </tr>\n",
       "    <tr>\n",
       "      <th>2</th>\n",
       "      <td>0</td>\n",
       "      <td>[1.526185199528145, 2.2726572315160185, 1.5]</td>\n",
       "      <td>1.0</td>\n",
       "      <td>0.702471</td>\n",
       "      <td>0</td>\n",
       "      <td>/home/janjar/Dataset/Trainingset/audio_signals...</td>\n",
       "      <td>/home/janjar/Dataset/Trainingset/phase_matrix/...</td>\n",
       "      <td>1</td>\n",
       "    </tr>\n",
       "    <tr>\n",
       "      <th>3</th>\n",
       "      <td>0</td>\n",
       "      <td>[2.6692549127850898, 3.4855723081023084, 1.5]</td>\n",
       "      <td>1.0</td>\n",
       "      <td>0.702471</td>\n",
       "      <td>0</td>\n",
       "      <td>/home/janjar/Dataset/Trainingset/audio_signals...</td>\n",
       "      <td>/home/janjar/Dataset/Trainingset/phase_matrix/...</td>\n",
       "      <td>1</td>\n",
       "    </tr>\n",
       "    <tr>\n",
       "      <th>4</th>\n",
       "      <td>0</td>\n",
       "      <td>[3.015681218831948, 1.643219467690823, 1.5]</td>\n",
       "      <td>1.0</td>\n",
       "      <td>0.702471</td>\n",
       "      <td>0</td>\n",
       "      <td>/home/janjar/Dataset/Trainingset/audio_signals...</td>\n",
       "      <td>/home/janjar/Dataset/Trainingset/phase_matrix/...</td>\n",
       "      <td>0</td>\n",
       "    </tr>\n",
       "    <tr>\n",
       "      <th>5</th>\n",
       "      <td>0</td>\n",
       "      <td>[1.556422618908361, 2.8311521189608246, 1.5]</td>\n",
       "      <td>1.0</td>\n",
       "      <td>0.702471</td>\n",
       "      <td>0</td>\n",
       "      <td>/home/janjar/Dataset/Trainingset/audio_signals...</td>\n",
       "      <td>/home/janjar/Dataset/Trainingset/phase_matrix/...</td>\n",
       "      <td>1</td>\n",
       "    </tr>\n",
       "    <tr>\n",
       "      <th>6</th>\n",
       "      <td>0</td>\n",
       "      <td>[1.616051796995994, 2.967584831240267, 1.5]</td>\n",
       "      <td>1.0</td>\n",
       "      <td>0.702471</td>\n",
       "      <td>0</td>\n",
       "      <td>/home/janjar/Dataset/Trainingset/audio_signals...</td>\n",
       "      <td>/home/janjar/Dataset/Trainingset/phase_matrix/...</td>\n",
       "      <td>1</td>\n",
       "    </tr>\n",
       "    <tr>\n",
       "      <th>7</th>\n",
       "      <td>0</td>\n",
       "      <td>[1.5000025446100484, 2.4977440714501156, 1.5]</td>\n",
       "      <td>1.0</td>\n",
       "      <td>0.702471</td>\n",
       "      <td>5</td>\n",
       "      <td>/home/janjar/Dataset/Trainingset/audio_signals...</td>\n",
       "      <td>/home/janjar/Dataset/Trainingset/phase_matrix/...</td>\n",
       "      <td>0</td>\n",
       "    </tr>\n",
       "    <tr>\n",
       "      <th>8</th>\n",
       "      <td>0</td>\n",
       "      <td>[3.4733630593992753, 2.729269174981904, 1.5]</td>\n",
       "      <td>1.0</td>\n",
       "      <td>0.702471</td>\n",
       "      <td>5</td>\n",
       "      <td>/home/janjar/Dataset/Trainingset/audio_signals...</td>\n",
       "      <td>/home/janjar/Dataset/Trainingset/phase_matrix/...</td>\n",
       "      <td>0</td>\n",
       "    </tr>\n",
       "    <tr>\n",
       "      <th>9</th>\n",
       "      <td>0</td>\n",
       "      <td>[1.7578897843542212, 1.829722126402657, 1.5]</td>\n",
       "      <td>1.0</td>\n",
       "      <td>0.702471</td>\n",
       "      <td>5</td>\n",
       "      <td>/home/janjar/Dataset/Trainingset/audio_signals...</td>\n",
       "      <td>/home/janjar/Dataset/Trainingset/phase_matrix/...</td>\n",
       "      <td>0</td>\n",
       "    </tr>\n",
       "    <tr>\n",
       "      <th>10</th>\n",
       "      <td>0</td>\n",
       "      <td>[2.467118847207401, 1.5005407312996544, 1.5]</td>\n",
       "      <td>1.0</td>\n",
       "      <td>0.702471</td>\n",
       "      <td>5</td>\n",
       "      <td>/home/janjar/Dataset/Trainingset/audio_signals...</td>\n",
       "      <td>/home/janjar/Dataset/Trainingset/phase_matrix/...</td>\n",
       "      <td>0</td>\n",
       "    </tr>\n",
       "  </tbody>\n",
       "</table>\n",
       "</div>"
      ],
      "text/plain": [
       "   Room                                 Array_position  Distance  Absorption  \\\n",
       "0     0      [1.924007832111607, 3.3174552113304, 1.5]       1.0    0.702471   \n",
       "1     0   [3.395902870077362, 2.0557500170094034, 1.5]       1.0    0.702471   \n",
       "2     0   [1.526185199528145, 2.2726572315160185, 1.5]       1.0    0.702471   \n",
       "3     0  [2.6692549127850898, 3.4855723081023084, 1.5]       1.0    0.702471   \n",
       "4     0    [3.015681218831948, 1.643219467690823, 1.5]       1.0    0.702471   \n",
       "5     0   [1.556422618908361, 2.8311521189608246, 1.5]       1.0    0.702471   \n",
       "6     0    [1.616051796995994, 2.967584831240267, 1.5]       1.0    0.702471   \n",
       "7     0  [1.5000025446100484, 2.4977440714501156, 1.5]       1.0    0.702471   \n",
       "8     0   [3.4733630593992753, 2.729269174981904, 1.5]       1.0    0.702471   \n",
       "9     0   [1.7578897843542212, 1.829722126402657, 1.5]       1.0    0.702471   \n",
       "10    0   [2.467118847207401, 1.5005407312996544, 1.5]       1.0    0.702471   \n",
       "\n",
       "   SNR                                         Audio_file  \\\n",
       "0    0  /home/janjar/Dataset/Trainingset/audio_signals...   \n",
       "1    0  /home/janjar/Dataset/Trainingset/audio_signals...   \n",
       "2    0  /home/janjar/Dataset/Trainingset/audio_signals...   \n",
       "3    0  /home/janjar/Dataset/Trainingset/audio_signals...   \n",
       "4    0  /home/janjar/Dataset/Trainingset/audio_signals...   \n",
       "5    0  /home/janjar/Dataset/Trainingset/audio_signals...   \n",
       "6    0  /home/janjar/Dataset/Trainingset/audio_signals...   \n",
       "7    5  /home/janjar/Dataset/Trainingset/audio_signals...   \n",
       "8    5  /home/janjar/Dataset/Trainingset/audio_signals...   \n",
       "9    5  /home/janjar/Dataset/Trainingset/audio_signals...   \n",
       "10   5  /home/janjar/Dataset/Trainingset/audio_signals...   \n",
       "\n",
       "                                         Phase_Matrix Label  \n",
       "0   /home/janjar/Dataset/Trainingset/phase_matrix/...     1  \n",
       "1   /home/janjar/Dataset/Trainingset/phase_matrix/...     1  \n",
       "2   /home/janjar/Dataset/Trainingset/phase_matrix/...     1  \n",
       "3   /home/janjar/Dataset/Trainingset/phase_matrix/...     1  \n",
       "4   /home/janjar/Dataset/Trainingset/phase_matrix/...     0  \n",
       "5   /home/janjar/Dataset/Trainingset/phase_matrix/...     1  \n",
       "6   /home/janjar/Dataset/Trainingset/phase_matrix/...     1  \n",
       "7   /home/janjar/Dataset/Trainingset/phase_matrix/...     0  \n",
       "8   /home/janjar/Dataset/Trainingset/phase_matrix/...     0  \n",
       "9   /home/janjar/Dataset/Trainingset/phase_matrix/...     0  \n",
       "10  /home/janjar/Dataset/Trainingset/phase_matrix/...     0  "
      ]
     },
     "execution_count": 6,
     "metadata": {},
     "output_type": "execute_result"
    }
   ],
   "source": [
    "Dataset.loc[0:10]"
   ]
  },
  {
   "cell_type": "markdown",
   "metadata": {},
   "source": [
    "#### Defining our number of samples."
   ]
  },
  {
   "cell_type": "code",
   "execution_count": 7,
   "metadata": {},
   "outputs": [],
   "source": [
    "number_of_rooms = Dataset.shape[0]"
   ]
  },
  {
   "cell_type": "markdown",
   "metadata": {},
   "source": [
    "### Loading the phase matrices in tensors with respect to the indexing shown in the dataframe."
   ]
  },
  {
   "cell_type": "code",
   "execution_count": 8,
   "metadata": {},
   "outputs": [
    {
     "data": {
      "text/plain": [
       "(140, 4, 129, 390)"
      ]
     },
     "execution_count": 8,
     "metadata": {},
     "output_type": "execute_result"
    }
   ],
   "source": [
    "#path containing the Training data on the machine you are working on.\n",
    "#path = \"/home/janjar/Dataset/Trainingset/\"\n",
    "\n",
    "data_matrix = np.zeros([number_of_rooms,4,129,390])\n",
    "for i in range(number_of_rooms):\n",
    "    fileName_matrix = Dataset.iloc[i]['Phase_Matrix']\n",
    "    #print(fileName_matrix)\n",
    "    fileObject2 = open(fileName_matrix, 'rb')\n",
    "    matrix_loaded = pkl.load(fileObject2)\n",
    "    fileObject2.close()\n",
    "    data_matrix[i] = matrix_loaded\n",
    "data_matrix.shape    "
   ]
  },
  {
   "cell_type": "code",
   "execution_count": 9,
   "metadata": {},
   "outputs": [
    {
     "data": {
      "text/plain": [
       "torch.Size([140, 4, 129, 390])"
      ]
     },
     "execution_count": 9,
     "metadata": {},
     "output_type": "execute_result"
    }
   ],
   "source": [
    "data_matrix = torch.from_numpy(data_matrix)\n",
    "data_matrix = data_matrix.view(-1,4,129,390)\n",
    "data_matrix = data_matrix.type('torch.FloatTensor')\n",
    "data_matrix.shape"
   ]
  },
  {
   "cell_type": "code",
   "execution_count": 52,
   "metadata": {},
   "outputs": [],
   "source": [
    "final_data = torch.ones([140*390, 4,129], dtype=torch.float64)"
   ]
  },
  {
   "cell_type": "code",
   "execution_count": 53,
   "metadata": {},
   "outputs": [],
   "source": [
    "i = 0\n",
    "for setup in range(140):\n",
    "     for nb_tf in range(390):\n",
    "        final_data[i] = data_matrix[setup,:,:,nb_tf]\n",
    "        i = i+1\n",
    "    "
   ]
  },
  {
   "cell_type": "code",
   "execution_count": 54,
   "metadata": {},
   "outputs": [
    {
     "data": {
      "text/plain": [
       "torch.Size([54600, 4, 129])"
      ]
     },
     "execution_count": 54,
     "metadata": {},
     "output_type": "execute_result"
    }
   ],
   "source": [
    "final_data.shape"
   ]
  },
  {
   "cell_type": "markdown",
   "metadata": {},
   "source": [
    "### Function that reshape a label into the right format for the data_targets."
   ]
  },
  {
   "cell_type": "code",
   "execution_count": 55,
   "metadata": {},
   "outputs": [],
   "source": [
    "def prep_targets(index,label):\n",
    "    target = torch.tensor(label)\n",
    "    target = target.expand(390,1)\n",
    "    return target"
   ]
  },
  {
   "cell_type": "code",
   "execution_count": 56,
   "metadata": {},
   "outputs": [
    {
     "data": {
      "text/plain": [
       "torch.Size([140])"
      ]
     },
     "execution_count": 56,
     "metadata": {},
     "output_type": "execute_result"
    }
   ],
   "source": [
    "data_targets = torch.zeros([number_of_rooms], dtype=torch.float64)\n",
    "for i in range(number_of_rooms):\n",
    "    data_targets[i] = Dataset.iloc[i]['Label']\n",
    "data_targets.shape   "
   ]
  },
  {
   "cell_type": "code",
   "execution_count": 57,
   "metadata": {},
   "outputs": [
    {
     "data": {
      "text/plain": [
       "tensor(1., dtype=torch.float64)"
      ]
     },
     "execution_count": 57,
     "metadata": {},
     "output_type": "execute_result"
    }
   ],
   "source": [
    "data_targets[0]"
   ]
  },
  {
   "cell_type": "code",
   "execution_count": 58,
   "metadata": {},
   "outputs": [],
   "source": [
    "final_targets = torch.ones([140*390], dtype=torch.float64)\n",
    "test = []\n",
    "for i in range(140):\n",
    "    curr = [data_targets[i].item()]*390\n",
    "    test.append(curr)\n",
    "    "
   ]
  },
  {
   "cell_type": "code",
   "execution_count": 59,
   "metadata": {},
   "outputs": [
    {
     "data": {
      "text/plain": [
       "torch.Size([54600])"
      ]
     },
     "execution_count": 59,
     "metadata": {},
     "output_type": "execute_result"
    }
   ],
   "source": [
    "final_targets = torch.FloatTensor(test)\n",
    "final_targets = final_targets.flatten()\n",
    "final_targets.shape"
   ]
  },
  {
   "cell_type": "code",
   "execution_count": 60,
   "metadata": {},
   "outputs": [
    {
     "data": {
      "text/plain": [
       "tensor([1., 1., 1., 1., 1., 1., 1., 1., 1., 1., 1., 1., 1., 1., 1., 1., 1., 1.,\n",
       "        1., 1., 1., 1., 1., 1., 1., 1., 1., 1., 1., 1., 1., 1., 1., 1., 1., 1.,\n",
       "        1., 1., 1., 1., 1., 1., 1., 1., 1., 1., 1., 1., 1., 1., 1., 1., 1., 1.,\n",
       "        1., 1., 1., 1., 1., 1., 1., 1., 1., 1., 1., 1., 1., 1., 1., 1., 1., 1.,\n",
       "        1., 1., 1., 1., 1., 1., 1., 1., 1., 1., 1., 1., 1., 1., 1., 1., 1., 1.,\n",
       "        1., 1., 1., 1., 1., 1., 1., 1., 1., 1., 1., 1., 1., 1., 1., 1., 1., 1.,\n",
       "        1., 1., 1., 1., 1., 1., 1., 1., 1., 1., 1., 1., 1., 1., 1., 1., 1., 1.,\n",
       "        1., 1., 1., 1., 1., 1., 1., 1., 1., 1., 1., 1., 1., 1., 1., 1., 1., 1.,\n",
       "        1., 1., 1., 1., 1., 1., 1., 1., 1., 1., 1., 1., 1., 1., 1., 1., 1., 1.,\n",
       "        1., 1., 1., 1., 1., 1., 1., 1., 1., 1., 1., 1., 1., 1., 1., 1., 1., 1.,\n",
       "        1., 1., 1., 1., 1., 1., 1., 1., 1., 1., 1., 1., 1., 1., 1., 1., 1., 1.,\n",
       "        1., 1., 1., 1., 1., 1., 1., 1., 1., 1., 1., 1., 1., 1., 1., 1., 1., 1.,\n",
       "        1., 1., 1., 1., 1., 1., 1., 1., 1., 1., 1., 1., 1., 1., 1., 1., 1., 1.,\n",
       "        1., 1., 1., 1., 1., 1., 1., 1., 1., 1., 1., 1., 1., 1., 1., 1., 1., 1.,\n",
       "        1., 1., 1., 1., 1., 1., 1., 1., 1., 1., 1., 1., 1., 1., 1., 1., 1., 1.,\n",
       "        1., 1., 1., 1., 1., 1., 1., 1., 1., 1., 1., 1., 1., 1., 1., 1., 1., 1.,\n",
       "        1., 1., 1., 1., 1., 1., 1., 1., 1., 1., 1., 1., 1., 1., 1., 1., 1., 1.,\n",
       "        1., 1., 1., 1., 1., 1., 1., 1., 1., 1., 1., 1., 1., 1., 1., 1., 1., 1.,\n",
       "        1., 1., 1., 1., 1., 1., 1., 1., 1., 1., 1., 1., 1., 1., 1., 1., 1., 1.,\n",
       "        1., 1., 1., 1., 1., 1., 1., 1., 1., 1., 1., 1., 1., 1., 1., 1., 1., 1.,\n",
       "        1., 1., 1., 1., 1., 1., 1., 1., 1., 1., 1., 1., 1., 1., 1., 1., 1., 1.,\n",
       "        1., 1., 1., 1., 1., 1., 1., 1., 1., 1., 1., 1.])"
      ]
     },
     "execution_count": 60,
     "metadata": {},
     "output_type": "execute_result"
    }
   ],
   "source": [
    "final_targets[780:1170]"
   ]
  },
  {
   "cell_type": "markdown",
   "metadata": {},
   "source": [
    "# Architecture 1.0 : vanilla CNN for DOA "
   ]
  },
  {
   "cell_type": "markdown",
   "metadata": {},
   "source": [
    " In this section, we will focus on building a vanilla CNN in order to recognize the directions of arrival of the   sound in a specific room. Once done, we will then compare \"by hand\" the labelel dataset to the predicted values. This is the most basic setup and will try to improve latter."
   ]
  },
  {
   "cell_type": "markdown",
   "metadata": {},
   "source": [
    "## 1.1 Creating Model"
   ]
  },
  {
   "cell_type": "code",
   "execution_count": 19,
   "metadata": {},
   "outputs": [],
   "source": [
    "class Net(nn.Module):\n",
    "    def __init__(self,nb_hidden = 50, n = 4):\n",
    "        super(Net, self).__init__()\n",
    "        self.conv1 = nn.Conv2d(1, 8, kernel_size=2)\n",
    "        self.conv2 = nn.Conv2d(8, 8, kernel_size=2)\n",
    "        self.conv3 = nn.Conv2d(8 ,8, kernel_size=2)\n",
    "        self.fc1 = nn.Linear(390096, nb_hidden)# (1x8064) being the dim of the censor obtained by flattening the output of the 3rd CL.\n",
    "        self.dropout = nn.Dropout(0.2)\n",
    "        self.fc2 = nn.Linear(nb_hidden*4,nb_hidden)\n",
    "        self.fc3 = nn.Linear(nb_hidden,2)\n",
    "        \n",
    "    \n",
    "    def forward(self, x, n):\n",
    "        #print(\"What actually enters the model:\",x.shape)\n",
    "        test =  x[:,:,0,:,:].view(-1,1,129,390)\n",
    "        #print(\"Shape of test:\",test.shape)\n",
    "        output = torch.zeros([390096,1])\n",
    "        for i in range(n):\n",
    "            \n",
    "            y = x[:,:,i,:,:].view(-1,1,129,390)\n",
    "            y = F.relu(self.conv1(y)) \n",
    "            y = F.relu(self.conv2(y))\n",
    "            y = F.relu(self.conv3(y))\n",
    "            y = F.relu(self.fc1(y.view(-1, 390096)))\n",
    "            \n",
    "            if (i==0):\n",
    "                output = y\n",
    "            else:\n",
    "                output = torch.cat((output,y),1)\n",
    "                \n",
    "        output = F.relu(self.fc2(output))\n",
    "        output = self.dropout(output)\n",
    "        output = F.softmax(self.fc3(output))        \n",
    "\n",
    "        return output            "
   ]
  },
  {
   "cell_type": "code",
   "execution_count": 20,
   "metadata": {},
   "outputs": [],
   "source": [
    "class ws_Net(nn.Module):\n",
    "    def __init__(self,nb_hidden = 50, n = 390 ):\n",
    "        super(ws_Net, self).__init__()\n",
    "        self.conv1 = nn.Conv2d(1, 8, kernel_size=2)\n",
    "        self.conv2 = nn.Conv2d(8, 8, kernel_size=2)\n",
    "        self.conv3 = nn.Conv2d(8 ,8, kernel_size=2)\n",
    "        self.fc1 = nn.Linear(1008, nb_hidden)# (1x1008) being the dim of the censor obtained by flattening the output of the 3rd CL.\n",
    "        self.fc2 = nn.Linear(nb_hidden*n,512)\n",
    "        self.fc3 = nn.Linear(512,2)\n",
    "        \n",
    "    \n",
    "    def forward(self, x, n):\n",
    "        \n",
    "        #print(\"What actually enters the model:\",x.shape)\n",
    "        test =  x[:,:,:,:,0].view(-1,1,4,129)\n",
    "        #print(\"Shape of test:\",test.shape)\n",
    "        output = torch.zeros([1008,1])\n",
    "        \n",
    "        for i in range(n):\n",
    "            y = x[:,:,:,:,i].view(-1,1,4,129)\n",
    "            y = F.relu(self.conv1(y)) \n",
    "            y = F.relu(self.conv2(y))\n",
    "            y = F.relu(self.conv3(y))\n",
    "            y = F.relu(self.fc1(y.view(-1, 1008)))\n",
    "            \n",
    "            if (i==0):\n",
    "                output = y\n",
    "            else:\n",
    "                output = torch.cat((output,y),1)\n",
    "                \n",
    "        #print(\"Shape of the out of fc1:\",output.shape)        \n",
    "                \n",
    "        output = F.relu(self.fc2(output))\n",
    "        \n",
    "        #print(\"Shape of the out of fc2:\",output.shape) \n",
    "\n",
    "        output = F.softmax(self.fc3(output))   \n",
    "        \n",
    "        return output  "
   ]
  },
  {
   "cell_type": "code",
   "execution_count": 104,
   "metadata": {},
   "outputs": [],
   "source": [
    "class SimpleModel(nn.Module):\n",
    "\n",
    "    def __init__(self, nb_hidden=512):\n",
    "        super(SimpleModel, self).__init__()\n",
    "        self.cl1 = nn.Conv2d(1, 64, kernel_size=2,stride=1)\n",
    "        self.cl2 = nn.Conv2d(64, 64, kernel_size=2,stride=1)\n",
    "        self.cl3 = nn.Conv2d(64, 64, kernel_size=2,stride=1)\n",
    "        self.fc1 = nn.Linear(8064, nb_hidden)\n",
    "        self.fc2 = nn.Linear(nb_hidden,nb_hidden)\n",
    "        self.fc3 = nn.Linear(nb_hidden,2)\n",
    " \n",
    " \n",
    "    def forward(self, x):\n",
    "       \n",
    "        x = F.relu(self.cl1(x))\n",
    "        x = F.relu(self.cl2(x))\n",
    "        x = F.relu(self.cl3(x))\n",
    "        x = F.relu(self.fc1(x.view(-1, 8064)))\n",
    "        x = F.relu(self.fc2(x))\n",
    "        x = F.softmax(self.fc3(x))\n",
    "        return x\n",
    "\n",
    "    def compute_nb_errors(self,model, data_input, data_target, mini_batch_size):\n",
    "\n",
    "        nb_data_errors = 0\n",
    "        for b in range(0, data_input.size(0), mini_batch_size):\n",
    "            a = model(data_input.narrow(0, b, mini_batch_size))\n",
    "            val = torch.max(a,1)[1]\n",
    "            for k in range(mini_batch_size):\n",
    "                if data_target.data[b + k] != val[k]:\n",
    "                    nb_data_errors = nb_data_errors + 1\n",
    "\n",
    "        return nb_data_errors"
   ]
  },
  {
   "cell_type": "markdown",
   "metadata": {},
   "source": [
    "### Preparing the Data"
   ]
  },
  {
   "cell_type": "code",
   "execution_count": 105,
   "metadata": {},
   "outputs": [],
   "source": [
    "def prep_input_vanilla(train_input):\n",
    "    new_train_input = train_input.view(-1,1,4,129)\n",
    "    return new_train_input"
   ]
  },
  {
   "cell_type": "code",
   "execution_count": 106,
   "metadata": {},
   "outputs": [],
   "source": [
    "def prep_input_model2(train_input):\n",
    "    new_train_input = train_input.view(-1,1,4,129,390)\n",
    "    return new_train_input"
   ]
  },
  {
   "cell_type": "code",
   "execution_count": 107,
   "metadata": {},
   "outputs": [
    {
     "data": {
      "text/plain": [
       "torch.Size([54600, 1, 4, 129])"
      ]
     },
     "execution_count": 107,
     "metadata": {},
     "output_type": "execute_result"
    }
   ],
   "source": [
    "train_data = prep_input_vanilla(final_data)\n",
    "train_data.shape"
   ]
  },
  {
   "cell_type": "markdown",
   "metadata": {},
   "source": [
    "train_data = prep_input_model2(data_matrix)\n",
    "train_data.shape"
   ]
  },
  {
   "cell_type": "code",
   "execution_count": 108,
   "metadata": {},
   "outputs": [],
   "source": [
    "def prep_labels_vanilla(train_input):\n",
    "    new_train_input = train_input.view(-1)\n",
    "    return new_train_input"
   ]
  },
  {
   "cell_type": "code",
   "execution_count": 109,
   "metadata": {},
   "outputs": [
    {
     "data": {
      "text/plain": [
       "torch.Size([54600])"
      ]
     },
     "execution_count": 109,
     "metadata": {},
     "output_type": "execute_result"
    }
   ],
   "source": [
    "train_targets = prep_labels_vanilla(final_targets)\n",
    "train_targets = train_targets.to(dtype=torch.int64)\n",
    "train_data, train_targets = Variable(train_data), Variable(train_targets)\n",
    "train_data.shape\n",
    "train_targets.shape"
   ]
  },
  {
   "cell_type": "markdown",
   "metadata": {},
   "source": [
    "### Spliting the Training Data into Training/Validation."
   ]
  },
  {
   "cell_type": "code",
   "execution_count": 110,
   "metadata": {},
   "outputs": [
    {
     "data": {
      "text/plain": [
       "(torch.Size([50000, 1, 4, 129]),\n",
       " torch.Size([4600, 1, 4, 129]),\n",
       " torch.Size([50000]),\n",
       " torch.Size([4600]),\n",
       " 50000,\n",
       " 4600)"
      ]
     },
     "execution_count": 110,
     "metadata": {},
     "output_type": "execute_result"
    }
   ],
   "source": [
    "training_data = train_data[0:50000]\n",
    "training_targets = train_targets[0:50000]\n",
    "validation_data = train_data[50000:54600]\n",
    "validation_targets = train_targets[50000:54600]\n",
    "training_data.shape, validation_data.shape, training_targets.shape, validation_targets.shape,len(training_targets),len(validation_targets)"
   ]
  },
  {
   "cell_type": "code",
   "execution_count": 111,
   "metadata": {},
   "outputs": [
    {
     "data": {
      "text/plain": [
       "tensor([1, 1, 1,  ..., 0, 0, 0])"
      ]
     },
     "execution_count": 111,
     "metadata": {},
     "output_type": "execute_result"
    }
   ],
   "source": [
    "train_targets"
   ]
  },
  {
   "cell_type": "markdown",
   "metadata": {},
   "source": [
    "### End of Sanity check."
   ]
  },
  {
   "cell_type": "markdown",
   "metadata": {},
   "source": [
    "## 1.2 Training the model"
   ]
  },
  {
   "cell_type": "code",
   "execution_count": 112,
   "metadata": {},
   "outputs": [],
   "source": [
    "model = Net()"
   ]
  },
  {
   "cell_type": "code",
   "execution_count": 113,
   "metadata": {},
   "outputs": [],
   "source": [
    "model1 = ws_Net()"
   ]
  },
  {
   "cell_type": "code",
   "execution_count": 114,
   "metadata": {},
   "outputs": [],
   "source": [
    "model2 = (SimpleModel()).float()"
   ]
  },
  {
   "cell_type": "code",
   "execution_count": 115,
   "metadata": {},
   "outputs": [],
   "source": [
    "mini_batch_size = 10\n",
    "nb_epochs = 10\n",
    "eta = 0.01 #learning rate\n",
    "#criterion = nn.MSELoss() # MeanSquaredloss\n",
    "criterion = torch.nn.CrossEntropyLoss() #Cross Entropy\n",
    "optimizer = torch.optim.SGD(model.parameters(), lr = eta, momentum = 0.95) #Stochastic gradient descent\n",
    "optimizer1 = torch.optim.Adam(model.parameters(), lr = eta, weight_decay=0.001) #ADAM\n",
    "net_ch = 4\n",
    "ws_ch = 390"
   ]
  },
  {
   "cell_type": "markdown",
   "metadata": {},
   "source": [
    "### Need to figure out how to use mini-batches to gain time in this configuration.\n",
    "#### train_model is the method used to update the weights."
   ]
  },
  {
   "cell_type": "code",
   "execution_count": 116,
   "metadata": {},
   "outputs": [],
   "source": [
    "def train_model_3(model, optimizer, nb_epochs, train_input, train_target ,mini_batch_size,n):\n",
    "\n",
    "    start = time.time()\n",
    "    for e in range(0,nb_epochs):\n",
    "        start_ep = time.time()\n",
    "        for b in range(0, train_input.size(0), mini_batch_size):\n",
    "            start = time.time()\n",
    "            #print(\"Shape of the input of the model:\",train_input.narrow(0, b, mini_batch_size).shape)\n",
    "            output = model(train_input.narrow(0, b, mini_batch_size),n)\n",
    "            target = train_target.narrow(0, b, mini_batch_size)\n",
    "            indices = output.argmax(1)\n",
    "            print(\"batch :\",b,\" Output :\",output,\"Targets:\", target)\n",
    "            loss = criterion(output,target)\n",
    "            optimizer.zero_grad()\n",
    "            loss.backward()\n",
    "            optimizer.step()\n",
    "            \n",
    "        if (e == 0):\n",
    "            end_ep = time.time()\n",
    "            print(\"Time for 1 epochs is :{:5}\".format(-(start_ep-end_ep)))\n",
    "            \n",
    "        print(\"Loss for epoch{:3} is {:5} \".format(e,loss.data.item()))\n",
    "            \n",
    "    end = time.time()\n",
    "    print(\"Time the hole training is :{:5}\".format(-(start-end)))\n",
    "\n",
    "       \n",
    "\n",
    "    "
   ]
  },
  {
   "cell_type": "code",
   "execution_count": 117,
   "metadata": {},
   "outputs": [],
   "source": [
    "def train_simple_model(model, optimizer, nb_epochs, train_input, train_target ,mini_batch_size):\n",
    "\n",
    "    start = time.time()\n",
    "    for e in range(0,nb_epochs):\n",
    "        start_ep = time.time()\n",
    "        for b in range(0, train_input.size(0), mini_batch_size):\n",
    "            start = time.time()\n",
    "            #print(\"Shape of the input of the model:\",train_input.narrow(0, b, mini_batch_size).shape)\n",
    "            output = model((train_input.narrow(0, b, mini_batch_size)).float())\n",
    "            target = train_target.narrow(0, b, mini_batch_size)\n",
    "            indices = output.argmax(1)\n",
    "            #print(\"batch :\",b,\" Output :\",output,\"Targets:\", target)\n",
    "            loss = criterion(output,target)\n",
    "            optimizer.zero_grad()\n",
    "            loss.backward()\n",
    "            optimizer.step()\n",
    "            \n",
    "        if (e == 0):\n",
    "            end_ep = time.time()\n",
    "            print(\"Time for 1 epochs is :{:5}\".format(-(start_ep-end_ep)))\n",
    "            \n",
    "        print(\"Loss for epoch{:3} is {:5} \".format(e,loss.data.item()))\n",
    "            \n",
    "    end = time.time()\n",
    "    print(\"Time the hole training is :{:5}\".format(-(start-end)))\n",
    "\n",
    "       "
   ]
  },
  {
   "cell_type": "code",
   "execution_count": 118,
   "metadata": {},
   "outputs": [
    {
     "name": "stderr",
     "output_type": "stream",
     "text": [
      "/home/janjar/test/lib/python3.5/site-packages/ipykernel_launcher.py:20: UserWarning: Implicit dimension choice for softmax has been deprecated. Change the call to include dim=X as an argument.\n"
     ]
    },
    {
     "name": "stdout",
     "output_type": "stream",
     "text": [
      "Time for 1 epochs is :72.02747130393982\n",
      "Loss for epoch  0 is 0.684106707572937 \n",
      "Loss for epoch  1 is 0.684106707572937 \n",
      "Loss for epoch  2 is 0.684106707572937 \n",
      "Loss for epoch  3 is 0.684106707572937 \n",
      "Loss for epoch  4 is 0.684106707572937 \n"
     ]
    },
    {
     "ename": "KeyboardInterrupt",
     "evalue": "",
     "output_type": "error",
     "traceback": [
      "\u001b[0;31m---------------------------------------------------------------------------\u001b[0m",
      "\u001b[0;31mKeyboardInterrupt\u001b[0m                         Traceback (most recent call last)",
      "\u001b[0;32m<ipython-input-118-b1c2e7e53b62>\u001b[0m in \u001b[0;36m<module>\u001b[0;34m\u001b[0m\n\u001b[0;32m----> 1\u001b[0;31m \u001b[0mtrain_simple_model\u001b[0m\u001b[0;34m(\u001b[0m\u001b[0mmodel2\u001b[0m\u001b[0;34m,\u001b[0m\u001b[0moptimizer1\u001b[0m\u001b[0;34m,\u001b[0m\u001b[0mnb_epochs\u001b[0m\u001b[0;34m,\u001b[0m\u001b[0mtraining_data\u001b[0m\u001b[0;34m,\u001b[0m\u001b[0mtraining_targets\u001b[0m\u001b[0;34m,\u001b[0m\u001b[0mmini_batch_size\u001b[0m\u001b[0;34m)\u001b[0m\u001b[0;34m\u001b[0m\u001b[0m\n\u001b[0m",
      "\u001b[0;32m<ipython-input-117-0bbfbfdee1cb>\u001b[0m in \u001b[0;36mtrain_simple_model\u001b[0;34m(model, optimizer, nb_epochs, train_input, train_target, mini_batch_size)\u001b[0m\n\u001b[1;32m     13\u001b[0m             \u001b[0mloss\u001b[0m \u001b[0;34m=\u001b[0m \u001b[0mcriterion\u001b[0m\u001b[0;34m(\u001b[0m\u001b[0moutput\u001b[0m\u001b[0;34m,\u001b[0m\u001b[0mtarget\u001b[0m\u001b[0;34m)\u001b[0m\u001b[0;34m\u001b[0m\u001b[0m\n\u001b[1;32m     14\u001b[0m             \u001b[0moptimizer\u001b[0m\u001b[0;34m.\u001b[0m\u001b[0mzero_grad\u001b[0m\u001b[0;34m(\u001b[0m\u001b[0;34m)\u001b[0m\u001b[0;34m\u001b[0m\u001b[0m\n\u001b[0;32m---> 15\u001b[0;31m             \u001b[0mloss\u001b[0m\u001b[0;34m.\u001b[0m\u001b[0mbackward\u001b[0m\u001b[0;34m(\u001b[0m\u001b[0;34m)\u001b[0m\u001b[0;34m\u001b[0m\u001b[0m\n\u001b[0m\u001b[1;32m     16\u001b[0m             \u001b[0moptimizer\u001b[0m\u001b[0;34m.\u001b[0m\u001b[0mstep\u001b[0m\u001b[0;34m(\u001b[0m\u001b[0;34m)\u001b[0m\u001b[0;34m\u001b[0m\u001b[0m\n\u001b[1;32m     17\u001b[0m \u001b[0;34m\u001b[0m\u001b[0m\n",
      "\u001b[0;32m~/test/lib/python3.5/site-packages/torch/tensor.py\u001b[0m in \u001b[0;36mbackward\u001b[0;34m(self, gradient, retain_graph, create_graph)\u001b[0m\n\u001b[1;32m    100\u001b[0m                 \u001b[0mproducts\u001b[0m\u001b[0;34m.\u001b[0m \u001b[0mDefaults\u001b[0m \u001b[0mto\u001b[0m\u001b[0;31m \u001b[0m\u001b[0;31m`\u001b[0m\u001b[0;31m`\u001b[0m\u001b[0;32mFalse\u001b[0m\u001b[0;31m`\u001b[0m\u001b[0;31m`\u001b[0m\u001b[0;34m.\u001b[0m\u001b[0;34m\u001b[0m\u001b[0m\n\u001b[1;32m    101\u001b[0m         \"\"\"\n\u001b[0;32m--> 102\u001b[0;31m         \u001b[0mtorch\u001b[0m\u001b[0;34m.\u001b[0m\u001b[0mautograd\u001b[0m\u001b[0;34m.\u001b[0m\u001b[0mbackward\u001b[0m\u001b[0;34m(\u001b[0m\u001b[0mself\u001b[0m\u001b[0;34m,\u001b[0m \u001b[0mgradient\u001b[0m\u001b[0;34m,\u001b[0m \u001b[0mretain_graph\u001b[0m\u001b[0;34m,\u001b[0m \u001b[0mcreate_graph\u001b[0m\u001b[0;34m)\u001b[0m\u001b[0;34m\u001b[0m\u001b[0m\n\u001b[0m\u001b[1;32m    103\u001b[0m \u001b[0;34m\u001b[0m\u001b[0m\n\u001b[1;32m    104\u001b[0m     \u001b[0;32mdef\u001b[0m \u001b[0mregister_hook\u001b[0m\u001b[0;34m(\u001b[0m\u001b[0mself\u001b[0m\u001b[0;34m,\u001b[0m \u001b[0mhook\u001b[0m\u001b[0;34m)\u001b[0m\u001b[0;34m:\u001b[0m\u001b[0;34m\u001b[0m\u001b[0m\n",
      "\u001b[0;32m~/test/lib/python3.5/site-packages/torch/autograd/__init__.py\u001b[0m in \u001b[0;36mbackward\u001b[0;34m(tensors, grad_tensors, retain_graph, create_graph, grad_variables)\u001b[0m\n\u001b[1;32m     88\u001b[0m     Variable._execution_engine.run_backward(\n\u001b[1;32m     89\u001b[0m         \u001b[0mtensors\u001b[0m\u001b[0;34m,\u001b[0m \u001b[0mgrad_tensors\u001b[0m\u001b[0;34m,\u001b[0m \u001b[0mretain_graph\u001b[0m\u001b[0;34m,\u001b[0m \u001b[0mcreate_graph\u001b[0m\u001b[0;34m,\u001b[0m\u001b[0;34m\u001b[0m\u001b[0m\n\u001b[0;32m---> 90\u001b[0;31m         allow_unreachable=True)  # allow_unreachable flag\n\u001b[0m\u001b[1;32m     91\u001b[0m \u001b[0;34m\u001b[0m\u001b[0m\n\u001b[1;32m     92\u001b[0m \u001b[0;34m\u001b[0m\u001b[0m\n",
      "\u001b[0;31mKeyboardInterrupt\u001b[0m: "
     ]
    }
   ],
   "source": [
    "train_simple_model(model2,optimizer1,nb_epochs,training_data,training_targets,mini_batch_size)"
   ]
  },
  {
   "cell_type": "code",
   "execution_count": 119,
   "metadata": {},
   "outputs": [
    {
     "ename": "IndexError",
     "evalue": "too many indices for tensor of dimension 4",
     "output_type": "error",
     "traceback": [
      "\u001b[0;31m---------------------------------------------------------------------------\u001b[0m",
      "\u001b[0;31mIndexError\u001b[0m                                Traceback (most recent call last)",
      "\u001b[0;32m<ipython-input-119-0470300a70f1>\u001b[0m in \u001b[0;36m<module>\u001b[0;34m\u001b[0m\n\u001b[0;32m----> 1\u001b[0;31m \u001b[0mtrain_model_3\u001b[0m\u001b[0;34m(\u001b[0m\u001b[0mmodel\u001b[0m\u001b[0;34m,\u001b[0m\u001b[0moptimizer1\u001b[0m\u001b[0;34m,\u001b[0m\u001b[0mnb_epochs\u001b[0m\u001b[0;34m,\u001b[0m\u001b[0mtraining_data\u001b[0m\u001b[0;34m,\u001b[0m\u001b[0mtraining_targets\u001b[0m\u001b[0;34m,\u001b[0m\u001b[0mmini_batch_size\u001b[0m\u001b[0;34m,\u001b[0m\u001b[0mnet_ch\u001b[0m\u001b[0;34m)\u001b[0m\u001b[0;34m\u001b[0m\u001b[0m\n\u001b[0m",
      "\u001b[0;32m<ipython-input-116-13cafce4d6bf>\u001b[0m in \u001b[0;36mtrain_model_3\u001b[0;34m(model, optimizer, nb_epochs, train_input, train_target, mini_batch_size, n)\u001b[0m\n\u001b[1;32m      7\u001b[0m             \u001b[0mstart\u001b[0m \u001b[0;34m=\u001b[0m \u001b[0mtime\u001b[0m\u001b[0;34m.\u001b[0m\u001b[0mtime\u001b[0m\u001b[0;34m(\u001b[0m\u001b[0;34m)\u001b[0m\u001b[0;34m\u001b[0m\u001b[0m\n\u001b[1;32m      8\u001b[0m             \u001b[0;31m#print(\"Shape of the input of the model:\",train_input.narrow(0, b, mini_batch_size).shape)\u001b[0m\u001b[0;34m\u001b[0m\u001b[0;34m\u001b[0m\u001b[0m\n\u001b[0;32m----> 9\u001b[0;31m             \u001b[0moutput\u001b[0m \u001b[0;34m=\u001b[0m \u001b[0mmodel\u001b[0m\u001b[0;34m(\u001b[0m\u001b[0mtrain_input\u001b[0m\u001b[0;34m.\u001b[0m\u001b[0mnarrow\u001b[0m\u001b[0;34m(\u001b[0m\u001b[0;36m0\u001b[0m\u001b[0;34m,\u001b[0m \u001b[0mb\u001b[0m\u001b[0;34m,\u001b[0m \u001b[0mmini_batch_size\u001b[0m\u001b[0;34m)\u001b[0m\u001b[0;34m,\u001b[0m\u001b[0mn\u001b[0m\u001b[0;34m)\u001b[0m\u001b[0;34m\u001b[0m\u001b[0m\n\u001b[0m\u001b[1;32m     10\u001b[0m             \u001b[0mtarget\u001b[0m \u001b[0;34m=\u001b[0m \u001b[0mtrain_target\u001b[0m\u001b[0;34m.\u001b[0m\u001b[0mnarrow\u001b[0m\u001b[0;34m(\u001b[0m\u001b[0;36m0\u001b[0m\u001b[0;34m,\u001b[0m \u001b[0mb\u001b[0m\u001b[0;34m,\u001b[0m \u001b[0mmini_batch_size\u001b[0m\u001b[0;34m)\u001b[0m\u001b[0;34m\u001b[0m\u001b[0m\n\u001b[1;32m     11\u001b[0m             \u001b[0mindices\u001b[0m \u001b[0;34m=\u001b[0m \u001b[0moutput\u001b[0m\u001b[0;34m.\u001b[0m\u001b[0margmax\u001b[0m\u001b[0;34m(\u001b[0m\u001b[0;36m1\u001b[0m\u001b[0;34m)\u001b[0m\u001b[0;34m\u001b[0m\u001b[0m\n",
      "\u001b[0;32m~/test/lib/python3.5/site-packages/torch/nn/modules/module.py\u001b[0m in \u001b[0;36m__call__\u001b[0;34m(self, *input, **kwargs)\u001b[0m\n\u001b[1;32m    487\u001b[0m             \u001b[0mresult\u001b[0m \u001b[0;34m=\u001b[0m \u001b[0mself\u001b[0m\u001b[0;34m.\u001b[0m\u001b[0m_slow_forward\u001b[0m\u001b[0;34m(\u001b[0m\u001b[0;34m*\u001b[0m\u001b[0minput\u001b[0m\u001b[0;34m,\u001b[0m \u001b[0;34m**\u001b[0m\u001b[0mkwargs\u001b[0m\u001b[0;34m)\u001b[0m\u001b[0;34m\u001b[0m\u001b[0m\n\u001b[1;32m    488\u001b[0m         \u001b[0;32melse\u001b[0m\u001b[0;34m:\u001b[0m\u001b[0;34m\u001b[0m\u001b[0m\n\u001b[0;32m--> 489\u001b[0;31m             \u001b[0mresult\u001b[0m \u001b[0;34m=\u001b[0m \u001b[0mself\u001b[0m\u001b[0;34m.\u001b[0m\u001b[0mforward\u001b[0m\u001b[0;34m(\u001b[0m\u001b[0;34m*\u001b[0m\u001b[0minput\u001b[0m\u001b[0;34m,\u001b[0m \u001b[0;34m**\u001b[0m\u001b[0mkwargs\u001b[0m\u001b[0;34m)\u001b[0m\u001b[0;34m\u001b[0m\u001b[0m\n\u001b[0m\u001b[1;32m    490\u001b[0m         \u001b[0;32mfor\u001b[0m \u001b[0mhook\u001b[0m \u001b[0;32min\u001b[0m \u001b[0mself\u001b[0m\u001b[0;34m.\u001b[0m\u001b[0m_forward_hooks\u001b[0m\u001b[0;34m.\u001b[0m\u001b[0mvalues\u001b[0m\u001b[0;34m(\u001b[0m\u001b[0;34m)\u001b[0m\u001b[0;34m:\u001b[0m\u001b[0;34m\u001b[0m\u001b[0m\n\u001b[1;32m    491\u001b[0m             \u001b[0mhook_result\u001b[0m \u001b[0;34m=\u001b[0m \u001b[0mhook\u001b[0m\u001b[0;34m(\u001b[0m\u001b[0mself\u001b[0m\u001b[0;34m,\u001b[0m \u001b[0minput\u001b[0m\u001b[0;34m,\u001b[0m \u001b[0mresult\u001b[0m\u001b[0;34m)\u001b[0m\u001b[0;34m\u001b[0m\u001b[0m\n",
      "\u001b[0;32m<ipython-input-19-9d746378b776>\u001b[0m in \u001b[0;36mforward\u001b[0;34m(self, x, n)\u001b[0m\n\u001b[1;32m     13\u001b[0m     \u001b[0;32mdef\u001b[0m \u001b[0mforward\u001b[0m\u001b[0;34m(\u001b[0m\u001b[0mself\u001b[0m\u001b[0;34m,\u001b[0m \u001b[0mx\u001b[0m\u001b[0;34m,\u001b[0m \u001b[0mn\u001b[0m\u001b[0;34m)\u001b[0m\u001b[0;34m:\u001b[0m\u001b[0;34m\u001b[0m\u001b[0m\n\u001b[1;32m     14\u001b[0m         \u001b[0;31m#print(\"What actually enters the model:\",x.shape)\u001b[0m\u001b[0;34m\u001b[0m\u001b[0;34m\u001b[0m\u001b[0m\n\u001b[0;32m---> 15\u001b[0;31m         \u001b[0mtest\u001b[0m \u001b[0;34m=\u001b[0m  \u001b[0mx\u001b[0m\u001b[0;34m[\u001b[0m\u001b[0;34m:\u001b[0m\u001b[0;34m,\u001b[0m\u001b[0;34m:\u001b[0m\u001b[0;34m,\u001b[0m\u001b[0;36m0\u001b[0m\u001b[0;34m,\u001b[0m\u001b[0;34m:\u001b[0m\u001b[0;34m,\u001b[0m\u001b[0;34m:\u001b[0m\u001b[0;34m]\u001b[0m\u001b[0;34m.\u001b[0m\u001b[0mview\u001b[0m\u001b[0;34m(\u001b[0m\u001b[0;34m-\u001b[0m\u001b[0;36m1\u001b[0m\u001b[0;34m,\u001b[0m\u001b[0;36m1\u001b[0m\u001b[0;34m,\u001b[0m\u001b[0;36m129\u001b[0m\u001b[0;34m,\u001b[0m\u001b[0;36m390\u001b[0m\u001b[0;34m)\u001b[0m\u001b[0;34m\u001b[0m\u001b[0m\n\u001b[0m\u001b[1;32m     16\u001b[0m         \u001b[0;31m#print(\"Shape of test:\",test.shape)\u001b[0m\u001b[0;34m\u001b[0m\u001b[0;34m\u001b[0m\u001b[0m\n\u001b[1;32m     17\u001b[0m         \u001b[0moutput\u001b[0m \u001b[0;34m=\u001b[0m \u001b[0mtorch\u001b[0m\u001b[0;34m.\u001b[0m\u001b[0mzeros\u001b[0m\u001b[0;34m(\u001b[0m\u001b[0;34m[\u001b[0m\u001b[0;36m390096\u001b[0m\u001b[0;34m,\u001b[0m\u001b[0;36m1\u001b[0m\u001b[0;34m]\u001b[0m\u001b[0;34m)\u001b[0m\u001b[0;34m\u001b[0m\u001b[0m\n",
      "\u001b[0;31mIndexError\u001b[0m: too many indices for tensor of dimension 4"
     ]
    }
   ],
   "source": [
    "train_model_3(model,optimizer1,nb_epochs,training_data,training_targets,mini_batch_size,net_ch)"
   ]
  },
  {
   "cell_type": "code",
   "execution_count": 126,
   "metadata": {},
   "outputs": [
    {
     "name": "stderr",
     "output_type": "stream",
     "text": [
      "/home/janjar/test/lib/python3.5/site-packages/ipykernel_launcher.py:33: UserWarning: Implicit dimension choice for softmax has been deprecated. Change the call to include dim=X as an argument.\n"
     ]
    },
    {
     "data": {
      "text/plain": [
       "tensor([[0.5331, 0.4669],\n",
       "        [0.5286, 0.4714],\n",
       "        [0.5245, 0.4755],\n",
       "        [0.5264, 0.4736],\n",
       "        [0.5281, 0.4719],\n",
       "        [0.5284, 0.4716],\n",
       "        [0.5246, 0.4754],\n",
       "        [0.5336, 0.4664],\n",
       "        [0.5213, 0.4787],\n",
       "        [0.5343, 0.4657]], grad_fn=<SoftmaxBackward>)"
      ]
     },
     "execution_count": 126,
     "metadata": {},
     "output_type": "execute_result"
    }
   ],
   "source": [
    "t = model(validation_data[10:20],4)\n",
    "t"
   ]
  },
  {
   "cell_type": "code",
   "execution_count": 71,
   "metadata": {},
   "outputs": [
    {
     "data": {
      "text/plain": [
       "tensor([0, 1, 1, 0, 1, 1, 1, 1, 1, 0])"
      ]
     },
     "execution_count": 71,
     "metadata": {},
     "output_type": "execute_result"
    }
   ],
   "source": [
    "validation_targets[10:20]"
   ]
  },
  {
   "cell_type": "code",
   "execution_count": 125,
   "metadata": {},
   "outputs": [
    {
     "name": "stderr",
     "output_type": "stream",
     "text": [
      "/home/janjar/test/lib/python3.5/site-packages/ipykernel_launcher.py:37: UserWarning: Implicit dimension choice for softmax has been deprecated. Change the call to include dim=X as an argument.\n"
     ]
    },
    {
     "name": "stdout",
     "output_type": "stream",
     "text": [
      "batch : 0  Output : tensor([[0.5145, 0.4855],\n",
      "        [0.5141, 0.4859],\n",
      "        [0.5137, 0.4863],\n",
      "        [0.5115, 0.4885],\n",
      "        [0.5135, 0.4865],\n",
      "        [0.5137, 0.4863],\n",
      "        [0.5147, 0.4853],\n",
      "        [0.5143, 0.4857],\n",
      "        [0.5114, 0.4886],\n",
      "        [0.5147, 0.4853]], grad_fn=<SoftmaxBackward>) Targets: tensor([1, 1, 1, 1, 0, 1, 1, 0, 0, 0])\n",
      "batch : 10  Output : tensor([[0.5154, 0.4846],\n",
      "        [0.5128, 0.4872],\n",
      "        [0.5108, 0.4892],\n",
      "        [0.5109, 0.4891],\n",
      "        [0.5123, 0.4877],\n",
      "        [0.5158, 0.4842],\n",
      "        [0.5153, 0.4847],\n",
      "        [0.5151, 0.4849],\n",
      "        [0.5146, 0.4854],\n",
      "        [0.5148, 0.4852]], grad_fn=<SoftmaxBackward>) Targets: tensor([0, 0, 1, 0, 0, 1, 1, 0, 1, 1])\n",
      "batch : 20  Output : tensor([[0.5152, 0.4848],\n",
      "        [0.5166, 0.4834],\n",
      "        [0.5146, 0.4854],\n",
      "        [0.5153, 0.4847],\n",
      "        [0.5168, 0.4832],\n",
      "        [0.5172, 0.4828],\n",
      "        [0.5140, 0.4860],\n",
      "        [0.5166, 0.4834],\n",
      "        [0.5173, 0.4827],\n",
      "        [0.5128, 0.4872]], grad_fn=<SoftmaxBackward>) Targets: tensor([1, 0, 0, 1, 0, 0, 0, 0, 0, 1])\n",
      "batch : 30  Output : tensor([[0.5140, 0.4860],\n",
      "        [0.5138, 0.4862],\n",
      "        [0.5136, 0.4864],\n",
      "        [0.5125, 0.4875],\n",
      "        [0.5111, 0.4889],\n",
      "        [0.5147, 0.4853],\n",
      "        [0.5142, 0.4858],\n",
      "        [0.5136, 0.4864],\n",
      "        [0.5098, 0.4902],\n",
      "        [0.5122, 0.4878]], grad_fn=<SoftmaxBackward>) Targets: tensor([1, 0, 0, 1, 0, 1, 0, 0, 0, 0])\n",
      "batch : 40  Output : tensor([[0.5104, 0.4896],\n",
      "        [0.5150, 0.4850],\n",
      "        [0.5153, 0.4847],\n",
      "        [0.5107, 0.4893],\n",
      "        [0.5145, 0.4855],\n",
      "        [0.5146, 0.4854],\n",
      "        [0.5124, 0.4876],\n",
      "        [0.5126, 0.4874],\n",
      "        [0.5135, 0.4865],\n",
      "        [0.5148, 0.4852]], grad_fn=<SoftmaxBackward>) Targets: tensor([1, 0, 0, 0, 0, 0, 0, 1, 1, 1])\n",
      "batch : 50  Output : tensor([[0.5152, 0.4848],\n",
      "        [0.5141, 0.4859],\n",
      "        [0.5156, 0.4844],\n",
      "        [0.5152, 0.4848],\n",
      "        [0.5123, 0.4877],\n",
      "        [0.5130, 0.4870],\n",
      "        [0.5147, 0.4853],\n",
      "        [0.5140, 0.4860],\n",
      "        [0.5111, 0.4889],\n",
      "        [0.5155, 0.4845]], grad_fn=<SoftmaxBackward>) Targets: tensor([0, 1, 1, 0, 0, 0, 1, 1, 1, 1])\n",
      "batch : 60  Output : tensor([[0.5129, 0.4871],\n",
      "        [0.5148, 0.4852],\n",
      "        [0.5136, 0.4864],\n",
      "        [0.5116, 0.4884],\n",
      "        [0.5154, 0.4846],\n",
      "        [0.5131, 0.4869],\n",
      "        [0.5140, 0.4860],\n",
      "        [0.5128, 0.4872],\n",
      "        [0.5141, 0.4859],\n",
      "        [0.5158, 0.4842]], grad_fn=<SoftmaxBackward>) Targets: tensor([1, 0, 0, 0, 0, 1, 1, 0, 0, 0])\n",
      "batch : 70  Output : tensor([[0.5109, 0.4891],\n",
      "        [0.5145, 0.4855],\n",
      "        [0.5136, 0.4864],\n",
      "        [0.5122, 0.4878],\n",
      "        [0.5116, 0.4884],\n",
      "        [0.5123, 0.4877],\n",
      "        [0.5122, 0.4878],\n",
      "        [0.5174, 0.4826],\n",
      "        [0.5114, 0.4886],\n",
      "        [0.5129, 0.4871]], grad_fn=<SoftmaxBackward>) Targets: tensor([1, 0, 0, 0, 0, 1, 0, 0, 0, 0])\n",
      "batch : 80  Output : tensor([[0.5136, 0.4864],\n",
      "        [0.5193, 0.4807],\n",
      "        [0.5133, 0.4867],\n",
      "        [0.5144, 0.4856],\n",
      "        [0.5129, 0.4871],\n",
      "        [0.5128, 0.4872],\n",
      "        [0.5171, 0.4829],\n",
      "        [0.5157, 0.4843],\n",
      "        [0.5167, 0.4833],\n",
      "        [0.5104, 0.4896]], grad_fn=<SoftmaxBackward>) Targets: tensor([1, 0, 1, 1, 0, 0, 0, 1, 0, 1])\n",
      "batch : 90  Output : tensor([[0.5122, 0.4878],\n",
      "        [0.5152, 0.4848],\n",
      "        [0.5150, 0.4850],\n",
      "        [0.5115, 0.4885],\n",
      "        [0.5159, 0.4841],\n",
      "        [0.5143, 0.4857],\n",
      "        [0.5158, 0.4842],\n",
      "        [0.5139, 0.4861],\n",
      "        [0.5124, 0.4876],\n",
      "        [0.5116, 0.4883]], grad_fn=<SoftmaxBackward>) Targets: tensor([1, 0, 1, 0, 1, 0, 0, 0, 0, 1])\n",
      "batch : 100  Output : tensor([[0.5158, 0.4842],\n",
      "        [0.5141, 0.4859],\n",
      "        [0.5137, 0.4863],\n",
      "        [0.5162, 0.4838],\n",
      "        [0.5144, 0.4856],\n",
      "        [0.5086, 0.4914],\n",
      "        [0.5165, 0.4835],\n",
      "        [0.5120, 0.4880],\n",
      "        [0.5161, 0.4839],\n",
      "        [0.5141, 0.4859]], grad_fn=<SoftmaxBackward>) Targets: tensor([0, 1, 0, 1, 1, 0, 1, 0, 0, 0])\n",
      "batch : 110  Output : tensor([[0.5157, 0.4843],\n",
      "        [0.5119, 0.4881],\n",
      "        [0.5134, 0.4866],\n",
      "        [0.5175, 0.4825],\n",
      "        [0.5140, 0.4860],\n",
      "        [0.5127, 0.4873],\n",
      "        [0.5130, 0.4870],\n",
      "        [0.5163, 0.4837],\n",
      "        [0.5098, 0.4902],\n",
      "        [0.5159, 0.4841]], grad_fn=<SoftmaxBackward>) Targets: tensor([0, 0, 1, 1, 0, 1, 0, 1, 0, 0])\n",
      "Time for 1 epochs is :32.11829972267151\n",
      "Loss for epoch  0 is 0.6912064552307129 \n",
      "batch : 0  Output : tensor([[0.5145, 0.4855],\n",
      "        [0.5141, 0.4859],\n",
      "        [0.5137, 0.4863],\n",
      "        [0.5115, 0.4885],\n",
      "        [0.5135, 0.4865],\n",
      "        [0.5137, 0.4863],\n",
      "        [0.5147, 0.4853],\n",
      "        [0.5143, 0.4857],\n",
      "        [0.5114, 0.4886],\n",
      "        [0.5147, 0.4853]], grad_fn=<SoftmaxBackward>) Targets: tensor([1, 1, 1, 1, 0, 1, 1, 0, 0, 0])\n",
      "batch : 10  Output : tensor([[0.5154, 0.4846],\n",
      "        [0.5128, 0.4872],\n",
      "        [0.5108, 0.4892],\n",
      "        [0.5109, 0.4891],\n",
      "        [0.5123, 0.4877],\n",
      "        [0.5158, 0.4842],\n",
      "        [0.5153, 0.4847],\n",
      "        [0.5151, 0.4849],\n",
      "        [0.5146, 0.4854],\n",
      "        [0.5148, 0.4852]], grad_fn=<SoftmaxBackward>) Targets: tensor([0, 0, 1, 0, 0, 1, 1, 0, 1, 1])\n",
      "batch : 20  Output : tensor([[0.5152, 0.4848],\n",
      "        [0.5166, 0.4834],\n",
      "        [0.5146, 0.4854],\n",
      "        [0.5153, 0.4847],\n",
      "        [0.5168, 0.4832],\n",
      "        [0.5172, 0.4828],\n",
      "        [0.5140, 0.4860],\n",
      "        [0.5166, 0.4834],\n",
      "        [0.5173, 0.4827],\n",
      "        [0.5128, 0.4872]], grad_fn=<SoftmaxBackward>) Targets: tensor([1, 0, 0, 1, 0, 0, 0, 0, 0, 1])\n",
      "batch : 30  Output : tensor([[0.5140, 0.4860],\n",
      "        [0.5138, 0.4862],\n",
      "        [0.5136, 0.4864],\n",
      "        [0.5125, 0.4875],\n",
      "        [0.5111, 0.4889],\n",
      "        [0.5147, 0.4853],\n",
      "        [0.5142, 0.4858],\n",
      "        [0.5136, 0.4864],\n",
      "        [0.5098, 0.4902],\n",
      "        [0.5122, 0.4878]], grad_fn=<SoftmaxBackward>) Targets: tensor([1, 0, 0, 1, 0, 1, 0, 0, 0, 0])\n",
      "batch : 40  Output : tensor([[0.5104, 0.4896],\n",
      "        [0.5150, 0.4850],\n",
      "        [0.5153, 0.4847],\n",
      "        [0.5107, 0.4893],\n",
      "        [0.5145, 0.4855],\n",
      "        [0.5146, 0.4854],\n",
      "        [0.5124, 0.4876],\n",
      "        [0.5126, 0.4874],\n",
      "        [0.5135, 0.4865],\n",
      "        [0.5148, 0.4852]], grad_fn=<SoftmaxBackward>) Targets: tensor([1, 0, 0, 0, 0, 0, 0, 1, 1, 1])\n",
      "batch : 50  Output : tensor([[0.5152, 0.4848],\n",
      "        [0.5141, 0.4859],\n",
      "        [0.5156, 0.4844],\n",
      "        [0.5152, 0.4848],\n",
      "        [0.5123, 0.4877],\n",
      "        [0.5130, 0.4870],\n",
      "        [0.5147, 0.4853],\n",
      "        [0.5140, 0.4860],\n",
      "        [0.5111, 0.4889],\n",
      "        [0.5155, 0.4845]], grad_fn=<SoftmaxBackward>) Targets: tensor([0, 1, 1, 0, 0, 0, 1, 1, 1, 1])\n",
      "batch : 60  Output : tensor([[0.5129, 0.4871],\n",
      "        [0.5148, 0.4852],\n",
      "        [0.5136, 0.4864],\n",
      "        [0.5116, 0.4884],\n",
      "        [0.5154, 0.4846],\n",
      "        [0.5131, 0.4869],\n",
      "        [0.5140, 0.4860],\n",
      "        [0.5128, 0.4872],\n",
      "        [0.5141, 0.4859],\n",
      "        [0.5158, 0.4842]], grad_fn=<SoftmaxBackward>) Targets: tensor([1, 0, 0, 0, 0, 1, 1, 0, 0, 0])\n",
      "batch : 70  Output : tensor([[0.5109, 0.4891],\n",
      "        [0.5145, 0.4855],\n",
      "        [0.5136, 0.4864],\n",
      "        [0.5122, 0.4878],\n",
      "        [0.5116, 0.4884],\n",
      "        [0.5123, 0.4877],\n",
      "        [0.5122, 0.4878],\n",
      "        [0.5174, 0.4826],\n",
      "        [0.5114, 0.4886],\n",
      "        [0.5129, 0.4871]], grad_fn=<SoftmaxBackward>) Targets: tensor([1, 0, 0, 0, 0, 1, 0, 0, 0, 0])\n",
      "batch : 80  Output : tensor([[0.5136, 0.4864],\n",
      "        [0.5193, 0.4807],\n",
      "        [0.5133, 0.4867],\n",
      "        [0.5144, 0.4856],\n",
      "        [0.5129, 0.4871],\n",
      "        [0.5128, 0.4872],\n",
      "        [0.5171, 0.4829],\n",
      "        [0.5157, 0.4843],\n",
      "        [0.5167, 0.4833],\n",
      "        [0.5104, 0.4896]], grad_fn=<SoftmaxBackward>) Targets: tensor([1, 0, 1, 1, 0, 0, 0, 1, 0, 1])\n",
      "batch : 90  Output : tensor([[0.5122, 0.4878],\n",
      "        [0.5152, 0.4848],\n",
      "        [0.5150, 0.4850],\n",
      "        [0.5115, 0.4885],\n",
      "        [0.5159, 0.4841],\n",
      "        [0.5143, 0.4857],\n",
      "        [0.5158, 0.4842],\n",
      "        [0.5139, 0.4861],\n",
      "        [0.5124, 0.4876],\n",
      "        [0.5116, 0.4883]], grad_fn=<SoftmaxBackward>) Targets: tensor([1, 0, 1, 0, 1, 0, 0, 0, 0, 1])\n",
      "batch : 100  Output : tensor([[0.5158, 0.4842],\n",
      "        [0.5141, 0.4859],\n",
      "        [0.5137, 0.4863],\n",
      "        [0.5162, 0.4838],\n",
      "        [0.5144, 0.4856],\n",
      "        [0.5086, 0.4914],\n",
      "        [0.5165, 0.4835],\n",
      "        [0.5120, 0.4880],\n",
      "        [0.5161, 0.4839],\n",
      "        [0.5141, 0.4859]], grad_fn=<SoftmaxBackward>) Targets: tensor([0, 1, 0, 1, 1, 0, 1, 0, 0, 0])\n"
     ]
    },
    {
     "name": "stdout",
     "output_type": "stream",
     "text": [
      "batch : 110  Output : tensor([[0.5157, 0.4843],\n",
      "        [0.5119, 0.4881],\n",
      "        [0.5134, 0.4866],\n",
      "        [0.5175, 0.4825],\n",
      "        [0.5140, 0.4860],\n",
      "        [0.5127, 0.4873],\n",
      "        [0.5130, 0.4870],\n",
      "        [0.5163, 0.4837],\n",
      "        [0.5098, 0.4902],\n",
      "        [0.5159, 0.4841]], grad_fn=<SoftmaxBackward>) Targets: tensor([0, 0, 1, 1, 0, 1, 0, 1, 0, 0])\n",
      "Loss for epoch  1 is 0.6912064552307129 \n",
      "batch : 0  Output : tensor([[0.5145, 0.4855],\n",
      "        [0.5141, 0.4859],\n",
      "        [0.5137, 0.4863],\n",
      "        [0.5115, 0.4885],\n",
      "        [0.5135, 0.4865],\n",
      "        [0.5137, 0.4863],\n",
      "        [0.5147, 0.4853],\n",
      "        [0.5143, 0.4857],\n",
      "        [0.5114, 0.4886],\n",
      "        [0.5147, 0.4853]], grad_fn=<SoftmaxBackward>) Targets: tensor([1, 1, 1, 1, 0, 1, 1, 0, 0, 0])\n",
      "batch : 10  Output : tensor([[0.5154, 0.4846],\n",
      "        [0.5128, 0.4872],\n",
      "        [0.5108, 0.4892],\n",
      "        [0.5109, 0.4891],\n",
      "        [0.5123, 0.4877],\n",
      "        [0.5158, 0.4842],\n",
      "        [0.5153, 0.4847],\n",
      "        [0.5151, 0.4849],\n",
      "        [0.5146, 0.4854],\n",
      "        [0.5148, 0.4852]], grad_fn=<SoftmaxBackward>) Targets: tensor([0, 0, 1, 0, 0, 1, 1, 0, 1, 1])\n",
      "batch : 20  Output : tensor([[0.5152, 0.4848],\n",
      "        [0.5166, 0.4834],\n",
      "        [0.5146, 0.4854],\n",
      "        [0.5153, 0.4847],\n",
      "        [0.5168, 0.4832],\n",
      "        [0.5172, 0.4828],\n",
      "        [0.5140, 0.4860],\n",
      "        [0.5166, 0.4834],\n",
      "        [0.5173, 0.4827],\n",
      "        [0.5128, 0.4872]], grad_fn=<SoftmaxBackward>) Targets: tensor([1, 0, 0, 1, 0, 0, 0, 0, 0, 1])\n",
      "batch : 30  Output : tensor([[0.5140, 0.4860],\n",
      "        [0.5138, 0.4862],\n",
      "        [0.5136, 0.4864],\n",
      "        [0.5125, 0.4875],\n",
      "        [0.5111, 0.4889],\n",
      "        [0.5147, 0.4853],\n",
      "        [0.5142, 0.4858],\n",
      "        [0.5136, 0.4864],\n",
      "        [0.5098, 0.4902],\n",
      "        [0.5122, 0.4878]], grad_fn=<SoftmaxBackward>) Targets: tensor([1, 0, 0, 1, 0, 1, 0, 0, 0, 0])\n",
      "batch : 40  Output : tensor([[0.5104, 0.4896],\n",
      "        [0.5150, 0.4850],\n",
      "        [0.5153, 0.4847],\n",
      "        [0.5107, 0.4893],\n",
      "        [0.5145, 0.4855],\n",
      "        [0.5146, 0.4854],\n",
      "        [0.5124, 0.4876],\n",
      "        [0.5126, 0.4874],\n",
      "        [0.5135, 0.4865],\n",
      "        [0.5148, 0.4852]], grad_fn=<SoftmaxBackward>) Targets: tensor([1, 0, 0, 0, 0, 0, 0, 1, 1, 1])\n",
      "batch : 50  Output : tensor([[0.5152, 0.4848],\n",
      "        [0.5141, 0.4859],\n",
      "        [0.5156, 0.4844],\n",
      "        [0.5152, 0.4848],\n",
      "        [0.5123, 0.4877],\n",
      "        [0.5130, 0.4870],\n",
      "        [0.5147, 0.4853],\n",
      "        [0.5140, 0.4860],\n",
      "        [0.5111, 0.4889],\n",
      "        [0.5155, 0.4845]], grad_fn=<SoftmaxBackward>) Targets: tensor([0, 1, 1, 0, 0, 0, 1, 1, 1, 1])\n",
      "batch : 60  Output : tensor([[0.5129, 0.4871],\n",
      "        [0.5148, 0.4852],\n",
      "        [0.5136, 0.4864],\n",
      "        [0.5116, 0.4884],\n",
      "        [0.5154, 0.4846],\n",
      "        [0.5131, 0.4869],\n",
      "        [0.5140, 0.4860],\n",
      "        [0.5128, 0.4872],\n",
      "        [0.5141, 0.4859],\n",
      "        [0.5158, 0.4842]], grad_fn=<SoftmaxBackward>) Targets: tensor([1, 0, 0, 0, 0, 1, 1, 0, 0, 0])\n",
      "batch : 70  Output : tensor([[0.5109, 0.4891],\n",
      "        [0.5145, 0.4855],\n",
      "        [0.5136, 0.4864],\n",
      "        [0.5122, 0.4878],\n",
      "        [0.5116, 0.4884],\n",
      "        [0.5123, 0.4877],\n",
      "        [0.5122, 0.4878],\n",
      "        [0.5174, 0.4826],\n",
      "        [0.5114, 0.4886],\n",
      "        [0.5129, 0.4871]], grad_fn=<SoftmaxBackward>) Targets: tensor([1, 0, 0, 0, 0, 1, 0, 0, 0, 0])\n",
      "batch : 80  Output : tensor([[0.5136, 0.4864],\n",
      "        [0.5193, 0.4807],\n",
      "        [0.5133, 0.4867],\n",
      "        [0.5144, 0.4856],\n",
      "        [0.5129, 0.4871],\n",
      "        [0.5128, 0.4872],\n",
      "        [0.5171, 0.4829],\n",
      "        [0.5157, 0.4843],\n",
      "        [0.5167, 0.4833],\n",
      "        [0.5104, 0.4896]], grad_fn=<SoftmaxBackward>) Targets: tensor([1, 0, 1, 1, 0, 0, 0, 1, 0, 1])\n",
      "batch : 90  Output : tensor([[0.5122, 0.4878],\n",
      "        [0.5152, 0.4848],\n",
      "        [0.5150, 0.4850],\n",
      "        [0.5115, 0.4885],\n",
      "        [0.5159, 0.4841],\n",
      "        [0.5143, 0.4857],\n",
      "        [0.5158, 0.4842],\n",
      "        [0.5139, 0.4861],\n",
      "        [0.5124, 0.4876],\n",
      "        [0.5116, 0.4883]], grad_fn=<SoftmaxBackward>) Targets: tensor([1, 0, 1, 0, 1, 0, 0, 0, 0, 1])\n",
      "batch : 100  Output : tensor([[0.5158, 0.4842],\n",
      "        [0.5141, 0.4859],\n",
      "        [0.5137, 0.4863],\n",
      "        [0.5162, 0.4838],\n",
      "        [0.5144, 0.4856],\n",
      "        [0.5086, 0.4914],\n",
      "        [0.5165, 0.4835],\n",
      "        [0.5120, 0.4880],\n",
      "        [0.5161, 0.4839],\n",
      "        [0.5141, 0.4859]], grad_fn=<SoftmaxBackward>) Targets: tensor([0, 1, 0, 1, 1, 0, 1, 0, 0, 0])\n",
      "batch : 110  Output : tensor([[0.5157, 0.4843],\n",
      "        [0.5119, 0.4881],\n",
      "        [0.5134, 0.4866],\n",
      "        [0.5175, 0.4825],\n",
      "        [0.5140, 0.4860],\n",
      "        [0.5127, 0.4873],\n",
      "        [0.5130, 0.4870],\n",
      "        [0.5163, 0.4837],\n",
      "        [0.5098, 0.4902],\n",
      "        [0.5159, 0.4841]], grad_fn=<SoftmaxBackward>) Targets: tensor([0, 0, 1, 1, 0, 1, 0, 1, 0, 0])\n",
      "Loss for epoch  2 is 0.6912064552307129 \n",
      "batch : 0  Output : tensor([[0.5145, 0.4855],\n",
      "        [0.5141, 0.4859],\n",
      "        [0.5137, 0.4863],\n",
      "        [0.5115, 0.4885],\n",
      "        [0.5135, 0.4865],\n",
      "        [0.5137, 0.4863],\n",
      "        [0.5147, 0.4853],\n",
      "        [0.5143, 0.4857],\n",
      "        [0.5114, 0.4886],\n",
      "        [0.5147, 0.4853]], grad_fn=<SoftmaxBackward>) Targets: tensor([1, 1, 1, 1, 0, 1, 1, 0, 0, 0])\n",
      "batch : 10  Output : tensor([[0.5154, 0.4846],\n",
      "        [0.5128, 0.4872],\n",
      "        [0.5108, 0.4892],\n",
      "        [0.5109, 0.4891],\n",
      "        [0.5123, 0.4877],\n",
      "        [0.5158, 0.4842],\n",
      "        [0.5153, 0.4847],\n",
      "        [0.5151, 0.4849],\n",
      "        [0.5146, 0.4854],\n",
      "        [0.5148, 0.4852]], grad_fn=<SoftmaxBackward>) Targets: tensor([0, 0, 1, 0, 0, 1, 1, 0, 1, 1])\n",
      "batch : 20  Output : tensor([[0.5152, 0.4848],\n",
      "        [0.5166, 0.4834],\n",
      "        [0.5146, 0.4854],\n",
      "        [0.5153, 0.4847],\n",
      "        [0.5168, 0.4832],\n",
      "        [0.5172, 0.4828],\n",
      "        [0.5140, 0.4860],\n",
      "        [0.5166, 0.4834],\n",
      "        [0.5173, 0.4827],\n",
      "        [0.5128, 0.4872]], grad_fn=<SoftmaxBackward>) Targets: tensor([1, 0, 0, 1, 0, 0, 0, 0, 0, 1])\n",
      "batch : 30  Output : tensor([[0.5140, 0.4860],\n",
      "        [0.5138, 0.4862],\n",
      "        [0.5136, 0.4864],\n",
      "        [0.5125, 0.4875],\n",
      "        [0.5111, 0.4889],\n",
      "        [0.5147, 0.4853],\n",
      "        [0.5142, 0.4858],\n",
      "        [0.5136, 0.4864],\n",
      "        [0.5098, 0.4902],\n",
      "        [0.5122, 0.4878]], grad_fn=<SoftmaxBackward>) Targets: tensor([1, 0, 0, 1, 0, 1, 0, 0, 0, 0])\n",
      "batch : 40  Output : tensor([[0.5104, 0.4896],\n",
      "        [0.5150, 0.4850],\n",
      "        [0.5153, 0.4847],\n",
      "        [0.5107, 0.4893],\n",
      "        [0.5145, 0.4855],\n",
      "        [0.5146, 0.4854],\n",
      "        [0.5124, 0.4876],\n",
      "        [0.5126, 0.4874],\n",
      "        [0.5135, 0.4865],\n",
      "        [0.5148, 0.4852]], grad_fn=<SoftmaxBackward>) Targets: tensor([1, 0, 0, 0, 0, 0, 0, 1, 1, 1])\n",
      "batch : 50  Output : tensor([[0.5152, 0.4848],\n",
      "        [0.5141, 0.4859],\n",
      "        [0.5156, 0.4844],\n",
      "        [0.5152, 0.4848],\n",
      "        [0.5123, 0.4877],\n",
      "        [0.5130, 0.4870],\n",
      "        [0.5147, 0.4853],\n",
      "        [0.5140, 0.4860],\n",
      "        [0.5111, 0.4889],\n",
      "        [0.5155, 0.4845]], grad_fn=<SoftmaxBackward>) Targets: tensor([0, 1, 1, 0, 0, 0, 1, 1, 1, 1])\n",
      "batch : 60  Output : tensor([[0.5129, 0.4871],\n",
      "        [0.5148, 0.4852],\n",
      "        [0.5136, 0.4864],\n",
      "        [0.5116, 0.4884],\n",
      "        [0.5154, 0.4846],\n",
      "        [0.5131, 0.4869],\n",
      "        [0.5140, 0.4860],\n",
      "        [0.5128, 0.4872],\n",
      "        [0.5141, 0.4859],\n",
      "        [0.5158, 0.4842]], grad_fn=<SoftmaxBackward>) Targets: tensor([1, 0, 0, 0, 0, 1, 1, 0, 0, 0])\n",
      "batch : 70  Output : tensor([[0.5109, 0.4891],\n",
      "        [0.5145, 0.4855],\n",
      "        [0.5136, 0.4864],\n",
      "        [0.5122, 0.4878],\n",
      "        [0.5116, 0.4884],\n",
      "        [0.5123, 0.4877],\n",
      "        [0.5122, 0.4878],\n",
      "        [0.5174, 0.4826],\n",
      "        [0.5114, 0.4886],\n",
      "        [0.5129, 0.4871]], grad_fn=<SoftmaxBackward>) Targets: tensor([1, 0, 0, 0, 0, 1, 0, 0, 0, 0])\n",
      "batch : 80  Output : tensor([[0.5136, 0.4864],\n",
      "        [0.5193, 0.4807],\n",
      "        [0.5133, 0.4867],\n",
      "        [0.5144, 0.4856],\n",
      "        [0.5129, 0.4871],\n",
      "        [0.5128, 0.4872],\n",
      "        [0.5171, 0.4829],\n",
      "        [0.5157, 0.4843],\n",
      "        [0.5167, 0.4833],\n",
      "        [0.5104, 0.4896]], grad_fn=<SoftmaxBackward>) Targets: tensor([1, 0, 1, 1, 0, 0, 0, 1, 0, 1])\n",
      "batch : 90  Output : tensor([[0.5122, 0.4878],\n",
      "        [0.5152, 0.4848],\n",
      "        [0.5150, 0.4850],\n",
      "        [0.5115, 0.4885],\n",
      "        [0.5159, 0.4841],\n",
      "        [0.5143, 0.4857],\n",
      "        [0.5158, 0.4842],\n",
      "        [0.5139, 0.4861],\n",
      "        [0.5124, 0.4876],\n",
      "        [0.5116, 0.4883]], grad_fn=<SoftmaxBackward>) Targets: tensor([1, 0, 1, 0, 1, 0, 0, 0, 0, 1])\n"
     ]
    },
    {
     "name": "stdout",
     "output_type": "stream",
     "text": [
      "batch : 100  Output : tensor([[0.5158, 0.4842],\n",
      "        [0.5141, 0.4859],\n",
      "        [0.5137, 0.4863],\n",
      "        [0.5162, 0.4838],\n",
      "        [0.5144, 0.4856],\n",
      "        [0.5086, 0.4914],\n",
      "        [0.5165, 0.4835],\n",
      "        [0.5120, 0.4880],\n",
      "        [0.5161, 0.4839],\n",
      "        [0.5141, 0.4859]], grad_fn=<SoftmaxBackward>) Targets: tensor([0, 1, 0, 1, 1, 0, 1, 0, 0, 0])\n",
      "batch : 110  Output : tensor([[0.5157, 0.4843],\n",
      "        [0.5119, 0.4881],\n",
      "        [0.5134, 0.4866],\n",
      "        [0.5175, 0.4825],\n",
      "        [0.5140, 0.4860],\n",
      "        [0.5127, 0.4873],\n",
      "        [0.5130, 0.4870],\n",
      "        [0.5163, 0.4837],\n",
      "        [0.5098, 0.4902],\n",
      "        [0.5159, 0.4841]], grad_fn=<SoftmaxBackward>) Targets: tensor([0, 0, 1, 1, 0, 1, 0, 1, 0, 0])\n",
      "Loss for epoch  3 is 0.6912064552307129 \n",
      "batch : 0  Output : tensor([[0.5145, 0.4855],\n",
      "        [0.5141, 0.4859],\n",
      "        [0.5137, 0.4863],\n",
      "        [0.5115, 0.4885],\n",
      "        [0.5135, 0.4865],\n",
      "        [0.5137, 0.4863],\n",
      "        [0.5147, 0.4853],\n",
      "        [0.5143, 0.4857],\n",
      "        [0.5114, 0.4886],\n",
      "        [0.5147, 0.4853]], grad_fn=<SoftmaxBackward>) Targets: tensor([1, 1, 1, 1, 0, 1, 1, 0, 0, 0])\n",
      "batch : 10  Output : tensor([[0.5154, 0.4846],\n",
      "        [0.5128, 0.4872],\n",
      "        [0.5108, 0.4892],\n",
      "        [0.5109, 0.4891],\n",
      "        [0.5123, 0.4877],\n",
      "        [0.5158, 0.4842],\n",
      "        [0.5153, 0.4847],\n",
      "        [0.5151, 0.4849],\n",
      "        [0.5146, 0.4854],\n",
      "        [0.5148, 0.4852]], grad_fn=<SoftmaxBackward>) Targets: tensor([0, 0, 1, 0, 0, 1, 1, 0, 1, 1])\n",
      "batch : 20  Output : tensor([[0.5152, 0.4848],\n",
      "        [0.5166, 0.4834],\n",
      "        [0.5146, 0.4854],\n",
      "        [0.5153, 0.4847],\n",
      "        [0.5168, 0.4832],\n",
      "        [0.5172, 0.4828],\n",
      "        [0.5140, 0.4860],\n",
      "        [0.5166, 0.4834],\n",
      "        [0.5173, 0.4827],\n",
      "        [0.5128, 0.4872]], grad_fn=<SoftmaxBackward>) Targets: tensor([1, 0, 0, 1, 0, 0, 0, 0, 0, 1])\n",
      "batch : 30  Output : tensor([[0.5140, 0.4860],\n",
      "        [0.5138, 0.4862],\n",
      "        [0.5136, 0.4864],\n",
      "        [0.5125, 0.4875],\n",
      "        [0.5111, 0.4889],\n",
      "        [0.5147, 0.4853],\n",
      "        [0.5142, 0.4858],\n",
      "        [0.5136, 0.4864],\n",
      "        [0.5098, 0.4902],\n",
      "        [0.5122, 0.4878]], grad_fn=<SoftmaxBackward>) Targets: tensor([1, 0, 0, 1, 0, 1, 0, 0, 0, 0])\n",
      "batch : 40  Output : tensor([[0.5104, 0.4896],\n",
      "        [0.5150, 0.4850],\n",
      "        [0.5153, 0.4847],\n",
      "        [0.5107, 0.4893],\n",
      "        [0.5145, 0.4855],\n",
      "        [0.5146, 0.4854],\n",
      "        [0.5124, 0.4876],\n",
      "        [0.5126, 0.4874],\n",
      "        [0.5135, 0.4865],\n",
      "        [0.5148, 0.4852]], grad_fn=<SoftmaxBackward>) Targets: tensor([1, 0, 0, 0, 0, 0, 0, 1, 1, 1])\n",
      "batch : 50  Output : tensor([[0.5152, 0.4848],\n",
      "        [0.5141, 0.4859],\n",
      "        [0.5156, 0.4844],\n",
      "        [0.5152, 0.4848],\n",
      "        [0.5123, 0.4877],\n",
      "        [0.5130, 0.4870],\n",
      "        [0.5147, 0.4853],\n",
      "        [0.5140, 0.4860],\n",
      "        [0.5111, 0.4889],\n",
      "        [0.5155, 0.4845]], grad_fn=<SoftmaxBackward>) Targets: tensor([0, 1, 1, 0, 0, 0, 1, 1, 1, 1])\n",
      "batch : 60  Output : tensor([[0.5129, 0.4871],\n",
      "        [0.5148, 0.4852],\n",
      "        [0.5136, 0.4864],\n",
      "        [0.5116, 0.4884],\n",
      "        [0.5154, 0.4846],\n",
      "        [0.5131, 0.4869],\n",
      "        [0.5140, 0.4860],\n",
      "        [0.5128, 0.4872],\n",
      "        [0.5141, 0.4859],\n",
      "        [0.5158, 0.4842]], grad_fn=<SoftmaxBackward>) Targets: tensor([1, 0, 0, 0, 0, 1, 1, 0, 0, 0])\n",
      "batch : 70  Output : tensor([[0.5109, 0.4891],\n",
      "        [0.5145, 0.4855],\n",
      "        [0.5136, 0.4864],\n",
      "        [0.5122, 0.4878],\n",
      "        [0.5116, 0.4884],\n",
      "        [0.5123, 0.4877],\n",
      "        [0.5122, 0.4878],\n",
      "        [0.5174, 0.4826],\n",
      "        [0.5114, 0.4886],\n",
      "        [0.5129, 0.4871]], grad_fn=<SoftmaxBackward>) Targets: tensor([1, 0, 0, 0, 0, 1, 0, 0, 0, 0])\n",
      "batch : 80  Output : tensor([[0.5136, 0.4864],\n",
      "        [0.5193, 0.4807],\n",
      "        [0.5133, 0.4867],\n",
      "        [0.5144, 0.4856],\n",
      "        [0.5129, 0.4871],\n",
      "        [0.5128, 0.4872],\n",
      "        [0.5171, 0.4829],\n",
      "        [0.5157, 0.4843],\n",
      "        [0.5167, 0.4833],\n",
      "        [0.5104, 0.4896]], grad_fn=<SoftmaxBackward>) Targets: tensor([1, 0, 1, 1, 0, 0, 0, 1, 0, 1])\n",
      "batch : 90  Output : tensor([[0.5122, 0.4878],\n",
      "        [0.5152, 0.4848],\n",
      "        [0.5150, 0.4850],\n",
      "        [0.5115, 0.4885],\n",
      "        [0.5159, 0.4841],\n",
      "        [0.5143, 0.4857],\n",
      "        [0.5158, 0.4842],\n",
      "        [0.5139, 0.4861],\n",
      "        [0.5124, 0.4876],\n",
      "        [0.5116, 0.4883]], grad_fn=<SoftmaxBackward>) Targets: tensor([1, 0, 1, 0, 1, 0, 0, 0, 0, 1])\n",
      "batch : 100  Output : tensor([[0.5158, 0.4842],\n",
      "        [0.5141, 0.4859],\n",
      "        [0.5137, 0.4863],\n",
      "        [0.5162, 0.4838],\n",
      "        [0.5144, 0.4856],\n",
      "        [0.5086, 0.4914],\n",
      "        [0.5165, 0.4835],\n",
      "        [0.5120, 0.4880],\n",
      "        [0.5161, 0.4839],\n",
      "        [0.5141, 0.4859]], grad_fn=<SoftmaxBackward>) Targets: tensor([0, 1, 0, 1, 1, 0, 1, 0, 0, 0])\n",
      "batch : 110  Output : tensor([[0.5157, 0.4843],\n",
      "        [0.5119, 0.4881],\n",
      "        [0.5134, 0.4866],\n",
      "        [0.5175, 0.4825],\n",
      "        [0.5140, 0.4860],\n",
      "        [0.5127, 0.4873],\n",
      "        [0.5130, 0.4870],\n",
      "        [0.5163, 0.4837],\n",
      "        [0.5098, 0.4902],\n",
      "        [0.5159, 0.4841]], grad_fn=<SoftmaxBackward>) Targets: tensor([0, 0, 1, 1, 0, 1, 0, 1, 0, 0])\n",
      "Loss for epoch  4 is 0.6912064552307129 \n"
     ]
    },
    {
     "ename": "KeyboardInterrupt",
     "evalue": "",
     "output_type": "error",
     "traceback": [
      "\u001b[0;31m---------------------------------------------------------------------------\u001b[0m",
      "\u001b[0;31mKeyboardInterrupt\u001b[0m                         Traceback (most recent call last)",
      "\u001b[0;32m<ipython-input-125-7781cdbeff5c>\u001b[0m in \u001b[0;36m<module>\u001b[0;34m\u001b[0m\n\u001b[0;32m----> 1\u001b[0;31m \u001b[0mtrain_model_3\u001b[0m\u001b[0;34m(\u001b[0m\u001b[0mmodel1\u001b[0m\u001b[0;34m,\u001b[0m\u001b[0moptimizer1\u001b[0m\u001b[0;34m,\u001b[0m\u001b[0mnb_epochs\u001b[0m\u001b[0;34m,\u001b[0m\u001b[0mtraining_data\u001b[0m\u001b[0;34m,\u001b[0m\u001b[0mtraining_targets\u001b[0m\u001b[0;34m,\u001b[0m\u001b[0mmini_batch_size\u001b[0m\u001b[0;34m,\u001b[0m\u001b[0mws_ch\u001b[0m\u001b[0;34m)\u001b[0m\u001b[0;34m\u001b[0m\u001b[0m\n\u001b[0m",
      "\u001b[0;32m<ipython-input-124-13cafce4d6bf>\u001b[0m in \u001b[0;36mtrain_model_3\u001b[0;34m(model, optimizer, nb_epochs, train_input, train_target, mini_batch_size, n)\u001b[0m\n\u001b[1;32m      7\u001b[0m             \u001b[0mstart\u001b[0m \u001b[0;34m=\u001b[0m \u001b[0mtime\u001b[0m\u001b[0;34m.\u001b[0m\u001b[0mtime\u001b[0m\u001b[0;34m(\u001b[0m\u001b[0;34m)\u001b[0m\u001b[0;34m\u001b[0m\u001b[0m\n\u001b[1;32m      8\u001b[0m             \u001b[0;31m#print(\"Shape of the input of the model:\",train_input.narrow(0, b, mini_batch_size).shape)\u001b[0m\u001b[0;34m\u001b[0m\u001b[0;34m\u001b[0m\u001b[0m\n\u001b[0;32m----> 9\u001b[0;31m             \u001b[0moutput\u001b[0m \u001b[0;34m=\u001b[0m \u001b[0mmodel\u001b[0m\u001b[0;34m(\u001b[0m\u001b[0mtrain_input\u001b[0m\u001b[0;34m.\u001b[0m\u001b[0mnarrow\u001b[0m\u001b[0;34m(\u001b[0m\u001b[0;36m0\u001b[0m\u001b[0;34m,\u001b[0m \u001b[0mb\u001b[0m\u001b[0;34m,\u001b[0m \u001b[0mmini_batch_size\u001b[0m\u001b[0;34m)\u001b[0m\u001b[0;34m,\u001b[0m\u001b[0mn\u001b[0m\u001b[0;34m)\u001b[0m\u001b[0;34m\u001b[0m\u001b[0m\n\u001b[0m\u001b[1;32m     10\u001b[0m             \u001b[0mtarget\u001b[0m \u001b[0;34m=\u001b[0m \u001b[0mtrain_target\u001b[0m\u001b[0;34m.\u001b[0m\u001b[0mnarrow\u001b[0m\u001b[0;34m(\u001b[0m\u001b[0;36m0\u001b[0m\u001b[0;34m,\u001b[0m \u001b[0mb\u001b[0m\u001b[0;34m,\u001b[0m \u001b[0mmini_batch_size\u001b[0m\u001b[0;34m)\u001b[0m\u001b[0;34m\u001b[0m\u001b[0m\n\u001b[1;32m     11\u001b[0m             \u001b[0mindices\u001b[0m \u001b[0;34m=\u001b[0m \u001b[0moutput\u001b[0m\u001b[0;34m.\u001b[0m\u001b[0margmax\u001b[0m\u001b[0;34m(\u001b[0m\u001b[0;36m1\u001b[0m\u001b[0;34m)\u001b[0m\u001b[0;34m\u001b[0m\u001b[0m\n",
      "\u001b[0;32m~/test/lib/python3.5/site-packages/torch/nn/modules/module.py\u001b[0m in \u001b[0;36m__call__\u001b[0;34m(self, *input, **kwargs)\u001b[0m\n\u001b[1;32m    487\u001b[0m             \u001b[0mresult\u001b[0m \u001b[0;34m=\u001b[0m \u001b[0mself\u001b[0m\u001b[0;34m.\u001b[0m\u001b[0m_slow_forward\u001b[0m\u001b[0;34m(\u001b[0m\u001b[0;34m*\u001b[0m\u001b[0minput\u001b[0m\u001b[0;34m,\u001b[0m \u001b[0;34m**\u001b[0m\u001b[0mkwargs\u001b[0m\u001b[0;34m)\u001b[0m\u001b[0;34m\u001b[0m\u001b[0m\n\u001b[1;32m    488\u001b[0m         \u001b[0;32melse\u001b[0m\u001b[0;34m:\u001b[0m\u001b[0;34m\u001b[0m\u001b[0m\n\u001b[0;32m--> 489\u001b[0;31m             \u001b[0mresult\u001b[0m \u001b[0;34m=\u001b[0m \u001b[0mself\u001b[0m\u001b[0;34m.\u001b[0m\u001b[0mforward\u001b[0m\u001b[0;34m(\u001b[0m\u001b[0;34m*\u001b[0m\u001b[0minput\u001b[0m\u001b[0;34m,\u001b[0m \u001b[0;34m**\u001b[0m\u001b[0mkwargs\u001b[0m\u001b[0;34m)\u001b[0m\u001b[0;34m\u001b[0m\u001b[0m\n\u001b[0m\u001b[1;32m    490\u001b[0m         \u001b[0;32mfor\u001b[0m \u001b[0mhook\u001b[0m \u001b[0;32min\u001b[0m \u001b[0mself\u001b[0m\u001b[0;34m.\u001b[0m\u001b[0m_forward_hooks\u001b[0m\u001b[0;34m.\u001b[0m\u001b[0mvalues\u001b[0m\u001b[0;34m(\u001b[0m\u001b[0;34m)\u001b[0m\u001b[0;34m:\u001b[0m\u001b[0;34m\u001b[0m\u001b[0m\n\u001b[1;32m    491\u001b[0m             \u001b[0mhook_result\u001b[0m \u001b[0;34m=\u001b[0m \u001b[0mhook\u001b[0m\u001b[0;34m(\u001b[0m\u001b[0mself\u001b[0m\u001b[0;34m,\u001b[0m \u001b[0minput\u001b[0m\u001b[0;34m,\u001b[0m \u001b[0mresult\u001b[0m\u001b[0;34m)\u001b[0m\u001b[0;34m\u001b[0m\u001b[0m\n",
      "\u001b[0;32m<ipython-input-119-c7e0a6f81307>\u001b[0m in \u001b[0;36mforward\u001b[0;34m(self, x, n)\u001b[0m\n\u001b[1;32m     19\u001b[0m         \u001b[0;32mfor\u001b[0m \u001b[0mi\u001b[0m \u001b[0;32min\u001b[0m \u001b[0mrange\u001b[0m\u001b[0;34m(\u001b[0m\u001b[0mn\u001b[0m\u001b[0;34m)\u001b[0m\u001b[0;34m:\u001b[0m\u001b[0;34m\u001b[0m\u001b[0m\n\u001b[1;32m     20\u001b[0m             \u001b[0my\u001b[0m \u001b[0;34m=\u001b[0m \u001b[0mx\u001b[0m\u001b[0;34m[\u001b[0m\u001b[0;34m:\u001b[0m\u001b[0;34m,\u001b[0m\u001b[0;34m:\u001b[0m\u001b[0;34m,\u001b[0m\u001b[0;34m:\u001b[0m\u001b[0;34m,\u001b[0m\u001b[0;34m:\u001b[0m\u001b[0;34m,\u001b[0m\u001b[0mi\u001b[0m\u001b[0;34m]\u001b[0m\u001b[0;34m.\u001b[0m\u001b[0mview\u001b[0m\u001b[0;34m(\u001b[0m\u001b[0;34m-\u001b[0m\u001b[0;36m1\u001b[0m\u001b[0;34m,\u001b[0m\u001b[0;36m1\u001b[0m\u001b[0;34m,\u001b[0m\u001b[0;36m4\u001b[0m\u001b[0;34m,\u001b[0m\u001b[0;36m129\u001b[0m\u001b[0;34m)\u001b[0m\u001b[0;34m\u001b[0m\u001b[0m\n\u001b[0;32m---> 21\u001b[0;31m             \u001b[0my\u001b[0m \u001b[0;34m=\u001b[0m \u001b[0mF\u001b[0m\u001b[0;34m.\u001b[0m\u001b[0mrelu\u001b[0m\u001b[0;34m(\u001b[0m\u001b[0mself\u001b[0m\u001b[0;34m.\u001b[0m\u001b[0mconv1\u001b[0m\u001b[0;34m(\u001b[0m\u001b[0my\u001b[0m\u001b[0;34m)\u001b[0m\u001b[0;34m)\u001b[0m\u001b[0;34m\u001b[0m\u001b[0m\n\u001b[0m\u001b[1;32m     22\u001b[0m             \u001b[0my\u001b[0m \u001b[0;34m=\u001b[0m \u001b[0mF\u001b[0m\u001b[0;34m.\u001b[0m\u001b[0mrelu\u001b[0m\u001b[0;34m(\u001b[0m\u001b[0mself\u001b[0m\u001b[0;34m.\u001b[0m\u001b[0mconv2\u001b[0m\u001b[0;34m(\u001b[0m\u001b[0my\u001b[0m\u001b[0;34m)\u001b[0m\u001b[0;34m)\u001b[0m\u001b[0;34m\u001b[0m\u001b[0m\n\u001b[1;32m     23\u001b[0m             \u001b[0my\u001b[0m \u001b[0;34m=\u001b[0m \u001b[0mF\u001b[0m\u001b[0;34m.\u001b[0m\u001b[0mrelu\u001b[0m\u001b[0;34m(\u001b[0m\u001b[0mself\u001b[0m\u001b[0;34m.\u001b[0m\u001b[0mconv3\u001b[0m\u001b[0;34m(\u001b[0m\u001b[0my\u001b[0m\u001b[0;34m)\u001b[0m\u001b[0;34m)\u001b[0m\u001b[0;34m\u001b[0m\u001b[0m\n",
      "\u001b[0;32m~/test/lib/python3.5/site-packages/torch/nn/modules/module.py\u001b[0m in \u001b[0;36m__call__\u001b[0;34m(self, *input, **kwargs)\u001b[0m\n\u001b[1;32m    487\u001b[0m             \u001b[0mresult\u001b[0m \u001b[0;34m=\u001b[0m \u001b[0mself\u001b[0m\u001b[0;34m.\u001b[0m\u001b[0m_slow_forward\u001b[0m\u001b[0;34m(\u001b[0m\u001b[0;34m*\u001b[0m\u001b[0minput\u001b[0m\u001b[0;34m,\u001b[0m \u001b[0;34m**\u001b[0m\u001b[0mkwargs\u001b[0m\u001b[0;34m)\u001b[0m\u001b[0;34m\u001b[0m\u001b[0m\n\u001b[1;32m    488\u001b[0m         \u001b[0;32melse\u001b[0m\u001b[0;34m:\u001b[0m\u001b[0;34m\u001b[0m\u001b[0m\n\u001b[0;32m--> 489\u001b[0;31m             \u001b[0mresult\u001b[0m \u001b[0;34m=\u001b[0m \u001b[0mself\u001b[0m\u001b[0;34m.\u001b[0m\u001b[0mforward\u001b[0m\u001b[0;34m(\u001b[0m\u001b[0;34m*\u001b[0m\u001b[0minput\u001b[0m\u001b[0;34m,\u001b[0m \u001b[0;34m**\u001b[0m\u001b[0mkwargs\u001b[0m\u001b[0;34m)\u001b[0m\u001b[0;34m\u001b[0m\u001b[0m\n\u001b[0m\u001b[1;32m    490\u001b[0m         \u001b[0;32mfor\u001b[0m \u001b[0mhook\u001b[0m \u001b[0;32min\u001b[0m \u001b[0mself\u001b[0m\u001b[0;34m.\u001b[0m\u001b[0m_forward_hooks\u001b[0m\u001b[0;34m.\u001b[0m\u001b[0mvalues\u001b[0m\u001b[0;34m(\u001b[0m\u001b[0;34m)\u001b[0m\u001b[0;34m:\u001b[0m\u001b[0;34m\u001b[0m\u001b[0m\n\u001b[1;32m    491\u001b[0m             \u001b[0mhook_result\u001b[0m \u001b[0;34m=\u001b[0m \u001b[0mhook\u001b[0m\u001b[0;34m(\u001b[0m\u001b[0mself\u001b[0m\u001b[0;34m,\u001b[0m \u001b[0minput\u001b[0m\u001b[0;34m,\u001b[0m \u001b[0mresult\u001b[0m\u001b[0;34m)\u001b[0m\u001b[0;34m\u001b[0m\u001b[0m\n",
      "\u001b[0;32m~/test/lib/python3.5/site-packages/torch/nn/modules/conv.py\u001b[0m in \u001b[0;36mforward\u001b[0;34m(self, input)\u001b[0m\n\u001b[1;32m    318\u001b[0m     \u001b[0;32mdef\u001b[0m \u001b[0mforward\u001b[0m\u001b[0;34m(\u001b[0m\u001b[0mself\u001b[0m\u001b[0;34m,\u001b[0m \u001b[0minput\u001b[0m\u001b[0;34m)\u001b[0m\u001b[0;34m:\u001b[0m\u001b[0;34m\u001b[0m\u001b[0m\n\u001b[1;32m    319\u001b[0m         return F.conv2d(input, self.weight, self.bias, self.stride,\n\u001b[0;32m--> 320\u001b[0;31m                         self.padding, self.dilation, self.groups)\n\u001b[0m\u001b[1;32m    321\u001b[0m \u001b[0;34m\u001b[0m\u001b[0m\n\u001b[1;32m    322\u001b[0m \u001b[0;34m\u001b[0m\u001b[0m\n",
      "\u001b[0;31mKeyboardInterrupt\u001b[0m: "
     ]
    }
   ],
   "source": [
    "train_model_3(model1,optimizer1,nb_epochs,training_data,training_targets,mini_batch_size,ws_ch)"
   ]
  },
  {
   "cell_type": "code",
   "execution_count": null,
   "metadata": {},
   "outputs": [],
   "source": []
  }
 ],
 "metadata": {
  "kernelspec": {
   "display_name": "semesterproject",
   "language": "python",
   "name": "semesterproject"
  }
 },
 "nbformat": 4,
 "nbformat_minor": 1
}
