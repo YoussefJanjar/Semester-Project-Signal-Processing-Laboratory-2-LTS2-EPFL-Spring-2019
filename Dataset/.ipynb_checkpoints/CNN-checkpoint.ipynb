{
 "cells": [
  {
   "cell_type": "markdown",
   "metadata": {},
   "source": [
    "# Creation of the CNN"
   ]
  },
  {
   "cell_type": "markdown",
   "metadata": {},
   "source": [
    "### Importations "
   ]
  },
  {
   "cell_type": "code",
   "execution_count": 1,
   "metadata": {},
   "outputs": [
    {
     "name": "stdout",
     "output_type": "stream",
     "text": [
      "1.0.1.post2\n"
     ]
    }
   ],
   "source": [
    "import torch\n",
    "import matplotlib.pyplot as plt\n",
    "import numpy as np\n",
    "import pickle as pkl\n",
    "import pandas as pd\n",
    "import time\n",
    "\n",
    "\n",
    "from torch.autograd import Variable\n",
    "from torch import nn, optim\n",
    "from torch.nn import functional as F\n",
    "from matplotlib import gridspec\n",
    "\n",
    "\n",
    "\n",
    "\n",
    "print(torch.__version__)"
   ]
  },
  {
   "cell_type": "code",
   "execution_count": 2,
   "metadata": {},
   "outputs": [
    {
     "name": "stdout",
     "output_type": "stream",
     "text": [
      "Tmux a vraiment run cette schisse.\n"
     ]
    }
   ],
   "source": [
    "print(\"Tmux a vraiment run cette schisse.\")"
   ]
  },
  {
   "cell_type": "markdown",
   "metadata": {},
   "source": [
    "### The Aim "
   ]
  },
  {
   "cell_type": "markdown",
   "metadata": {},
   "source": [
    "Some explation about the purpose of this project."
   ]
  },
  {
   "cell_type": "markdown",
   "metadata": {},
   "source": [
    "### The Data"
   ]
  },
  {
   "cell_type": "markdown",
   "metadata": {},
   "source": [
    "Some insight about the data."
   ]
  },
  {
   "cell_type": "code",
   "execution_count": 3,
   "metadata": {},
   "outputs": [
    {
     "data": {
      "text/html": [
       "<div>\n",
       "<style scoped>\n",
       "    .dataframe tbody tr th:only-of-type {\n",
       "        vertical-align: middle;\n",
       "    }\n",
       "\n",
       "    .dataframe tbody tr th {\n",
       "        vertical-align: top;\n",
       "    }\n",
       "\n",
       "    .dataframe thead th {\n",
       "        text-align: right;\n",
       "    }\n",
       "</style>\n",
       "<table border=\"1\" class=\"dataframe\">\n",
       "  <thead>\n",
       "    <tr style=\"text-align: right;\">\n",
       "      <th></th>\n",
       "      <th>Room</th>\n",
       "      <th>Array_position</th>\n",
       "      <th>Distance</th>\n",
       "      <th>Absorption</th>\n",
       "      <th>SNR</th>\n",
       "      <th>Audio_file</th>\n",
       "      <th>Phase_Matrix</th>\n",
       "      <th>Label</th>\n",
       "    </tr>\n",
       "  </thead>\n",
       "  <tbody>\n",
       "    <tr>\n",
       "      <th>0</th>\n",
       "      <td>0</td>\n",
       "      <td>[2.5264508835827266, 1.5003498858312008, 1.5]</td>\n",
       "      <td>1.0</td>\n",
       "      <td>0.702471</td>\n",
       "      <td>0</td>\n",
       "      <td>/home/janjar/Dataset/Trainingset/audio_signals...</td>\n",
       "      <td>/home/janjar/Dataset/Trainingset/phase_matrix/...</td>\n",
       "      <td>35</td>\n",
       "    </tr>\n",
       "    <tr>\n",
       "      <th>1</th>\n",
       "      <td>0</td>\n",
       "      <td>[1.5353732403837514, 2.2363805495942, 1.5]</td>\n",
       "      <td>1.0</td>\n",
       "      <td>0.702471</td>\n",
       "      <td>0</td>\n",
       "      <td>/home/janjar/Dataset/Trainingset/audio_signals...</td>\n",
       "      <td>/home/janjar/Dataset/Trainingset/phase_matrix/...</td>\n",
       "      <td>14</td>\n",
       "    </tr>\n",
       "    <tr>\n",
       "      <th>2</th>\n",
       "      <td>0</td>\n",
       "      <td>[2.834628768393095, 1.5576499655840617, 1.5]</td>\n",
       "      <td>1.0</td>\n",
       "      <td>0.702471</td>\n",
       "      <td>0</td>\n",
       "      <td>/home/janjar/Dataset/Trainingset/audio_signals...</td>\n",
       "      <td>/home/janjar/Dataset/Trainingset/phase_matrix/...</td>\n",
       "      <td>20</td>\n",
       "    </tr>\n",
       "    <tr>\n",
       "      <th>3</th>\n",
       "      <td>0</td>\n",
       "      <td>[1.5787622897224167, 2.1109998956780145, 1.5]</td>\n",
       "      <td>1.0</td>\n",
       "      <td>0.702471</td>\n",
       "      <td>0</td>\n",
       "      <td>/home/janjar/Dataset/Trainingset/audio_signals...</td>\n",
       "      <td>/home/janjar/Dataset/Trainingset/phase_matrix/...</td>\n",
       "      <td>36</td>\n",
       "    </tr>\n",
       "  </tbody>\n",
       "</table>\n",
       "</div>"
      ],
      "text/plain": [
       "  Room                                 Array_position  Distance  Absorption  \\\n",
       "0    0  [2.5264508835827266, 1.5003498858312008, 1.5]       1.0    0.702471   \n",
       "1    0     [1.5353732403837514, 2.2363805495942, 1.5]       1.0    0.702471   \n",
       "2    0   [2.834628768393095, 1.5576499655840617, 1.5]       1.0    0.702471   \n",
       "3    0  [1.5787622897224167, 2.1109998956780145, 1.5]       1.0    0.702471   \n",
       "\n",
       "  SNR                                         Audio_file  \\\n",
       "0   0  /home/janjar/Dataset/Trainingset/audio_signals...   \n",
       "1   0  /home/janjar/Dataset/Trainingset/audio_signals...   \n",
       "2   0  /home/janjar/Dataset/Trainingset/audio_signals...   \n",
       "3   0  /home/janjar/Dataset/Trainingset/audio_signals...   \n",
       "\n",
       "                                        Phase_Matrix Label  \n",
       "0  /home/janjar/Dataset/Trainingset/phase_matrix/...    35  \n",
       "1  /home/janjar/Dataset/Trainingset/phase_matrix/...    14  \n",
       "2  /home/janjar/Dataset/Trainingset/phase_matrix/...    20  \n",
       "3  /home/janjar/Dataset/Trainingset/phase_matrix/...    36  "
      ]
     },
     "execution_count": 3,
     "metadata": {},
     "output_type": "execute_result"
    }
   ],
   "source": [
    "Dataset = pd.read_pickle(\"/home/janjar/Dataset/Trainingset/Training_dataframe.pkl\")\n",
    "Dataset.loc[0:3]"
   ]
  },
  {
   "cell_type": "markdown",
   "metadata": {},
   "source": [
    "#### Defining our number of samples."
   ]
  },
  {
   "cell_type": "code",
   "execution_count": 4,
   "metadata": {},
   "outputs": [],
   "source": [
    "number_of_rooms = Dataset.shape[0]"
   ]
  },
  {
   "cell_type": "markdown",
   "metadata": {},
   "source": [
    "### Loading the phase matrices in tensors with respect to the indexing shown in the dataframe."
   ]
  },
  {
   "cell_type": "code",
   "execution_count": 5,
   "metadata": {},
   "outputs": [
    {
     "data": {
      "text/plain": [
       "(140, 4, 129, 390)"
      ]
     },
     "execution_count": 5,
     "metadata": {},
     "output_type": "execute_result"
    }
   ],
   "source": [
    "#path containing the Training data on the machine you are working on.\n",
    "#path = \"/home/janjar/Dataset/Trainingset/\"\n",
    "\n",
    "data_matrix = np.zeros([number_of_rooms,4,129,390])\n",
    "for i in range(number_of_rooms):\n",
    "    fileName_matrix = Dataset.iloc[i]['Phase_Matrix']\n",
    "    #print(fileName_matrix)\n",
    "    fileObject2 = open(fileName_matrix, 'rb')\n",
    "    matrix_loaded = pkl.load(fileObject2)\n",
    "    fileObject2.close()\n",
    "    data_matrix[i] = matrix_loaded\n",
    "data_matrix.shape    "
   ]
  },
  {
   "cell_type": "code",
   "execution_count": 6,
   "metadata": {},
   "outputs": [
    {
     "data": {
      "text/plain": [
       "torch.Size([140, 4, 129, 390])"
      ]
     },
     "execution_count": 6,
     "metadata": {},
     "output_type": "execute_result"
    }
   ],
   "source": [
    "data_matrix = torch.from_numpy(data_matrix)\n",
    "data_matrix = data_matrix.view(-1,4,129,390)\n",
    "data_matrix = data_matrix.type('torch.FloatTensor')\n",
    "data_matrix.shape"
   ]
  },
  {
   "cell_type": "markdown",
   "metadata": {},
   "source": [
    "### Function that reshape a label into the right format for the data_targets."
   ]
  },
  {
   "cell_type": "code",
   "execution_count": 7,
   "metadata": {},
   "outputs": [],
   "source": [
    "def prep_targets(index,label):\n",
    "    target = torch.tensor(label)\n",
    "    target = target.expand(390,1)\n",
    "    return target"
   ]
  },
  {
   "cell_type": "code",
   "execution_count": 8,
   "metadata": {},
   "outputs": [
    {
     "data": {
      "text/plain": [
       "torch.Size([140])"
      ]
     },
     "execution_count": 8,
     "metadata": {},
     "output_type": "execute_result"
    }
   ],
   "source": [
    "data_targets = torch.zeros([number_of_rooms], dtype=torch.float64)\n",
    "for i in range(number_of_rooms):\n",
    "    data_targets[i] = Dataset.iloc[i]['Label']\n",
    "data_targets.shape   "
   ]
  },
  {
   "cell_type": "markdown",
   "metadata": {},
   "source": [
    "# Architecture 1.0 : vanilla CNN for DOA "
   ]
  },
  {
   "cell_type": "markdown",
   "metadata": {},
   "source": [
    " In this section, we will focus on building a vanilla CNN in order to recognize the directions of arrival of the   sound in a specific room. Once done, we will then compare \"by hand\" the labelel dataset to the predicted values. This is the most basic setup and will try to improve latter."
   ]
  },
  {
   "cell_type": "markdown",
   "metadata": {},
   "source": [
    "## 1.1 Creating Model"
   ]
  },
  {
   "cell_type": "code",
   "execution_count": 9,
   "metadata": {},
   "outputs": [],
   "source": [
    "class Net(nn.Module):\n",
    "    def __init__(self,nb_hidden = 50, n = 4):\n",
    "        super(Net, self).__init__()\n",
    "        self.conv1 = nn.Conv2d(1, 2, kernel_size=2)\n",
    "        self.conv2 = nn.Conv2d(2, 4, kernel_size=2)\n",
    "        self.conv3 = nn.Conv2d(4 ,8, kernel_size=2)\n",
    "        self.fc1 = nn.Linear(390096, nb_hidden)# (1x8064) being the dim of the censor obtained by flattening the output of the 3rd CL.\n",
    "        self.fc2 = nn.Linear(nb_hidden*4,nb_hidden)\n",
    "        self.fc3 = nn.Linear(nb_hidden,37)\n",
    "        \n",
    "    \n",
    "    def forward(self, x, n):\n",
    "        #print(\"What actually enters the model:\",x.shape)\n",
    "        test =  x[:,:,0,:,:].view(-1,1,129,390)\n",
    "        #print(\"Shape of test:\",test.shape)\n",
    "        output = torch.zeros([390096,1])\n",
    "        for i in range(n):\n",
    "            \n",
    "            y = x[:,:,i,:,:].view(-1,1,129,390)\n",
    "            y = F.relu(self.conv1(y)) \n",
    "            y = F.relu(self.conv2(y))\n",
    "            y = F.relu(self.conv3(y))\n",
    "            y = F.relu(self.fc1(y.view(-1, 390096)))\n",
    "            \n",
    "            if (i==0):\n",
    "                output = y\n",
    "            else:\n",
    "                output = torch.cat((output,y),1)\n",
    "                \n",
    "        output = F.relu(self.fc2(output))\n",
    "\n",
    "        output = F.relu(self.fc3(output))        \n",
    "                \n",
    "        '''\n",
    "        x_0 = x[:,:,0,:,:].view(-1,1,129,390)\n",
    "        x_1 = x[:,:,1,:,:].view(-1,1,129,390)\n",
    "        x_2 = x[:,:,2,:,:].view(-1,1,129,390)\n",
    "        x_3 = x[:,:,3,:,:].view(-1,1,129,390)\n",
    "\n",
    "        x_0 = F.relu(self.conv1(x_0))         \n",
    "        x_1 = F.relu(self.conv1(x_1))\n",
    "        x_2 = F.relu(self.conv1(x_2))\n",
    "        x_3 = F.relu(self.conv1(x_3))\n",
    "\n",
    "        x_0 = F.relu(self.conv2(x_0))\n",
    "        x_1 = F.relu(self.conv2(x_1))\n",
    "        x_2 = F.relu(self.conv2(x_2))\n",
    "        x_3 = F.relu(self.conv2(x_3))\n",
    "        \n",
    "        x_0 = F.relu(self.conv3(x_0))\n",
    "        x_1 = F.relu(self.conv3(x_1))\n",
    "        x_2 = F.relu(self.conv3(x_2))\n",
    "        x_3 = F.relu(self.conv3(x_3)) \n",
    "        \n",
    "\n",
    "        x_0 = F.relu(self.fc1(x_0.view(-1, 390096)))\n",
    "        x_1 = F.relu(self.fc1(x_1.view(-1, 390096)))\n",
    "        x_2 = F.relu(self.fc1(x_2.view(-1, 390096)))            \n",
    "        x_3 = F.relu(self.fc1(x_3.view(-1, 390096))) \n",
    "\n",
    "        x = torch.cat((x_0,x_1,x_2,x_3),1)            \n",
    "\n",
    "        x = F.relu(self.fc2(x))\n",
    "\n",
    "        x = F.relu(self.fc3(x))'''\n",
    "\n",
    "        return output            "
   ]
  },
  {
   "cell_type": "code",
   "execution_count": 50,
   "metadata": {},
   "outputs": [],
   "source": [
    "class ws_Net(nn.Module):\n",
    "    def __init__(self,nb_hidden = 50, n = 390 ):\n",
    "        super(ws_Net, self).__init__()\n",
    "        self.conv1 = nn.Conv2d(1, 2, kernel_size=2)\n",
    "        self.conv2 = nn.Conv2d(2, 4, kernel_size=2)\n",
    "        self.conv3 = nn.Conv2d(4 ,8, kernel_size=2)\n",
    "        self.fc1 = nn.Linear(1008, nb_hidden)# (1x1008) being the dim of the censor obtained by flattening the output of the 3rd CL.\n",
    "        self.fc2 = nn.Linear(nb_hidden*n,512)\n",
    "        self.fc3 = nn.Linear(nb_hidden,37)\n",
    "        \n",
    "    \n",
    "    def forward(self, x, n):\n",
    "        #print(\"What actually enters the model:\",x.shape)\n",
    "        test =  x[:,:,:,:,0].view(-1,1,4,129)\n",
    "        print(\"Shape of test:\",test.shape)\n",
    "        output = torch.zeros([1008,1])\n",
    "        for i in range(n):\n",
    "            \n",
    "            y = x[:,:,:,:,i].view(-1,1,4,129)\n",
    "            y = F.relu(self.conv1(y)) \n",
    "            y = F.relu(self.conv2(y))\n",
    "            y = F.relu(self.conv3(y))\n",
    "            y = F.relu(self.fc1(y.view(-1, 1008)))\n",
    "            \n",
    "            if (i==0):\n",
    "                output = y\n",
    "            else:\n",
    "                output = torch.cat((output,y),1)\n",
    "                \n",
    "        output = F.relu(self.fc2(output))\n",
    "\n",
    "        output = F.relu(self.fc3(output))   \n",
    "        \n",
    "        return output  "
   ]
  },
  {
   "cell_type": "code",
   "execution_count": 10,
   "metadata": {},
   "outputs": [],
   "source": [
    "class SimpleModel(nn.Module):\n",
    "\n",
    "    def __init__(self, nb_hidden=100):\n",
    "        super(SimpleModel, self).__init__()\n",
    "        self.cl1 = nn.Conv3d(1, 2, kernel_size=(2,2,2),stride=1)\n",
    "        self.cl2 = nn.Conv3d(8, 16, kernel_size=(2,2,2),stride=1)\n",
    "        self.cl3 = nn.Conv3d(16, 32, kernel_size=(2,2,2),stride=1)\n",
    "        self.fc1 = nn.Linear(4032, 200)\n",
    "        self.fc2 = nn.Linear(200,nb_hidden)\n",
    "        self.fc3 = nn.Linear(nb_hidden,37)\n",
    "        #self.fc4 = nn.Linear(256,37)\n",
    " \n",
    " \n",
    "    def forward(self, x):\n",
    "       \n",
    "        x = F.relu(self.cl1(x))\n",
    "        x = F.relu(self.cl2(x))\n",
    "        x = F.relu(self.cl3(x))\n",
    "        print(\"Output of convlayer\",x.shape)\n",
    "        x = F.relu(self.fc1(x.view(-1, 4032)))\n",
    "        x = F.relu(self.fc2(x))\n",
    "        x = F.relu(self.fc3(x))\n",
    "        #x = F.relu(self.fc4(x))\n",
    "        print(\"Output of the model shape:\",x.shape)\n",
    "\n",
    "        return x\n",
    "\n",
    "    def compute_nb_errors(self,model, data_input, data_target, mini_batch_size):\n",
    "\n",
    "        nb_data_errors = 0\n",
    "        for b in range(0, data_input.size(0), mini_batch_size):\n",
    "            a = model(data_input.narrow(0, b, mini_batch_size))\n",
    "            val = torch.max(a,1)[1]\n",
    "            for k in range(mini_batch_size):\n",
    "                if data_target.data[b + k] != val[k]:\n",
    "                    nb_data_errors = nb_data_errors + 1\n",
    "\n",
    "        return nb_data_errors"
   ]
  },
  {
   "cell_type": "markdown",
   "metadata": {},
   "source": [
    "### Preparing the Data"
   ]
  },
  {
   "cell_type": "code",
   "execution_count": 11,
   "metadata": {},
   "outputs": [],
   "source": [
    "def prep_input_vanilla(train_input):\n",
    "    new_train_input = train_input.view(-1,1,4,129,390)\n",
    "    return new_train_input"
   ]
  },
  {
   "cell_type": "code",
   "execution_count": 12,
   "metadata": {},
   "outputs": [],
   "source": [
    "def prep_input_model2(train_input):\n",
    "    new_train_input = train_input.view(-1,1,4,129,390)\n",
    "    return new_train_input"
   ]
  },
  {
   "cell_type": "code",
   "execution_count": 13,
   "metadata": {},
   "outputs": [
    {
     "data": {
      "text/plain": [
       "torch.Size([140, 1, 4, 129, 390])"
      ]
     },
     "execution_count": 13,
     "metadata": {},
     "output_type": "execute_result"
    }
   ],
   "source": [
    "train_data = prep_input_vanilla(data_matrix)\n",
    "train_data.shape"
   ]
  },
  {
   "cell_type": "code",
   "execution_count": 14,
   "metadata": {},
   "outputs": [
    {
     "data": {
      "text/plain": [
       "torch.Size([140, 1, 4, 129, 390])"
      ]
     },
     "execution_count": 14,
     "metadata": {},
     "output_type": "execute_result"
    }
   ],
   "source": [
    "train_data = prep_input_model2(data_matrix)\n",
    "train_data.shape"
   ]
  },
  {
   "cell_type": "code",
   "execution_count": 15,
   "metadata": {},
   "outputs": [],
   "source": [
    "def prep_labels_vanilla(train_input):\n",
    "    new_train_input = train_input.view(-1)\n",
    "    return new_train_input"
   ]
  },
  {
   "cell_type": "code",
   "execution_count": 16,
   "metadata": {},
   "outputs": [
    {
     "data": {
      "text/plain": [
       "torch.Size([140, 1, 129, 390])"
      ]
     },
     "execution_count": 16,
     "metadata": {},
     "output_type": "execute_result"
    }
   ],
   "source": [
    "train_targets = prep_labels_vanilla(data_targets)\n",
    "train_targets = train_targets.to(dtype=torch.int64)\n",
    "train_data, train_targets = Variable(train_data), Variable(train_targets)\n",
    "train_data[:,:,0,:,:].shape"
   ]
  },
  {
   "cell_type": "markdown",
   "metadata": {},
   "source": [
    "### Spliting the Training Data into Training/Validation."
   ]
  },
  {
   "cell_type": "code",
   "execution_count": 17,
   "metadata": {},
   "outputs": [
    {
     "data": {
      "text/plain": [
       "(torch.Size([110, 1, 4, 129, 390]),\n",
       " torch.Size([30, 1, 4, 129, 390]),\n",
       " torch.Size([110]),\n",
       " torch.Size([30]),\n",
       " 110,\n",
       " 30)"
      ]
     },
     "execution_count": 17,
     "metadata": {},
     "output_type": "execute_result"
    }
   ],
   "source": [
    "training_data = train_data[0:110]\n",
    "training_targets = train_targets[0:110]\n",
    "validation_data = train_data[110:140]\n",
    "validation_targets = train_targets[110:140]\n",
    "training_data.shape, validation_data.shape, training_targets.shape, validation_targets.shape,len(training_targets),len(validation_targets)\n"
   ]
  },
  {
   "cell_type": "markdown",
   "metadata": {},
   "source": [
    "### End of Sanity check."
   ]
  },
  {
   "cell_type": "markdown",
   "metadata": {},
   "source": [
    "## 1.2 Training the model"
   ]
  },
  {
   "cell_type": "code",
   "execution_count": 51,
   "metadata": {},
   "outputs": [],
   "source": [
    "model = Net()"
   ]
  },
  {
   "cell_type": "code",
   "execution_count": 52,
   "metadata": {},
   "outputs": [],
   "source": [
    "model1 = ws_Net()"
   ]
  },
  {
   "cell_type": "code",
   "execution_count": 53,
   "metadata": {},
   "outputs": [],
   "source": [
    "model2 = SimpleModel()"
   ]
  },
  {
   "cell_type": "code",
   "execution_count": 54,
   "metadata": {},
   "outputs": [],
   "source": [
    "mini_batch_size = 10 \n",
    "nb_epochs = 10\n",
    "eta = 0.1 #learning rate\n",
    "#criterion = nn.MSELoss() # MeanSquaredloss\n",
    "criterion = torch.nn.CrossEntropyLoss() #Cross Entropy\n",
    "optimizer = torch.optim.SGD(model.parameters(), lr = eta, momentum = 0.95) #Stochastic gradient descent"
   ]
  },
  {
   "cell_type": "markdown",
   "metadata": {},
   "source": [
    "### Need to figure out how to use mini-batches to gain time in this configuration.\n",
    "#### train_model is the method used to update the weights."
   ]
  },
  {
   "cell_type": "code",
   "execution_count": 55,
   "metadata": {},
   "outputs": [],
   "source": [
    "def train_model_3(model, optimizer, nb_epochs, train_input, train_target ,mini_batch_size):\n",
    "\n",
    "    start = time.time()\n",
    "    for e in range(0,nb_epochs):\n",
    "        start_ep = time.time()\n",
    "        for b in range(0, train_input.size(0), mini_batch_size):\n",
    "            start = time.time()\n",
    "            #print(\"Shape of the input of the model:\",train_input.narrow(0, b, mini_batch_size).shape)\n",
    "            output = model(train_input.narrow(0, b, mini_batch_size),4)\n",
    "            target = train_target.narrow(0, b, mini_batch_size)\n",
    "            indices = output.argmax(1)\n",
    "            print(\"Time : Output vs target\",b,output,target)\n",
    "            loss = criterion(output,target)\n",
    "            optimizer.zero_grad()\n",
    "            loss.backward()\n",
    "            optimizer.step()\n",
    "        if (e == 0):\n",
    "            end_ep = time.time()\n",
    "            print(\"Time for 1 epochs is :{:5}\".format(-(start_ep-end_ep)))\n",
    "            \n",
    "        print(\"Loss for epoch{:3} is {:5} \".format(e,loss.data.item()))\n",
    "            \n",
    "    end = time.time()\n",
    "    print(\"Time the hole training is :{:5}\".format(-(start-end)))\n",
    "\n",
    "       \n",
    "\n",
    "    "
   ]
  },
  {
   "cell_type": "code",
   "execution_count": 56,
   "metadata": {},
   "outputs": [
    {
     "name": "stdout",
     "output_type": "stream",
     "text": [
      "Shape of test: torch.Size([10, 1, 4, 129])\n"
     ]
    },
    {
     "ename": "RuntimeError",
     "evalue": "invalid argument 2: view size is not compatible with input tensor's size and stride (at least one dimension spans across two contiguous subspaces). Call .contiguous() before .view(). at /pytorch/aten/src/TH/generic/THTensor.cpp:213",
     "output_type": "error",
     "traceback": [
      "\u001b[0;31m---------------------------------------------------------------------------\u001b[0m",
      "\u001b[0;31mRuntimeError\u001b[0m                              Traceback (most recent call last)",
      "\u001b[0;32m<ipython-input-56-2b6c609d8f0e>\u001b[0m in \u001b[0;36m<module>\u001b[0;34m\u001b[0m\n\u001b[0;32m----> 1\u001b[0;31m \u001b[0mtrain_model_3\u001b[0m\u001b[0;34m(\u001b[0m\u001b[0mmodel1\u001b[0m\u001b[0;34m,\u001b[0m\u001b[0moptimizer\u001b[0m\u001b[0;34m,\u001b[0m\u001b[0mnb_epochs\u001b[0m\u001b[0;34m,\u001b[0m\u001b[0mtraining_data\u001b[0m\u001b[0;34m,\u001b[0m\u001b[0mtraining_targets\u001b[0m\u001b[0;34m,\u001b[0m\u001b[0mmini_batch_size\u001b[0m\u001b[0;34m)\u001b[0m\u001b[0;34m\u001b[0m\u001b[0m\n\u001b[0m",
      "\u001b[0;32m<ipython-input-55-1710aeaa5a05>\u001b[0m in \u001b[0;36mtrain_model_3\u001b[0;34m(model, optimizer, nb_epochs, train_input, train_target, mini_batch_size)\u001b[0m\n\u001b[1;32m      7\u001b[0m             \u001b[0mstart\u001b[0m \u001b[0;34m=\u001b[0m \u001b[0mtime\u001b[0m\u001b[0;34m.\u001b[0m\u001b[0mtime\u001b[0m\u001b[0;34m(\u001b[0m\u001b[0;34m)\u001b[0m\u001b[0;34m\u001b[0m\u001b[0m\n\u001b[1;32m      8\u001b[0m             \u001b[0;31m#print(\"Shape of the input of the model:\",train_input.narrow(0, b, mini_batch_size).shape)\u001b[0m\u001b[0;34m\u001b[0m\u001b[0;34m\u001b[0m\u001b[0m\n\u001b[0;32m----> 9\u001b[0;31m             \u001b[0moutput\u001b[0m \u001b[0;34m=\u001b[0m \u001b[0mmodel\u001b[0m\u001b[0;34m(\u001b[0m\u001b[0mtrain_input\u001b[0m\u001b[0;34m.\u001b[0m\u001b[0mnarrow\u001b[0m\u001b[0;34m(\u001b[0m\u001b[0;36m0\u001b[0m\u001b[0;34m,\u001b[0m \u001b[0mb\u001b[0m\u001b[0;34m,\u001b[0m \u001b[0mmini_batch_size\u001b[0m\u001b[0;34m)\u001b[0m\u001b[0;34m,\u001b[0m\u001b[0;36m4\u001b[0m\u001b[0;34m)\u001b[0m\u001b[0;34m\u001b[0m\u001b[0m\n\u001b[0m\u001b[1;32m     10\u001b[0m             \u001b[0mtarget\u001b[0m \u001b[0;34m=\u001b[0m \u001b[0mtrain_target\u001b[0m\u001b[0;34m.\u001b[0m\u001b[0mnarrow\u001b[0m\u001b[0;34m(\u001b[0m\u001b[0;36m0\u001b[0m\u001b[0;34m,\u001b[0m \u001b[0mb\u001b[0m\u001b[0;34m,\u001b[0m \u001b[0mmini_batch_size\u001b[0m\u001b[0;34m)\u001b[0m\u001b[0;34m\u001b[0m\u001b[0m\n\u001b[1;32m     11\u001b[0m             \u001b[0mindices\u001b[0m \u001b[0;34m=\u001b[0m \u001b[0moutput\u001b[0m\u001b[0;34m.\u001b[0m\u001b[0margmax\u001b[0m\u001b[0;34m(\u001b[0m\u001b[0;36m1\u001b[0m\u001b[0;34m)\u001b[0m\u001b[0;34m\u001b[0m\u001b[0m\n",
      "\u001b[0;32m~/test/lib/python3.5/site-packages/torch/nn/modules/module.py\u001b[0m in \u001b[0;36m__call__\u001b[0;34m(self, *input, **kwargs)\u001b[0m\n\u001b[1;32m    487\u001b[0m             \u001b[0mresult\u001b[0m \u001b[0;34m=\u001b[0m \u001b[0mself\u001b[0m\u001b[0;34m.\u001b[0m\u001b[0m_slow_forward\u001b[0m\u001b[0;34m(\u001b[0m\u001b[0;34m*\u001b[0m\u001b[0minput\u001b[0m\u001b[0;34m,\u001b[0m \u001b[0;34m**\u001b[0m\u001b[0mkwargs\u001b[0m\u001b[0;34m)\u001b[0m\u001b[0;34m\u001b[0m\u001b[0m\n\u001b[1;32m    488\u001b[0m         \u001b[0;32melse\u001b[0m\u001b[0;34m:\u001b[0m\u001b[0;34m\u001b[0m\u001b[0m\n\u001b[0;32m--> 489\u001b[0;31m             \u001b[0mresult\u001b[0m \u001b[0;34m=\u001b[0m \u001b[0mself\u001b[0m\u001b[0;34m.\u001b[0m\u001b[0mforward\u001b[0m\u001b[0;34m(\u001b[0m\u001b[0;34m*\u001b[0m\u001b[0minput\u001b[0m\u001b[0;34m,\u001b[0m \u001b[0;34m**\u001b[0m\u001b[0mkwargs\u001b[0m\u001b[0;34m)\u001b[0m\u001b[0;34m\u001b[0m\u001b[0m\n\u001b[0m\u001b[1;32m    490\u001b[0m         \u001b[0;32mfor\u001b[0m \u001b[0mhook\u001b[0m \u001b[0;32min\u001b[0m \u001b[0mself\u001b[0m\u001b[0;34m.\u001b[0m\u001b[0m_forward_hooks\u001b[0m\u001b[0;34m.\u001b[0m\u001b[0mvalues\u001b[0m\u001b[0;34m(\u001b[0m\u001b[0;34m)\u001b[0m\u001b[0;34m:\u001b[0m\u001b[0;34m\u001b[0m\u001b[0m\n\u001b[1;32m    491\u001b[0m             \u001b[0mhook_result\u001b[0m \u001b[0;34m=\u001b[0m \u001b[0mhook\u001b[0m\u001b[0;34m(\u001b[0m\u001b[0mself\u001b[0m\u001b[0;34m,\u001b[0m \u001b[0minput\u001b[0m\u001b[0;34m,\u001b[0m \u001b[0mresult\u001b[0m\u001b[0;34m)\u001b[0m\u001b[0;34m\u001b[0m\u001b[0m\n",
      "\u001b[0;32m<ipython-input-50-e867d3df8080>\u001b[0m in \u001b[0;36mforward\u001b[0;34m(self, x, n)\u001b[0m\n\u001b[1;32m     17\u001b[0m         \u001b[0;32mfor\u001b[0m \u001b[0mi\u001b[0m \u001b[0;32min\u001b[0m \u001b[0mrange\u001b[0m\u001b[0;34m(\u001b[0m\u001b[0mn\u001b[0m\u001b[0;34m)\u001b[0m\u001b[0;34m:\u001b[0m\u001b[0;34m\u001b[0m\u001b[0m\n\u001b[1;32m     18\u001b[0m \u001b[0;34m\u001b[0m\u001b[0m\n\u001b[0;32m---> 19\u001b[0;31m             \u001b[0my\u001b[0m \u001b[0;34m=\u001b[0m \u001b[0mx\u001b[0m\u001b[0;34m[\u001b[0m\u001b[0;34m:\u001b[0m\u001b[0;34m,\u001b[0m\u001b[0;34m:\u001b[0m\u001b[0;34m,\u001b[0m\u001b[0mi\u001b[0m\u001b[0;34m,\u001b[0m\u001b[0;34m:\u001b[0m\u001b[0;34m,\u001b[0m\u001b[0;34m:\u001b[0m\u001b[0;34m]\u001b[0m\u001b[0;34m.\u001b[0m\u001b[0mview\u001b[0m\u001b[0;34m(\u001b[0m\u001b[0;34m-\u001b[0m\u001b[0;36m1\u001b[0m\u001b[0;34m,\u001b[0m\u001b[0;36m1\u001b[0m\u001b[0;34m,\u001b[0m\u001b[0;36m4\u001b[0m\u001b[0;34m,\u001b[0m\u001b[0;36m129\u001b[0m\u001b[0;34m)\u001b[0m\u001b[0;34m\u001b[0m\u001b[0m\n\u001b[0m\u001b[1;32m     20\u001b[0m             \u001b[0my\u001b[0m \u001b[0;34m=\u001b[0m \u001b[0mF\u001b[0m\u001b[0;34m.\u001b[0m\u001b[0mrelu\u001b[0m\u001b[0;34m(\u001b[0m\u001b[0mself\u001b[0m\u001b[0;34m.\u001b[0m\u001b[0mconv1\u001b[0m\u001b[0;34m(\u001b[0m\u001b[0my\u001b[0m\u001b[0;34m)\u001b[0m\u001b[0;34m)\u001b[0m\u001b[0;34m\u001b[0m\u001b[0m\n\u001b[1;32m     21\u001b[0m             \u001b[0my\u001b[0m \u001b[0;34m=\u001b[0m \u001b[0mF\u001b[0m\u001b[0;34m.\u001b[0m\u001b[0mrelu\u001b[0m\u001b[0;34m(\u001b[0m\u001b[0mself\u001b[0m\u001b[0;34m.\u001b[0m\u001b[0mconv2\u001b[0m\u001b[0;34m(\u001b[0m\u001b[0my\u001b[0m\u001b[0;34m)\u001b[0m\u001b[0;34m)\u001b[0m\u001b[0;34m\u001b[0m\u001b[0m\n",
      "\u001b[0;31mRuntimeError\u001b[0m: invalid argument 2: view size is not compatible with input tensor's size and stride (at least one dimension spans across two contiguous subspaces). Call .contiguous() before .view(). at /pytorch/aten/src/TH/generic/THTensor.cpp:213"
     ]
    }
   ],
   "source": [
    "train_model_3(model1,optimizer,nb_epochs,training_data,training_targets,mini_batch_size)"
   ]
  },
  {
   "cell_type": "code",
   "execution_count": 47,
   "metadata": {},
   "outputs": [
    {
     "data": {
      "text/plain": [
       "tensor([[[[1, 1, 1,  ..., 1, 0, 0],\n",
       "          [0, 0, 0,  ..., 0, 0, 0],\n",
       "          [0, 0, 0,  ..., 0, 0, 0],\n",
       "          ...,\n",
       "          [0, 0, 0,  ..., 0, 0, 0],\n",
       "          [0, 0, 0,  ..., 0, 0, 0],\n",
       "          [1, 1, 1,  ..., 1, 0, 0]],\n",
       "\n",
       "         [[0, 0, 1,  ..., 0, 1, 1],\n",
       "          [0, 0, 0,  ..., 0, 0, 0],\n",
       "          [0, 0, 0,  ..., 0, 0, 0],\n",
       "          ...,\n",
       "          [0, 0, 0,  ..., 0, 0, 0],\n",
       "          [0, 0, 0,  ..., 0, 0, 0],\n",
       "          [0, 1, 1,  ..., 0, 1, 1]],\n",
       "\n",
       "         [[0, 1, 1,  ..., 1, 0, 1],\n",
       "          [0, 0, 0,  ..., 0, 0, 0],\n",
       "          [0, 0, 0,  ..., 0, 0, 0],\n",
       "          ...,\n",
       "          [0, 0, 0,  ..., 0, 0, 0],\n",
       "          [0, 0, 0,  ..., 0, 0, 0],\n",
       "          [0, 1, 0,  ..., 0, 1, 0]],\n",
       "\n",
       "         [[1, 1, 1,  ..., 0, 0, 1],\n",
       "          [0, 0, 0,  ..., 0, 0, 0],\n",
       "          [0, 0, 0,  ..., 0, 0, 0],\n",
       "          ...,\n",
       "          [0, 0, 0,  ..., 0, 0, 0],\n",
       "          [0, 0, 0,  ..., 0, 0, 0],\n",
       "          [1, 1, 1,  ..., 0, 0, 1]]]], dtype=torch.uint8)"
      ]
     },
     "execution_count": 47,
     "metadata": {},
     "output_type": "execute_result"
    }
   ],
   "source": [
    "training_data[0] == training_data[1]"
   ]
  },
  {
   "cell_type": "code",
   "execution_count": null,
   "metadata": {},
   "outputs": [],
   "source": []
  }
 ],
 "metadata": {
  "kernelspec": {
   "display_name": "semesterproject",
   "language": "python",
   "name": "semesterproject"
  },
  "language_info": {
   "codemirror_mode": {
    "name": "ipython",
    "version": 3
   },
   "file_extension": ".py",
   "mimetype": "text/x-python",
   "name": "python",
   "nbconvert_exporter": "python",
   "pygments_lexer": "ipython3",
   "version": "3.5.2"
  }
 },
 "nbformat": 4,
 "nbformat_minor": 1
}
