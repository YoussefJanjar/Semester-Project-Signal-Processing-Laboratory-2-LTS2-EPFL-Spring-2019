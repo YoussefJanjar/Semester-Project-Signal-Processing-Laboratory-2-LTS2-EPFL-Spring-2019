{
 "cells": [
  {
   "cell_type": "markdown",
   "metadata": {},
   "source": [
    "# Creation of the CNN"
   ]
  },
  {
   "cell_type": "markdown",
   "metadata": {},
   "source": [
    "### Importations "
   ]
  },
  {
   "cell_type": "code",
   "execution_count": 22,
   "metadata": {},
   "outputs": [
    {
     "name": "stdout",
     "output_type": "stream",
     "text": [
      "1.0.1.post2\n"
     ]
    }
   ],
   "source": [
    "import torch\n",
    "import matplotlib.pyplot as plt\n",
    "import numpy as np\n",
    "import pickle as pkl\n",
    "\n",
    "\n",
    "from torch.autograd import Variable\n",
    "from torch import nn, optim\n",
    "from torch.nn import functional as F\n",
    "from matplotlib import gridspec\n",
    "\n",
    "\n",
    "\n",
    "\n",
    "print(torch.__version__)"
   ]
  },
  {
   "cell_type": "markdown",
   "metadata": {},
   "source": [
    "### The Aim "
   ]
  },
  {
   "cell_type": "markdown",
   "metadata": {},
   "source": [
    "Some explation about the purpose of this project."
   ]
  },
  {
   "cell_type": "markdown",
   "metadata": {},
   "source": [
    "### The Data"
   ]
  },
  {
   "cell_type": "markdown",
   "metadata": {},
   "source": [
    "Some insight about the data."
   ]
  },
  {
   "cell_type": "code",
   "execution_count": 7,
   "metadata": {},
   "outputs": [
    {
     "data": {
      "text/plain": [
       "(4, 129, 391)"
      ]
     },
     "execution_count": 7,
     "metadata": {},
     "output_type": "execute_result"
    }
   ],
   "source": [
    "path = \"/Users/youssef/Documents/EPFL/Semester_Project/Dataset/Training_Set/\"\n",
    "i = 0\n",
    "name_matrix = 'Phase_matrix-{}'.format(i)\n",
    "fileName_matrix = path + name_matrix\n",
    "fileObject2 = open(fileName_matrix, 'rb')\n",
    "matrix_loaded = pkl.load(fileObject2)\n",
    "fileObject2.close()\n",
    "matrix_loaded.shape"
   ]
  },
  {
   "cell_type": "code",
   "execution_count": 10,
   "metadata": {},
   "outputs": [
    {
     "data": {
      "text/plain": [
       "torch.Size([4, 129, 391])"
      ]
     },
     "execution_count": 10,
     "metadata": {},
     "output_type": "execute_result"
    }
   ],
   "source": [
    "input_matrix = torch.from_numpy(matrix_loaded)\n",
    "input_matrix.shape"
   ]
  },
  {
   "cell_type": "code",
   "execution_count": 15,
   "metadata": {},
   "outputs": [
    {
     "data": {
      "text/plain": [
       "torch.Size([4, 129])"
      ]
     },
     "execution_count": 15,
     "metadata": {},
     "output_type": "execute_result"
    }
   ],
   "source": [
    "entry_0 = input_matrix[:,:,0]\n",
    "entry_1 = input_matrix[:,:,1]\n",
    "entry_1.shape"
   ]
  },
  {
   "cell_type": "code",
   "execution_count": 16,
   "metadata": {},
   "outputs": [
    {
     "name": "stdout",
     "output_type": "stream",
     "text": [
      "tensor([[ 0.0000,  2.8534, -0.5692,  2.9665, -0.4263,  2.2344, -1.4747,  0.9297,\n",
      "         -3.0825, -1.0535,  0.2547,  1.8189, -2.4863, -0.4523,  1.5612, -2.7220,\n",
      "          2.2715, -1.8627,  0.5654, -3.1359, -0.8316,  1.4329, -2.3811,  0.1028,\n",
      "          2.3067, -1.9903, -0.8604, -0.3021,  2.1982, -0.6610,  2.0235, -1.8368,\n",
      "          0.4240,  2.5568,  1.7967, -2.6605, -0.5472,  1.6812, -2.4658, -0.6109,\n",
      "         -2.8083, -0.1471,  2.0608, -1.8337,  0.7423, -2.8139,  0.4357, -2.9456,\n",
      "         -0.4465,  2.0456, -1.6719,  1.6181, -0.8847,  1.6925, -1.9949,  0.6550,\n",
      "         -3.0987, -0.7842,  1.4027, -2.4502, -0.0534,  1.7129, -2.7982, -0.8450,\n",
      "          1.3179, -2.6680, -0.4174,  1.6940, -2.6275, -0.8163,  0.9601, -2.8364,\n",
      "         -0.0389,  1.9756, -2.3597, -0.2785,  2.0569, -1.6751,  1.1894, -2.3498,\n",
      "         -0.0112,  2.2497, -1.7075,  0.6950,  3.1328, -0.7237,  1.6851, -2.0336,\n",
      "          1.1027, -2.4069, -0.0868,  2.1756, -1.4853,  1.5618, -2.8476, -1.6588,\n",
      "         -0.1933,  0.9288,  2.0466, -2.3565, -0.1023,  2.6906, -0.8221,  1.5797,\n",
      "         -2.2013,  1.1153, -2.3533,  0.0916, -2.5930,  0.3291,  2.5252, -1.5772,\n",
      "          0.7826, -2.9139, -0.5486,  1.1809,  2.0680, -2.1057,  0.8897, -2.8181,\n",
      "         -0.4493,  2.0855, -1.5898,  0.8465, -0.5445,  1.7648, -2.3018,  0.1044,\n",
      "          3.1416],\n",
      "        [ 0.0000,  1.9923,  3.0356, -2.1497,  0.0883,  2.4352, -1.2908, -2.7550,\n",
      "          0.1142,  2.5432, -1.3169,  1.4767, -1.9265,  0.9264, -1.5751,  0.6206,\n",
      "          1.3197,  2.3416, -2.2303, -0.3994,  1.7936, -1.8968,  0.4751,  2.7092,\n",
      "         -1.2461,  2.3492, -0.1849,  2.3805, -1.3712,  1.2291, -2.3147,  0.4551,\n",
      "          3.1148, -0.5707,  1.9294, -1.8804,  0.8057, -2.7291, -0.1709,  2.3773,\n",
      "         -1.0912,  2.1980, -0.9605,  1.8360, -1.4536,  2.3686, -1.1016,  1.5435,\n",
      "         -1.9280,  0.8919, -2.5934,  1.1170, -2.2668,  0.1174,  2.3876, -1.8549,\n",
      "         -0.2703,  1.7798, -1.9623,  0.8627, -2.6785, -0.2158,  2.2640, -0.1820,\n",
      "          2.6272, -1.1601,  1.3727, -2.9251, -1.1374,  1.0303, -2.4157,  0.6311,\n",
      "         -2.9572, -0.2992,  2.6671, -0.4741,  2.6598,  0.1754,  2.6896, -1.3644,\n",
      "          0.7470,  2.7799, -1.2077,  1.6467, -2.1717,  0.3025, -2.7972,  0.6327,\n",
      "         -3.1001, -0.8478,  1.1582,  0.6883,  2.8772, -0.9307,  1.5954, -2.2938,\n",
      "          0.0097,  2.2111,  2.2816, -1.8781,  0.5167,  2.7195, -1.4672,  0.6130,\n",
      "          0.8227,  2.6094, -1.4422,  0.8526, -2.9767, -0.2584,  2.7003, -0.7834,\n",
      "          1.7763, -0.7997,  3.0231, -0.5300,  2.2361, -1.3603,  1.3798, -2.0433,\n",
      "          0.8969, -2.3910,  0.5826, -1.5327,  1.1685, -2.7991, -0.5138,  1.8035,\n",
      "          3.1416],\n",
      "        [ 0.0000,  2.9401, -0.2486,  2.6273, -0.8264,  2.5627, -1.0272,  1.2696,\n",
      "         -2.2964,  2.0271, -1.8315,  2.4580, -0.1245,  2.3916, -1.7331,  0.1421,\n",
      "          1.3910, -2.9300, -0.5447,  1.9251, -1.7299,  0.9245, -2.7701,  0.0894,\n",
      "         -3.0937, -0.4143,  2.2153, -0.9155,  2.3160, -1.3784,  1.1146, -2.4414,\n",
      "          0.5529, -2.9693, -0.5404,  1.3046,  1.4689, -2.9354, -0.8585,  1.3349,\n",
      "         -2.5206, -0.0311,  0.1574,  2.1480, -2.1541, -0.3541,  1.1026,  2.7789,\n",
      "         -1.1290,  1.7749, -1.8817,  0.5755, -2.2517,  0.8050,  2.9771, -1.4151,\n",
      "          0.1659,  2.0695, -1.8382,  1.3962, -1.8316,  0.6881, -3.1367, -0.7272,\n",
      "          1.5060,  1.0887,  3.1198, -0.9570,  1.3112, -2.4922,  2.5090, -1.1238,\n",
      "          1.8467, -1.7952,  0.4428, -0.2205,  2.0679, -0.7869,  2.2320, -1.6592,\n",
      "          0.9126, -1.8267,  1.1366, -2.3473,  0.8204, -2.5014,  0.3326, -3.1131,\n",
      "         -0.4959,  1.7966, -2.5626, -1.3434, -0.2704,  1.3597,  3.0347,  2.0757,\n",
      "         -2.2557, -0.1766,  2.0489, -1.7874,  0.8355, -0.1393,  2.6522, -0.8918,\n",
      "          1.9388, -1.6734,  0.9919, -2.5822,  0.1330, -3.0639,  0.6159, -2.8186,\n",
      "         -0.0901,  2.7692, -0.8079,  1.6765, -2.1528,  0.5431, -1.5349,  1.4150,\n",
      "         -2.5086, -0.1802,  2.3913, -1.1518,  1.5501, -1.5578,  1.2221, -2.5877,\n",
      "          0.0000],\n",
      "        [ 0.0000,  2.8534, -0.5692,  2.9665, -0.4263,  2.2344, -1.4747,  0.9297,\n",
      "         -3.0825, -1.0535,  0.2547,  1.8189, -2.4863, -0.4523,  1.5612, -2.7220,\n",
      "          2.2715, -1.8627,  0.5654, -3.1359, -0.8316,  1.4329, -2.3811,  0.1028,\n",
      "          2.3067, -1.9903, -0.8604, -0.3021,  2.1982, -0.6610,  2.0235, -1.8368,\n",
      "          0.4240,  2.5568,  1.7967, -2.6605, -0.5472,  1.6812, -2.4658, -0.6109,\n",
      "         -2.8083, -0.1471,  2.0608, -1.8337,  0.7423, -2.8139,  0.4357, -2.9456,\n",
      "         -0.4465,  2.0456, -1.6719,  1.6181, -0.8847,  1.6925, -1.9949,  0.6550,\n",
      "         -3.0987, -0.7842,  1.4027, -2.4502, -0.0534,  1.7129, -2.7982, -0.8450,\n",
      "          1.3179, -2.6680, -0.4174,  1.6940, -2.6275, -0.8163,  0.9601, -2.8364,\n",
      "         -0.0389,  1.9756, -2.3597, -0.2785,  2.0569, -1.6751,  1.1894, -2.3498,\n",
      "         -0.0112,  2.2497, -1.7075,  0.6950,  3.1328, -0.7237,  1.6851, -2.0336,\n",
      "          1.1027, -2.4069, -0.0868,  2.1756, -1.4853,  1.5618, -2.8476, -1.6588,\n",
      "         -0.1933,  0.9288,  2.0466, -2.3565, -0.1023,  2.6906, -0.8221,  1.5797,\n",
      "         -2.2013,  1.1153, -2.3533,  0.0916, -2.5930,  0.3291,  2.5252, -1.5772,\n",
      "          0.7826, -2.9139, -0.5486,  1.1809,  2.0680, -2.1057,  0.8897, -2.8181,\n",
      "         -0.4493,  2.0855, -1.5898,  0.8465, -0.5445,  1.7648, -2.3018,  0.1044,\n",
      "          3.1416]], dtype=torch.float64)\n"
     ]
    }
   ],
   "source": [
    "print(entry_0)"
   ]
  },
  {
   "cell_type": "code",
   "execution_count": 27,
   "metadata": {},
   "outputs": [
    {
     "data": {
      "image/png": "[encoded data removed]",
      "text/plain": [
       "<Figure size 720x7200 with 2 Axes>"
      ]
     },
     "metadata": {
      "needs_background": "light"
     },
     "output_type": "display_data"
    }
   ],
   "source": [
    "fig = plt.figure(figsize=(10,100))\n",
    "           \n",
    "ax1 = plt.subplot(2,2,1)\n",
    "ax1.imshow(entry_0)\n",
    "ax1.set_xlim([0, 130])\n",
    "ax1.set_ylim([0, 5])\n",
    "ax1.set_title('first entry')\n",
    "\n",
    "\n",
    "ax2 = plt.subplot(2,2,2)\n",
    "ax2.imshow(entry_1)\n",
    "ax2.set_xlim([0, 130])\n",
    "ax2.set_ylim([0, 5])\n",
    "ax2.set_title('second entry')\n",
    "\n",
    "\n",
    "plt.show()"
   ]
  },
  {
   "cell_type": "code",
   "execution_count": 55,
   "metadata": {},
   "outputs": [
    {
     "data": {
      "text/plain": [
       "torch.Size([391, 37])"
      ]
     },
     "execution_count": 55,
     "metadata": {},
     "output_type": "execute_result"
    }
   ],
   "source": [
    "target = torch.zeros([391, 37], dtype=torch.float64)\n",
    "target[0,0] = 1\n",
    "target.shape"
   ]
  },
  {
   "cell_type": "markdown",
   "metadata": {},
   "source": [
    "# Architecture 1.0 : vanilla CNN for DOA "
   ]
  },
  {
   "cell_type": "markdown",
   "metadata": {},
   "source": [
    "In this section, we will focus on building a vanilla CNN in order to recognize the directions of arrival of the sound in a specific room. Once done, we will then compare \"by hand\" the labelel dataset to the predicted values. This is the most basic setup and will try to improve latter."
   ]
  },
  {
   "cell_type": "markdown",
   "metadata": {},
   "source": [
    "## 1.1 Creating Model"
   ]
  },
  {
   "cell_type": "code",
   "execution_count": 4,
   "metadata": {},
   "outputs": [],
   "source": [
    "class Net(nn.Module):\n",
    "    def __init__(self,nb_hidden = 512):\n",
    "        super(Net, self).__init__()\n",
    "        self.conv1 = nn.Conv2d(1, 64, kernel_size=2)\n",
    "        self.conv2 = nn.Conv2d(64, 64, kernel_size=2)\n",
    "        self.conv3 = nn.Conv2d(64 , 64, kernel_size=2)\n",
    "        self.fc1 = nn.Linear(8064, nb_hidden) # (1x8064) being the dim of the censor obtained by flattening the output of the 3rd CL.\n",
    "        self.fc2 = nn.Linear(nb_hidden, 37)\n",
    "\n",
    "    def forward(self, x):\n",
    "        x = F.relu(self.conv1(x))\n",
    "        x = F.relu(self.conv2(x))\n",
    "        x = F.relu(self.conv3(x))\n",
    "        x = F.relu(self.fc1(x.view(-1, 512)))\n",
    "        x = f.softmax(self.fc2(x),dim=0)\n",
    "        return x"
   ]
  },
  {
   "cell_type": "markdown",
   "metadata": {},
   "source": [
    "### Preparing the Data"
   ]
  },
  {
   "cell_type": "code",
   "execution_count": 31,
   "metadata": {},
   "outputs": [],
   "source": [
    "def prep_input_vanilla(train_input):\n",
    "    new_train_input = train_input.view(-1,1,4,129)\n",
    "    return new_train_input"
   ]
  },
  {
   "cell_type": "code",
   "execution_count": 34,
   "metadata": {},
   "outputs": [
    {
     "data": {
      "text/plain": [
       "torch.Size([391, 1, 4, 129])"
      ]
     },
     "execution_count": 34,
     "metadata": {},
     "output_type": "execute_result"
    }
   ],
   "source": [
    "train_data = prep_input_vanilla(input_matrix)\n",
    "train_data.shape"
   ]
  },
  {
   "cell_type": "code",
   "execution_count": 49,
   "metadata": {},
   "outputs": [],
   "source": [
    "def prep_labels_vanilla(train_input):\n",
    "    new_train_input = train_input.view(-1,1,1,37)\n",
    "    return new_train_input"
   ]
  },
  {
   "cell_type": "code",
   "execution_count": 56,
   "metadata": {},
   "outputs": [
    {
     "data": {
      "text/plain": [
       "torch.Size([391, 1, 1, 37])"
      ]
     },
     "execution_count": 56,
     "metadata": {},
     "output_type": "execute_result"
    }
   ],
   "source": [
    "train_labels = prep_labels_vanilla(target)\n",
    "train_labels.shape"
   ]
  },
  {
   "cell_type": "code",
   "execution_count": 61,
   "metadata": {},
   "outputs": [
    {
     "data": {
      "text/plain": [
       "tensor([[[[1., 0., 0.,  ..., 0., 0., 0.]]],\n",
       "\n",
       "\n",
       "        [[[0., 0., 0.,  ..., 0., 0., 0.]]],\n",
       "\n",
       "\n",
       "        [[[0., 0., 0.,  ..., 0., 0., 0.]]],\n",
       "\n",
       "\n",
       "        ...,\n",
       "\n",
       "\n",
       "        [[[0., 0., 0.,  ..., 0., 0., 0.]]],\n",
       "\n",
       "\n",
       "        [[[0., 0., 0.,  ..., 0., 0., 0.]]],\n",
       "\n",
       "\n",
       "        [[[0., 0., 0.,  ..., 0., 0., 0.]]]], dtype=torch.float64)"
      ]
     },
     "execution_count": 61,
     "metadata": {},
     "output_type": "execute_result"
    }
   ],
   "source": [
    "Variable(train_labels)"
   ]
  },
  {
   "cell_type": "code",
   "execution_count": 62,
   "metadata": {},
   "outputs": [
    {
     "data": {
      "text/plain": [
       "tensor([[[[ 0.0000e+00,  3.1416e+00,  0.0000e+00,  ...,  3.1416e+00,\n",
       "            3.1416e+00,  3.1416e+00],\n",
       "          [ 3.1416e+00,  3.1416e+00,  3.1416e+00,  ...,  3.1416e+00,\n",
       "            3.1416e+00,  3.1416e+00],\n",
       "          [ 3.1416e+00,  3.1416e+00,  3.1416e+00,  ...,  0.0000e+00,\n",
       "            0.0000e+00,  0.0000e+00],\n",
       "          [ 3.1416e+00,  3.1416e+00,  0.0000e+00,  ..., -1.1257e+00,\n",
       "           -4.2637e-01,  1.0603e+00]]],\n",
       "\n",
       "\n",
       "        [[[-9.3605e-01,  1.2452e+00, -1.0206e+00,  ..., -9.0426e-02,\n",
       "           -2.0209e+00, -2.0504e-02],\n",
       "          [-1.3125e-01, -5.2675e-01, -2.3391e-01,  ...,  1.6501e+00,\n",
       "           -2.3760e-03,  2.8715e-01],\n",
       "          [-1.1397e+00,  3.0498e+00, -2.9536e+00,  ...,  2.6554e+00,\n",
       "           -2.1434e+00, -1.9488e+00],\n",
       "          [ 2.2076e+00, -1.6177e+00,  3.7061e-01,  ..., -2.6644e+00,\n",
       "           -1.9801e-01,  1.8398e-01]]],\n",
       "\n",
       "\n",
       "        [[[-2.6617e+00,  2.7569e+00,  2.2935e-01,  ...,  1.3641e+00,\n",
       "           -8.7837e-01,  1.1644e+00],\n",
       "          [-3.0284e+00, -2.3442e+00, -2.6803e+00,  ..., -2.6215e+00,\n",
       "            5.3012e-01, -6.9221e-01],\n",
       "          [-2.4651e+00,  7.5066e-01, -2.8221e-02,  ..., -2.4543e-01,\n",
       "           -8.6877e-01, -8.7286e-01],\n",
       "          [-5.9699e-01,  1.0065e+00,  2.0771e+00,  ..., -2.7309e+00,\n",
       "            2.8661e+00, -2.7924e+00]]],\n",
       "\n",
       "\n",
       "        ...,\n",
       "\n",
       "\n",
       "        [[[ 3.6190e-01,  6.8259e-01,  1.0893e+00,  ...,  1.2123e+00,\n",
       "           -2.4720e-02, -2.1920e+00],\n",
       "          [-1.0855e+00, -1.5733e+00,  3.8412e-01,  ...,  2.7734e+00,\n",
       "           -1.0928e+00,  3.0248e+00],\n",
       "          [-2.9985e+00, -2.2472e+00,  2.7417e-01,  ..., -4.2514e-01,\n",
       "           -8.5232e-01, -2.1295e-01],\n",
       "          [ 1.2255e+00, -2.7580e+00, -8.1081e-01,  ..., -2.7187e+00,\n",
       "            1.6326e+00,  5.7543e-01]]],\n",
       "\n",
       "\n",
       "        [[[ 1.4239e-01, -1.2846e+00,  2.8056e+00,  ..., -1.7852e-01,\n",
       "           -6.0929e-01,  2.3248e+00],\n",
       "          [ 2.5985e+00, -1.5486e-01,  2.2138e+00,  ...,  3.0219e+00,\n",
       "            3.7917e-01,  1.8829e-01],\n",
       "          [ 1.1104e+00,  1.6934e+00,  2.4277e+00,  ...,  1.0009e+00,\n",
       "           -2.4434e+00,  1.1073e+00],\n",
       "          [ 3.0485e+00,  2.6777e+00,  3.1072e-01,  ...,  2.2537e+00,\n",
       "           -2.0004e+00, -1.6174e+00]]],\n",
       "\n",
       "\n",
       "        [[[ 2.6732e+00,  9.4350e-01, -2.3906e+00,  ...,  0.0000e+00,\n",
       "            0.0000e+00,  0.0000e+00],\n",
       "          [ 0.0000e+00,  0.0000e+00,  3.1416e+00,  ...,  3.1416e+00,\n",
       "            3.1416e+00,  3.1416e+00],\n",
       "          [ 3.1416e+00,  0.0000e+00,  0.0000e+00,  ...,  0.0000e+00,\n",
       "            0.0000e+00,  0.0000e+00],\n",
       "          [ 0.0000e+00,  0.0000e+00,  3.1416e+00,  ...,  3.1416e+00,\n",
       "            0.0000e+00,  0.0000e+00]]]], dtype=torch.float64)"
      ]
     },
     "execution_count": 62,
     "metadata": {},
     "output_type": "execute_result"
    }
   ],
   "source": [
    "Variable(train_data)"
   ]
  },
  {
   "cell_type": "code",
   "execution_count": null,
   "metadata": {},
   "outputs": [],
   "source": []
  },
  {
   "cell_type": "markdown",
   "metadata": {},
   "source": [
    "### End of Sanity check:"
   ]
  },
  {
   "cell_type": "markdown",
   "metadata": {},
   "source": [
    "## 1.2 Training the model"
   ]
  },
  {
   "cell_type": "code",
   "execution_count": 46,
   "metadata": {},
   "outputs": [],
   "source": [
    "mini_batch_size = 100 \n",
    "nb_epochs = 25\n",
    "eta = 0.001 #learning rate\n",
    "#criterion = nn.MSELoss() # MeanSquaredloss\n",
    "criterion = torch.nn.CrossEntropyLoss() #Cross Entropy"
   ]
  },
  {
   "cell_type": "code",
   "execution_count": 47,
   "metadata": {},
   "outputs": [],
   "source": [
    "def train_model(model, train_input, train_target, mini_batch_size, criterion, nb_epochs, eta):\n",
    "    \n",
    "    optimizer = torch.optim.SGD(model.parameters(), lr = eta, momentum = 0.95) #Stochastic gradient descent\n",
    "    \n",
    "    for e in range(0, nb_epochs):\n",
    "        # We do this with mini-batches\n",
    "        for b in range(0, train_input.size(0), mini_batch_size):\n",
    "            output = model(train_input.narrow(0, b, mini_batch_size))\n",
    "            target = train_target.narrow(0, b, mini_batch_size)\n",
    "            #loss = criterion(output,target)\n",
    "            loss = criterion(output,target.max(1)[1])\n",
    "            optimizer.zero_grad()\n",
    "            loss.backward()\n",
    "            optimizer.step()\n",
    "            \n",
    "        print(e, loss.data.item())\n",
    "    "
   ]
  },
  {
   "cell_type": "code",
   "execution_count": null,
   "metadata": {},
   "outputs": [],
   "source": []
  }
 ],
 "metadata": {
  "kernelspec": {
   "display_name": "semesterproject",
   "language": "python",
   "name": "semesterproject"
  },
  "language_info": {
   "codemirror_mode": {
    "name": "ipython",
    "version": 3
   },
   "file_extension": ".py",
   "mimetype": "text/x-python",
   "name": "python",
   "nbconvert_exporter": "python",
   "pygments_lexer": "ipython3",
   "version": "3.7.2"
  }
 },
 "nbformat": 4,
 "nbformat_minor": 2
}
